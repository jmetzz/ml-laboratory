{
 "cells": [
  {
   "cell_type": "markdown",
   "id": "cdcd93fa-8eec-429e-ad1a-6e3bbc6448ac",
   "metadata": {},
   "source": [
    "# Sandbox/Dump"
   ]
  },
  {
   "cell_type": "code",
   "execution_count": 1,
   "id": "bc2f6801-59ff-4475-b910-24704c00b1b9",
   "metadata": {},
   "outputs": [
    {
     "name": "stderr",
     "output_type": "stream",
     "text": [
      "Warning: Could not load \"/usr/local/Cellar/graphviz/2.49.0/lib/graphviz/libgvplugin_pango.6.dylib\" - It was found, so perhaps one of its dependents was not.  Try ldd.\n",
      "Warning: Could not load \"/usr/local/Cellar/graphviz/2.49.0/lib/graphviz/libgvplugin_pango.6.dylib\" - It was found, so perhaps one of its dependents was not.  Try ldd.\n",
      "Warning: Could not load \"/usr/local/Cellar/graphviz/2.49.0/lib/graphviz/libgvplugin_pango.6.dylib\" - It was found, so perhaps one of its dependents was not.  Try ldd.\n"
     ]
    },
    {
     "data": {
      "image/png": "[encoded data removed]",
      "text/plain": [
       "<IPython.core.display.Image object>"
      ]
     },
     "execution_count": 1,
     "metadata": {},
     "output_type": "execute_result"
    }
   ],
   "source": [
    "import pandas as pd\n",
    "import dask.dataframe as dd\n",
    "df = pd.DataFrame({'x': [1, 2, 3, 4, 5],\n",
    "                   'y': [1., 2., 3., 4., 5.]})\n",
    "ddf = dd.from_pandas(df, npartitions=2)\n",
    "\n",
    "res = ddf.map_partitions(lambda df: df.assign(z=df.x * df.y))\n",
    "res.visualize()"
   ]
  },
  {
   "cell_type": "code",
   "execution_count": null,
   "id": "c8b42f53-b006-42cf-bb6c-233ce513205d",
   "metadata": {},
   "outputs": [],
   "source": []
  }
 ],
 "metadata": {
  "kernelspec": {
   "display_name": "Python 3 (ipykernel)",
   "language": "python",
   "name": "python3"
  },
  "language_info": {
   "codemirror_mode": {
    "name": "ipython",
    "version": 3
   },
   "file_extension": ".py",
   "mimetype": "text/x-python",
   "name": "python",
   "nbconvert_exporter": "python",
   "pygments_lexer": "ipython3",
   "version": "3.8.2"
  }
 },
 "nbformat": 4,
 "nbformat_minor": 5
}
