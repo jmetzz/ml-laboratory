{
 "cells": [
  {
   "cell_type": "code",
   "execution_count": 1,
   "source": [
    "import pandas as pd\n",
    "import matplotlib.pyplot as plt\n",
    "from sklearn.linear_model import LinearRegression"
   ],
   "outputs": [],
   "metadata": {
    "pycharm": {
     "name": "#%%\n"
    }
   }
  },
  {
   "cell_type": "code",
   "execution_count": 2,
   "source": [
    "# Setup\n",
    "\n",
    "%matplotlib inline"
   ],
   "outputs": [],
   "metadata": {
    "collapsed": false,
    "pycharm": {
     "name": "#%%\n"
    }
   }
  },
  {
   "cell_type": "markdown",
   "source": [
    "# Load some house value vs. crime rate data\n",
    "\n",
    "Dataset is from Philadelphia, PA and includes average house sales price in a number of neighborhoods.  The attributes of each neighborhood we have include the crime rate ('CrimeRate'), miles from Center City ('MilesPhila'), town name ('Name'), and county name ('County')."
   ],
   "metadata": {}
  },
  {
   "cell_type": "code",
   "execution_count": 3,
   "source": [
    "sales = pd.read_csv('https://courses.cs.washington.edu/courses/cse416/18sp/notebooks/Philadelphia_Crime_Rate_noNA.csv')\n",
    "sales.head()"
   ],
   "outputs": [
    {
     "output_type": "execute_result",
     "data": {
      "text/html": [
       "<div>\n",
       "<style scoped>\n",
       "    .dataframe tbody tr th:only-of-type {\n",
       "        vertical-align: middle;\n",
       "    }\n",
       "\n",
       "    .dataframe tbody tr th {\n",
       "        vertical-align: top;\n",
       "    }\n",
       "\n",
       "    .dataframe thead th {\n",
       "        text-align: right;\n",
       "    }\n",
       "</style>\n",
       "<table border=\"1\" class=\"dataframe\">\n",
       "  <thead>\n",
       "    <tr style=\"text-align: right;\">\n",
       "      <th></th>\n",
       "      <th>HousePrice</th>\n",
       "      <th>HsPrc ($10,000)</th>\n",
       "      <th>CrimeRate</th>\n",
       "      <th>MilesPhila</th>\n",
       "      <th>PopChg</th>\n",
       "      <th>Name</th>\n",
       "      <th>County</th>\n",
       "    </tr>\n",
       "  </thead>\n",
       "  <tbody>\n",
       "    <tr>\n",
       "      <th>0</th>\n",
       "      <td>140463</td>\n",
       "      <td>14.0463</td>\n",
       "      <td>29.7</td>\n",
       "      <td>10.0</td>\n",
       "      <td>-1.0</td>\n",
       "      <td>Abington</td>\n",
       "      <td>Montgome</td>\n",
       "    </tr>\n",
       "    <tr>\n",
       "      <th>1</th>\n",
       "      <td>113033</td>\n",
       "      <td>11.3033</td>\n",
       "      <td>24.1</td>\n",
       "      <td>18.0</td>\n",
       "      <td>4.0</td>\n",
       "      <td>Ambler</td>\n",
       "      <td>Montgome</td>\n",
       "    </tr>\n",
       "    <tr>\n",
       "      <th>2</th>\n",
       "      <td>124186</td>\n",
       "      <td>12.4186</td>\n",
       "      <td>19.5</td>\n",
       "      <td>25.0</td>\n",
       "      <td>8.0</td>\n",
       "      <td>Aston</td>\n",
       "      <td>Delaware</td>\n",
       "    </tr>\n",
       "    <tr>\n",
       "      <th>3</th>\n",
       "      <td>110490</td>\n",
       "      <td>11.0490</td>\n",
       "      <td>49.4</td>\n",
       "      <td>25.0</td>\n",
       "      <td>2.7</td>\n",
       "      <td>Bensalem</td>\n",
       "      <td>Bucks</td>\n",
       "    </tr>\n",
       "    <tr>\n",
       "      <th>4</th>\n",
       "      <td>79124</td>\n",
       "      <td>7.9124</td>\n",
       "      <td>54.1</td>\n",
       "      <td>19.0</td>\n",
       "      <td>3.9</td>\n",
       "      <td>Bristol B.</td>\n",
       "      <td>Bucks</td>\n",
       "    </tr>\n",
       "  </tbody>\n",
       "</table>\n",
       "</div>"
      ],
      "text/plain": [
       "   HousePrice  HsPrc ($10,000)  CrimeRate  MilesPhila  PopChg        Name  \\\n",
       "0      140463          14.0463       29.7        10.0    -1.0    Abington   \n",
       "1      113033          11.3033       24.1        18.0     4.0      Ambler   \n",
       "2      124186          12.4186       19.5        25.0     8.0       Aston   \n",
       "3      110490          11.0490       49.4        25.0     2.7    Bensalem   \n",
       "4       79124           7.9124       54.1        19.0     3.9  Bristol B.   \n",
       "\n",
       "     County  \n",
       "0  Montgome  \n",
       "1  Montgome  \n",
       "2  Delaware  \n",
       "3     Bucks  \n",
       "4     Bucks  "
      ]
     },
     "metadata": {},
     "execution_count": 3
    }
   ],
   "metadata": {}
  },
  {
   "cell_type": "markdown",
   "source": [
    "# Exploring the data "
   ],
   "metadata": {}
  },
  {
   "cell_type": "markdown",
   "source": [
    "The house price in a town is correlated with the crime rate of that town. Low crime towns tend to be associated with higher house prices and vice versa."
   ],
   "metadata": {}
  },
  {
   "cell_type": "code",
   "execution_count": 4,
   "source": [
    "sales.plot.scatter(x=\"CrimeRate\", y=\"HousePrice\")"
   ],
   "outputs": [
    {
     "output_type": "execute_result",
     "data": {
      "text/plain": [
       "<AxesSubplot:xlabel='CrimeRate', ylabel='HousePrice'>"
      ]
     },
     "metadata": {},
     "execution_count": 4
    },
    {
     "output_type": "display_data",
     "data": {
      "image/png": "[encoded data removed]",
      "text/plain": [
       "<Figure size 432x288 with 1 Axes>"
      ]
     },
     "metadata": {
      "needs_background": "light"
     }
    }
   ],
   "metadata": {}
  },
  {
   "cell_type": "markdown",
   "source": [
    "# Fit the regression model using crime as the feature"
   ],
   "metadata": {}
  },
  {
   "cell_type": "code",
   "execution_count": 5,
   "source": [
    "features = sales[\"CrimeRate\"].to_numpy().reshape(-1, 1)\n",
    "target = sales[\"HousePrice\"].to_numpy().reshape(-1, 1)\n"
   ],
   "outputs": [
    {
     "output_type": "execute_result",
     "data": {
      "text/plain": [
       "array([[ 29.7],\n",
       "       [ 24.1],\n",
       "       [ 19.5],\n",
       "       [ 49.4],\n",
       "       [ 54.1],\n",
       "       [ 48.6],\n",
       "       [ 30.8],\n",
       "       [ 10.8],\n",
       "       [ 20.2],\n",
       "       [ 20.4],\n",
       "       [ 17.3],\n",
       "       [ 50.3],\n",
       "       [ 34.2],\n",
       "       [ 33.7],\n",
       "       [ 45.7],\n",
       "       [ 22.3],\n",
       "       [ 48.1],\n",
       "       [ 19.4],\n",
       "       [ 71.9],\n",
       "       [ 45.1],\n",
       "       [ 31.3],\n",
       "       [ 24.9],\n",
       "       [ 27.2],\n",
       "       [ 17.7],\n",
       "       [ 29. ],\n",
       "       [ 21.4],\n",
       "       [ 28.6],\n",
       "       [ 29.3],\n",
       "       [ 17.5],\n",
       "       [ 16.5],\n",
       "       [ 17.8],\n",
       "       [ 17.3],\n",
       "       [ 31.2],\n",
       "       [ 14.5],\n",
       "       [ 15.7],\n",
       "       [ 28.6],\n",
       "       [ 20.8],\n",
       "       [ 29.3],\n",
       "       [ 19.3],\n",
       "       [ 39.5],\n",
       "       [ 13. ],\n",
       "       [ 24.1],\n",
       "       [ 38. ],\n",
       "       [ 40.1],\n",
       "       [ 36.1],\n",
       "       [ 26.6],\n",
       "       [ 25.1],\n",
       "       [ 14.6],\n",
       "       [ 18.2],\n",
       "       [ 15.3],\n",
       "       [ 15.2],\n",
       "       [ 17.4],\n",
       "       [ 73.3],\n",
       "       [  7.1],\n",
       "       [ 12.5],\n",
       "       [ 45.8],\n",
       "       [ 44.9],\n",
       "       [ 65. ],\n",
       "       [ 49.9],\n",
       "       [ 54.8],\n",
       "       [ 53.5],\n",
       "       [ 69.9],\n",
       "       [366.1],\n",
       "       [ 24.6],\n",
       "       [ 58.6],\n",
       "       [ 53.2],\n",
       "       [ 17.4],\n",
       "       [ 15.5],\n",
       "       [ 14.5],\n",
       "       [ 24.1],\n",
       "       [ 21.2],\n",
       "       [  9.8],\n",
       "       [ 29.9],\n",
       "       [  7.2],\n",
       "       [ 19.4],\n",
       "       [ 41.1],\n",
       "       [ 11.2],\n",
       "       [ 21.2],\n",
       "       [ 42.8],\n",
       "       [  9.4],\n",
       "       [ 61.7],\n",
       "       [ 19.4],\n",
       "       [  6.6],\n",
       "       [ 15.9],\n",
       "       [ 18.8],\n",
       "       [ 13.2],\n",
       "       [ 34.5],\n",
       "       [ 22.1],\n",
       "       [ 22.1],\n",
       "       [ 71.9],\n",
       "       [ 31.9],\n",
       "       [ 44.6],\n",
       "       [ 28.6],\n",
       "       [ 24. ],\n",
       "       [ 13.8],\n",
       "       [ 29.9],\n",
       "       [  9.9],\n",
       "       [ 22.6],\n",
       "       [ 13. ]])"
      ]
     },
     "metadata": {},
     "execution_count": 5
    }
   ],
   "metadata": {}
  },
  {
   "cell_type": "code",
   "execution_count": 6,
   "source": [
    "crime_model = LinearRegression()\n",
    "regression = crime_model.fit(features, target)\n",
    "print(f\"coeficients: {regression.coef_}\")\n",
    "print(f\"intercept: {regression.intercept_}\")"
   ],
   "outputs": [
    {
     "output_type": "stream",
     "name": "stdout",
     "text": [
      "coeficients: [[-576.90812768]]\n",
      "intercept: [176629.40810695]\n"
     ]
    }
   ],
   "metadata": {}
  },
  {
   "cell_type": "code",
   "execution_count": 14,
   "source": [
    "crime_model.predict(features[0].reshape(-1, 1))"
   ],
   "outputs": [
    {
     "output_type": "execute_result",
     "data": {
      "text/plain": [
       "array([[159495.23671479]])"
      ]
     },
     "metadata": {},
     "execution_count": 14
    }
   ],
   "metadata": {}
  },
  {
   "cell_type": "markdown",
   "source": [
    "# Let's see what our fit looks like"
   ],
   "metadata": {}
  },
  {
   "cell_type": "markdown",
   "source": [
    "Matplotlib is a Python plotting library that is also useful for plotting.  You can install it with:\n",
    "\n",
    "'pip install matplotlib'"
   ],
   "metadata": {}
  },
  {
   "cell_type": "code",
   "execution_count": 15,
   "source": [
    "plt.plot(sales['CrimeRate'],sales['HousePrice'],'.',\n",
    "        sales['CrimeRate'], crime_model.predict(features),'-')"
   ],
   "outputs": [
    {
     "output_type": "execute_result",
     "data": {
      "text/plain": [
       "[<matplotlib.lines.Line2D at 0x13712e520>,\n",
       " <matplotlib.lines.Line2D at 0x13712e4f0>]"
      ]
     },
     "metadata": {},
     "execution_count": 15
    },
    {
     "output_type": "display_data",
     "data": {
      "image/png": "[encoded data removed]",
      "text/plain": [
       "<Figure size 432x288 with 1 Axes>"
      ]
     },
     "metadata": {
      "needs_background": "light"
     }
    }
   ],
   "metadata": {
    "scrolled": true
   }
  },
  {
   "cell_type": "markdown",
   "source": [
    "Above: blue dots are original data, green line is the fit from the simple regression."
   ],
   "metadata": {}
  },
  {
   "cell_type": "markdown",
   "source": [
    "# Remove Center City and redo the analysis"
   ],
   "metadata": {}
  },
  {
   "cell_type": "markdown",
   "source": [
    "Center City is the one observation with an extremely high crime rate, yet house prices are not very low.  This point does not follow the trend of the rest of the data very well.  A question is how much including Center City is influencing our fit on the other datapoints.  Let's remove this datapoint and see what happens."
   ],
   "metadata": {}
  },
  {
   "cell_type": "code",
   "execution_count": 16,
   "source": [
    "sales_noCC = sales[sales['MilesPhila'] != 0.0] "
   ],
   "outputs": [],
   "metadata": {}
  },
  {
   "cell_type": "code",
   "execution_count": 17,
   "source": [
    "sales_noCC.plot.scatter(x=\"CrimeRate\", y=\"HousePrice\")\n"
   ],
   "outputs": [
    {
     "output_type": "execute_result",
     "data": {
      "text/plain": [
       "<AxesSubplot:xlabel='CrimeRate', ylabel='HousePrice'>"
      ]
     },
     "metadata": {},
     "execution_count": 17
    },
    {
     "output_type": "display_data",
     "data": {
      "image/png": "[encoded data removed]",
      "text/plain": [
       "<Figure size 432x288 with 1 Axes>"
      ]
     },
     "metadata": {
      "needs_background": "light"
     }
    }
   ],
   "metadata": {}
  },
  {
   "cell_type": "markdown",
   "source": [
    "### Refit our simple regression model on this modified dataset:"
   ],
   "metadata": {}
  },
  {
   "cell_type": "code",
   "execution_count": 18,
   "source": [
    "features_noCC = sales_noCC[\"CrimeRate\"].to_numpy().reshape(-1, 1)\n",
    "target_noCC = sales_noCC[\"HousePrice\"].to_numpy().reshape(-1, 1)\n",
    "\n",
    "crime_model_noCC = LinearRegression()\n",
    "regression_noCC = crime_model_noCC.fit(features_noCC, target_noCC)\n",
    "print(f\"coeficients: {regression_noCC.coef_}\")\n",
    "print(f\"intercept: {regression_noCC.intercept_}\")"
   ],
   "outputs": [
    {
     "output_type": "stream",
     "name": "stdout",
     "text": [
      "coeficients: [[-2288.68942995]]\n",
      "intercept: [225233.551839]\n"
     ]
    }
   ],
   "metadata": {}
  },
  {
   "cell_type": "markdown",
   "source": [
    "### Look at the fit:"
   ],
   "metadata": {}
  },
  {
   "cell_type": "code",
   "execution_count": 19,
   "source": [
    "plt.plot(sales_noCC['CrimeRate'], sales_noCC['HousePrice'], '.',\n",
    "         sales_noCC['CrimeRate'], crime_model_noCC.predict(features_noCC), '-')\n"
   ],
   "outputs": [
    {
     "output_type": "execute_result",
     "data": {
      "text/plain": [
       "[<matplotlib.lines.Line2D at 0x137209220>,\n",
       " <matplotlib.lines.Line2D at 0x1372091f0>]"
      ]
     },
     "metadata": {},
     "execution_count": 19
    },
    {
     "output_type": "display_data",
     "data": {
      "image/png": "[encoded data removed]",
      "text/plain": [
       "<Figure size 432x288 with 1 Axes>"
      ]
     },
     "metadata": {
      "needs_background": "light"
     }
    }
   ],
   "metadata": {}
  },
  {
   "cell_type": "markdown",
   "source": [
    "# Compare coefficients for full-data fit versus no-Center-City fit"
   ],
   "metadata": {}
  },
  {
   "cell_type": "markdown",
   "source": [
    "Visually, the fit seems different, but let's quantify this by examining the estimated coefficients of our original fit and that of the modified dataset with Center City removed."
   ],
   "metadata": {}
  },
  {
   "cell_type": "code",
   "execution_count": 21,
   "source": [
    "print(f\"coeficients: {regression.coef_}\")\n",
    "print(f\"intercept: {regression.intercept_}\")"
   ],
   "outputs": [
    {
     "output_type": "stream",
     "name": "stdout",
     "text": [
      "coeficients: [[-576.90812768]]\n",
      "intercept: [176629.40810695]\n"
     ]
    }
   ],
   "metadata": {}
  },
  {
   "cell_type": "code",
   "execution_count": 22,
   "source": [
    "print(f\"coeficients: {regression_noCC.coef_}\")\n",
    "print(f\"intercept: {regression_noCC.intercept_}\")"
   ],
   "outputs": [
    {
     "output_type": "stream",
     "name": "stdout",
     "text": [
      "coeficients: [[-2288.68942995]]\n",
      "intercept: [225233.551839]\n"
     ]
    }
   ],
   "metadata": {}
  },
  {
   "cell_type": "markdown",
   "source": [
    "Above: We see that for the \"no Center City\" version, per unit increase in crime, the predicted decrease in house prices is 2,288.  In contrast, for the original dataset, the drop is only 576 per unit increase in crime.  This is significantly different!"
   ],
   "metadata": {}
  },
  {
   "cell_type": "markdown",
   "source": [
    "### High leverage points: \n",
    "Center City is said to be a \"high leverage\" point because it is at an extreme x value where there are not other observations.  As a result, recalling the closed-form solution for simple regression, this point has the *potential* to dramatically change the least squares line since the center of x mass is heavily influenced by this one point and the least squares line will try to fit close to that outlying (in x) point.  If a high leverage point follows the trend of the other data, this might not have much effect.  On the other hand, if this point somehow differs, it can be strongly influential in the resulting fit.\n",
    "\n",
    "### Influential observations:  \n",
    "An influential observation is one where the removal of the point significantly changes the fit.  As discussed above, high leverage points are good candidates for being influential observations, but need not be.  Other observations that are *not* leverage points can also be influential observations (e.g., strongly outlying in y even if x is a typical value)."
   ],
   "metadata": {}
  },
  {
   "cell_type": "markdown",
   "source": [
    "### Plotting the two models\n",
    "Confirm the above calculations by looking at the plots. The orange line is the model trained removing Center City, and the green line is the model trained on all the data. Notice how much steeper the green line is, since the drop in value is much higher according to this model."
   ],
   "metadata": {}
  },
  {
   "cell_type": "code",
   "execution_count": 23,
   "source": [
    "plt.plot(sales_noCC['CrimeRate'], sales_noCC['HousePrice'], '.',\n",
    "         sales_noCC['CrimeRate'], crime_model.predict(features_noCC), '-',\n",
    "         sales_noCC['CrimeRate'], crime_model_noCC.predict(features_noCC), '-')"
   ],
   "outputs": [
    {
     "output_type": "execute_result",
     "data": {
      "text/plain": [
       "[<matplotlib.lines.Line2D at 0x137268760>,\n",
       " <matplotlib.lines.Line2D at 0x137268550>,\n",
       " <matplotlib.lines.Line2D at 0x1372687f0>]"
      ]
     },
     "metadata": {},
     "execution_count": 23
    },
    {
     "output_type": "display_data",
     "data": {
      "image/png": "[encoded data removed]",
      "text/plain": [
       "<Figure size 432x288 with 1 Axes>"
      ]
     },
     "metadata": {
      "needs_background": "light"
     }
    }
   ],
   "metadata": {}
  },
  {
   "cell_type": "markdown",
   "source": [
    "# Remove high-value outlier neighborhoods and redo analysis"
   ],
   "metadata": {}
  },
  {
   "cell_type": "markdown",
   "source": [
    "Based on the discussion above, a question is whether the outlying high-value towns are strongly influencing the fit.  Let's remove them and see what happens."
   ],
   "metadata": {}
  },
  {
   "cell_type": "code",
   "execution_count": 26,
   "source": [
    "# sales_nohighend = sales_noCC[sales_noCC['HousePrice'] < 350000]\n",
    "# crime_model_nohighend = turicreate.linear_regression.create(\n",
    "#     sales_nohighend,\n",
    "#     target='HousePrice',\n",
    "#     features=['CrimeRate'],\n",
    "#     validation_set=None,\n",
    "#     verbose=False\n",
    "# )\n",
    "\n",
    "sales_noHE = sales_noCC[sales_noCC['HousePrice'] < 350000]\n",
    "features_noHE = sales_noHE[\"CrimeRate\"].to_numpy().reshape(-1, 1)\n",
    "target_noHE = sales_noHE[\"HousePrice\"].to_numpy().reshape(-1, 1)\n",
    "crime_model_noHE = LinearRegression()\n",
    "regression_noHE= crime_model_noHE.fit(features_noHE, target_noHE)\n"
   ],
   "outputs": [],
   "metadata": {}
  },
  {
   "cell_type": "markdown",
   "source": [
    "### Do the coefficients change much?"
   ],
   "metadata": {}
  },
  {
   "cell_type": "code",
   "execution_count": 28,
   "source": [
    "print(f\"coeficients: {regression_noCC.coef_}\")\n",
    "print(f\"intercept: {regression_noCC.intercept_}\")\n"
   ],
   "outputs": [
    {
     "output_type": "stream",
     "name": "stdout",
     "text": [
      "coeficients: [[-2288.68942995]]\n",
      "intercept: [225233.551839]\n"
     ]
    }
   ],
   "metadata": {}
  },
  {
   "cell_type": "code",
   "execution_count": 29,
   "source": [
    "print(f\"coeficients: {regression_noHE.coef_}\")\n",
    "print(f\"intercept: {regression_noHE.intercept_}\")\n"
   ],
   "outputs": [
    {
     "output_type": "stream",
     "name": "stdout",
     "text": [
      "coeficients: [[-1838.56264859]]\n",
      "intercept: [199098.8526698]\n"
     ]
    }
   ],
   "metadata": {}
  },
  {
   "cell_type": "markdown",
   "source": [
    "Above: We see that removing the outlying high-value neighborhoods has *some* effect on the fit, but not nearly as much as our high-leverage Center City datapoint."
   ],
   "metadata": {}
  },
  {
   "cell_type": "markdown",
   "source": [
    "### Compare the two models\n",
    "Confirm the above calculations by looking at the plots. The orange line is the no high-end model, and the green line is the no-city-center model."
   ],
   "metadata": {
    "collapsed": true
   }
  },
  {
   "cell_type": "code",
   "execution_count": 32,
   "source": [
    "plt.plot(sales_noHE['CrimeRate'], sales_noHE['HousePrice'], '.',\n",
    "         sales_noHE['CrimeRate'], crime_model_noHE.predict(features_noHE), '-',\n",
    "         sales_noHE['CrimeRate'], crime_model_noCC.predict(features_noHE), '-')         "
   ],
   "outputs": [
    {
     "output_type": "execute_result",
     "data": {
      "text/plain": [
       "[<matplotlib.lines.Line2D at 0x1373c9520>,\n",
       " <matplotlib.lines.Line2D at 0x1373c9310>,\n",
       " <matplotlib.lines.Line2D at 0x1373c95b0>]"
      ]
     },
     "metadata": {},
     "execution_count": 32
    },
    {
     "output_type": "display_data",
     "data": {
      "image/png": "[encoded data removed]",
      "text/plain": [
       "<Figure size 432x288 with 1 Axes>"
      ]
     },
     "metadata": {
      "needs_background": "light"
     }
    }
   ],
   "metadata": {}
  },
  {
   "cell_type": "code",
   "execution_count": null,
   "source": [],
   "outputs": [],
   "metadata": {}
  },
  {
   "cell_type": "code",
   "execution_count": null,
   "source": [],
   "outputs": [],
   "metadata": {}
  },
  {
   "cell_type": "code",
   "execution_count": null,
   "source": [],
   "outputs": [],
   "metadata": {}
  }
 ],
 "metadata": {
  "kernelspec": {
   "name": "python3",
   "display_name": "Python 3.9.2 64-bit ('ml-lab-regression-models-cHa8c9EY-py3.9': poetry)"
  },
  "language_info": {
   "name": "python",
   "version": "3.9.2",
   "mimetype": "text/x-python",
   "codemirror_mode": {
    "name": "ipython",
    "version": 3
   },
   "pygments_lexer": "ipython3",
   "nbconvert_exporter": "python",
   "file_extension": ".py"
  },
  "interpreter": {
   "hash": "09d0c086acbf2222c3f1f1acb2f89183df31611d758cd06b1dab91dcfed7d891"
  }
 },
 "nbformat": 4,
 "nbformat_minor": 1
}