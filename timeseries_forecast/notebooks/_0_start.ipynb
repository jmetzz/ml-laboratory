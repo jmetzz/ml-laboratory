{
 "metadata": {
  "language_info": {
   "codemirror_mode": {
    "name": "ipython",
    "version": 3
   },
   "file_extension": ".py",
   "mimetype": "text/x-python",
   "name": "python",
   "nbconvert_exporter": "python",
   "pygments_lexer": "ipython3",
   "version": "3.9.2-final"
  },
  "orig_nbformat": 2,
  "kernelspec": {
   "name": "python3",
   "language": "python",
   "display_name": "Python 3 (ipykernel)"
  }
 },
 "nbformat": 4,
 "nbformat_minor": 2,
 "cells": [
  {
   "cell_type": "code",
   "execution_count": 1,
   "metadata": {},
   "outputs": [],
   "source": [
    "import pandas as pd\n",
    "import numpy as np"
   ]
  },
  {
   "cell_type": "code",
   "execution_count": 2,
   "metadata": {},
   "outputs": [
    {
     "output_type": "execute_result",
     "data": {
      "text/plain": [
       "'/Users/jean.metz/workspace/jmetzz/sandbox-python/py_timeseries_forecast/notebooks'"
      ]
     },
     "metadata": {},
     "execution_count": 2
    }
   ],
   "source": [
    "import os\n",
    "os.getcwd()"
   ]
  },
  {
   "cell_type": "code",
   "execution_count": 4,
   "metadata": {},
   "outputs": [
    {
     "output_type": "execute_result",
     "data": {
      "text/plain": [
       "         Date State  Gender      Legal Indigenous  Count\n",
       "0  2005-03-01   ACT  Female   Remanded       ATSI      0\n",
       "1  2005-03-01   ACT  Female   Remanded   Non-ATSI      2\n",
       "2  2005-03-01   ACT  Female  Sentenced       ATSI      0\n",
       "3  2005-03-01   ACT  Female  Sentenced   Non-ATSI      5\n",
       "4  2005-03-01   ACT    Male   Remanded       ATSI      7"
      ],
      "text/html": "<div>\n<style scoped>\n    .dataframe tbody tr th:only-of-type {\n        vertical-align: middle;\n    }\n\n    .dataframe tbody tr th {\n        vertical-align: top;\n    }\n\n    .dataframe thead th {\n        text-align: right;\n    }\n</style>\n<table border=\"1\" class=\"dataframe\">\n  <thead>\n    <tr style=\"text-align: right;\">\n      <th></th>\n      <th>Date</th>\n      <th>State</th>\n      <th>Gender</th>\n      <th>Legal</th>\n      <th>Indigenous</th>\n      <th>Count</th>\n    </tr>\n  </thead>\n  <tbody>\n    <tr>\n      <th>0</th>\n      <td>2005-03-01</td>\n      <td>ACT</td>\n      <td>Female</td>\n      <td>Remanded</td>\n      <td>ATSI</td>\n      <td>0</td>\n    </tr>\n    <tr>\n      <th>1</th>\n      <td>2005-03-01</td>\n      <td>ACT</td>\n      <td>Female</td>\n      <td>Remanded</td>\n      <td>Non-ATSI</td>\n      <td>2</td>\n    </tr>\n    <tr>\n      <th>2</th>\n      <td>2005-03-01</td>\n      <td>ACT</td>\n      <td>Female</td>\n      <td>Sentenced</td>\n      <td>ATSI</td>\n      <td>0</td>\n    </tr>\n    <tr>\n      <th>3</th>\n      <td>2005-03-01</td>\n      <td>ACT</td>\n      <td>Female</td>\n      <td>Sentenced</td>\n      <td>Non-ATSI</td>\n      <td>5</td>\n    </tr>\n    <tr>\n      <th>4</th>\n      <td>2005-03-01</td>\n      <td>ACT</td>\n      <td>Male</td>\n      <td>Remanded</td>\n      <td>ATSI</td>\n      <td>7</td>\n    </tr>\n  </tbody>\n</table>\n</div>"
     },
     "metadata": {},
     "execution_count": 4
    }
   ],
   "source": [
    "# read data from https://OTexts.com/fpp3/extrafiles/prison_population.\n",
    "# This data set provides information on the size of the prison population in Australia,\n",
    "# disaggregated by state, gender, legal status and indigenous status.\n",
    "# Here, ATSI stands for Aboriginal or Torres Strait Islander.\n",
    "df = pd.read_csv(\"../../data/raw/prison_population.csv\", sep=\",\")\n",
    "df.head()"
   ]
  },
  {
   "cell_type": "code",
   "execution_count": 5,
   "metadata": {},
   "outputs": [
    {
     "output_type": "execute_result",
     "data": {
      "text/plain": [
       "             Count\n",
       "count  3072.000000\n",
       "mean    466.756836\n",
       "std     936.968938\n",
       "min       0.000000\n",
       "25%      22.000000\n",
       "50%     100.000000\n",
       "75%     355.250000\n",
       "max    6014.000000"
      ],
      "text/html": "<div>\n<style scoped>\n    .dataframe tbody tr th:only-of-type {\n        vertical-align: middle;\n    }\n\n    .dataframe tbody tr th {\n        vertical-align: top;\n    }\n\n    .dataframe thead th {\n        text-align: right;\n    }\n</style>\n<table border=\"1\" class=\"dataframe\">\n  <thead>\n    <tr style=\"text-align: right;\">\n      <th></th>\n      <th>Count</th>\n    </tr>\n  </thead>\n  <tbody>\n    <tr>\n      <th>count</th>\n      <td>3072.000000</td>\n    </tr>\n    <tr>\n      <th>mean</th>\n      <td>466.756836</td>\n    </tr>\n    <tr>\n      <th>std</th>\n      <td>936.968938</td>\n    </tr>\n    <tr>\n      <th>min</th>\n      <td>0.000000</td>\n    </tr>\n    <tr>\n      <th>25%</th>\n      <td>22.000000</td>\n    </tr>\n    <tr>\n      <th>50%</th>\n      <td>100.000000</td>\n    </tr>\n    <tr>\n      <th>75%</th>\n      <td>355.250000</td>\n    </tr>\n    <tr>\n      <th>max</th>\n      <td>6014.000000</td>\n    </tr>\n  </tbody>\n</table>\n</div>"
     },
     "metadata": {},
     "execution_count": 5
    }
   ],
   "source": [
    "df.describe()"
   ]
  },
  {
   "cell_type": "code",
   "execution_count": 6,
   "metadata": {},
   "outputs": [
    {
     "output_type": "stream",
     "name": "stdout",
     "text": [
      "<class 'pandas.core.frame.DataFrame'>\nRangeIndex: 3072 entries, 0 to 3071\nData columns (total 6 columns):\n #   Column      Non-Null Count  Dtype \n---  ------      --------------  ----- \n 0   Date        3072 non-null   object\n 1   State       3072 non-null   object\n 2   Gender      3072 non-null   object\n 3   Legal       3072 non-null   object\n 4   Indigenous  3072 non-null   object\n 5   Count       3072 non-null   int64 \ndtypes: int64(1), object(5)\nmemory usage: 144.1+ KB\n"
     ]
    }
   ],
   "source": [
    "df.info()"
   ]
  },
  {
   "cell_type": "code",
   "execution_count": 11,
   "metadata": {},
   "outputs": [],
   "source": [
    "df.Date = df.Date.astype(np.datetime64)"
   ]
  },
  {
   "cell_type": "code",
   "execution_count": 12,
   "metadata": {},
   "outputs": [
    {
     "output_type": "stream",
     "name": "stdout",
     "text": [
      "<class 'pandas.core.frame.DataFrame'>\nRangeIndex: 3072 entries, 0 to 3071\nData columns (total 6 columns):\n #   Column      Non-Null Count  Dtype         \n---  ------      --------------  -----         \n 0   Date        3072 non-null   datetime64[ns]\n 1   State       3072 non-null   object        \n 2   Gender      3072 non-null   object        \n 3   Legal       3072 non-null   object        \n 4   Indigenous  3072 non-null   object        \n 5   Count       3072 non-null   int64         \ndtypes: datetime64[ns](1), int64(1), object(4)\nmemory usage: 144.1+ KB\n"
     ]
    }
   ],
   "source": [
    "df.info()"
   ]
  },
  {
   "cell_type": "code",
   "execution_count": 13,
   "metadata": {},
   "outputs": [
    {
     "output_type": "execute_result",
     "data": {
      "text/plain": [
       "           Date State  Gender      Legal Indigenous  Count\n",
       "0    2005-03-01   ACT  Female   Remanded       ATSI      0\n",
       "1    2005-03-01   ACT  Female   Remanded   Non-ATSI      2\n",
       "2    2005-03-01   ACT  Female  Sentenced       ATSI      0\n",
       "3    2005-03-01   ACT  Female  Sentenced   Non-ATSI      5\n",
       "4    2005-03-01   ACT    Male   Remanded       ATSI      7\n",
       "...         ...   ...     ...        ...        ...    ...\n",
       "3067 2016-12-01    WA  Female  Sentenced   Non-ATSI    220\n",
       "3068 2016-12-01    WA    Male   Remanded       ATSI    623\n",
       "3069 2016-12-01    WA    Male   Remanded   Non-ATSI    985\n",
       "3070 2016-12-01    WA    Male  Sentenced       ATSI   1463\n",
       "3071 2016-12-01    WA    Male  Sentenced   Non-ATSI   2625\n",
       "\n",
       "[3072 rows x 6 columns]"
      ],
      "text/html": "<div>\n<style scoped>\n    .dataframe tbody tr th:only-of-type {\n        vertical-align: middle;\n    }\n\n    .dataframe tbody tr th {\n        vertical-align: top;\n    }\n\n    .dataframe thead th {\n        text-align: right;\n    }\n</style>\n<table border=\"1\" class=\"dataframe\">\n  <thead>\n    <tr style=\"text-align: right;\">\n      <th></th>\n      <th>Date</th>\n      <th>State</th>\n      <th>Gender</th>\n      <th>Legal</th>\n      <th>Indigenous</th>\n      <th>Count</th>\n    </tr>\n  </thead>\n  <tbody>\n    <tr>\n      <th>0</th>\n      <td>2005-03-01</td>\n      <td>ACT</td>\n      <td>Female</td>\n      <td>Remanded</td>\n      <td>ATSI</td>\n      <td>0</td>\n    </tr>\n    <tr>\n      <th>1</th>\n      <td>2005-03-01</td>\n      <td>ACT</td>\n      <td>Female</td>\n      <td>Remanded</td>\n      <td>Non-ATSI</td>\n      <td>2</td>\n    </tr>\n    <tr>\n      <th>2</th>\n      <td>2005-03-01</td>\n      <td>ACT</td>\n      <td>Female</td>\n      <td>Sentenced</td>\n      <td>ATSI</td>\n      <td>0</td>\n    </tr>\n    <tr>\n      <th>3</th>\n      <td>2005-03-01</td>\n      <td>ACT</td>\n      <td>Female</td>\n      <td>Sentenced</td>\n      <td>Non-ATSI</td>\n      <td>5</td>\n    </tr>\n    <tr>\n      <th>4</th>\n      <td>2005-03-01</td>\n      <td>ACT</td>\n      <td>Male</td>\n      <td>Remanded</td>\n      <td>ATSI</td>\n      <td>7</td>\n    </tr>\n    <tr>\n      <th>...</th>\n      <td>...</td>\n      <td>...</td>\n      <td>...</td>\n      <td>...</td>\n      <td>...</td>\n      <td>...</td>\n    </tr>\n    <tr>\n      <th>3067</th>\n      <td>2016-12-01</td>\n      <td>WA</td>\n      <td>Female</td>\n      <td>Sentenced</td>\n      <td>Non-ATSI</td>\n      <td>220</td>\n    </tr>\n    <tr>\n      <th>3068</th>\n      <td>2016-12-01</td>\n      <td>WA</td>\n      <td>Male</td>\n      <td>Remanded</td>\n      <td>ATSI</td>\n      <td>623</td>\n    </tr>\n    <tr>\n      <th>3069</th>\n      <td>2016-12-01</td>\n      <td>WA</td>\n      <td>Male</td>\n      <td>Remanded</td>\n      <td>Non-ATSI</td>\n      <td>985</td>\n    </tr>\n    <tr>\n      <th>3070</th>\n      <td>2016-12-01</td>\n      <td>WA</td>\n      <td>Male</td>\n      <td>Sentenced</td>\n      <td>ATSI</td>\n      <td>1463</td>\n    </tr>\n    <tr>\n      <th>3071</th>\n      <td>2016-12-01</td>\n      <td>WA</td>\n      <td>Male</td>\n      <td>Sentenced</td>\n      <td>Non-ATSI</td>\n      <td>2625</td>\n    </tr>\n  </tbody>\n</table>\n<p>3072 rows × 6 columns</p>\n</div>"
     },
     "metadata": {},
     "execution_count": 13
    }
   ],
   "source": [
    "df"
   ]
  },
  {
   "cell_type": "code",
   "execution_count": null,
   "metadata": {},
   "outputs": [],
   "source": [
    "# the original csv file stored the dates as individual days, \n",
    "# although the data is actually quarterly, so we need to \n",
    "# convert the Date variable to quarters before continue with the analysis.\n"
   ]
  },
  {
   "cell_type": "code",
   "execution_count": null,
   "outputs": [],
   "source": [],
   "metadata": {
    "collapsed": false,
    "pycharm": {
     "name": "#%%\n"
    }
   }
  }
 ]
}