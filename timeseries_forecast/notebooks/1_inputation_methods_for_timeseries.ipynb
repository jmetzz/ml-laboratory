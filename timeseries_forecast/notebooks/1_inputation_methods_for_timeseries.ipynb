{
 "cells": [
  {
   "cell_type": "markdown",
   "metadata": {},
   "source": [
    "## How to handle missing data in time series\n",
    "\n",
    "\n",
    "Some alternatives to imputation are:\n",
    "- Backward Fill\n",
    "- Forward Fill\n",
    "- Linear Interpolation (`scipy.interpolate.interp1d`)\n",
    "- Quadratic interpolation (`scipy.interpolate.interp1d kind='cubic'`)\n",
    "- Mean of nearest neighbors\n",
    "- Mean of seasonal couterparts\n",
    "- If you have explanatory variables use a prediction model like the random forest or k-Nearest Neighbors to predict it.\n",
    "- If you have enough past observations, forecast the missing values.\n",
    "- If you have enough future observations, backcast the missing values\n",
    "- Forecast of counterparts from previous cycles."
   ]
  },
  {
   "cell_type": "code",
   "execution_count": 1,
   "metadata": {},
   "outputs": [],
   "source": [
    "import sys\n",
    "import os\n",
    "from pathlib import PurePath, Path\n",
    "\n",
    "PROJECT_ROOT_PATH = PurePath(os.getcwd()).parents[0]\n",
    "RESOURCES_PATH = Path(PROJECT_ROOT_PATH, \"resources\")\n",
    "SRC_PATH = PROJECT_ROOT_PATH.joinpath('src')\n",
    "\n",
    "# In case some scripts are necessary:\n",
    "# if SRC_PATH not in sys.path:\n",
    "#     sys.path.insert(0, str(SRC_PATH))\n"
   ]
  },
  {
   "cell_type": "code",
   "execution_count": 2,
   "metadata": {},
   "outputs": [],
   "source": [
    "import numpy as np\n",
    "import pandas as pd\n",
    "import matplotlib as mpl\n",
    "import matplotlib.pyplot as plt\n",
    "import seaborn as sns\n",
    "\n",
    "from dateutil.parser import parse \n",
    "\n",
    "plt.rcParams.update({'figure.figsize': (10, 7), 'figure.dpi': 200})"
   ]
  },
  {
   "cell_type": "code",
   "execution_count": 7,
   "metadata": {},
   "outputs": [
    {
     "name": "stdout",
     "output_type": "stream",
     "text": [
      "<class 'pandas.core.frame.DataFrame'>\n",
      "RangeIndex: 204 entries, 0 to 203\n",
      "Data columns (total 2 columns):\n",
      " #   Column  Non-Null Count  Dtype         \n",
      "---  ------  --------------  -----         \n",
      " 0   date    204 non-null    datetime64[ns]\n",
      " 1   value   204 non-null    float64       \n",
      "dtypes: datetime64[ns](1), float64(1)\n",
      "memory usage: 3.3 KB\n"
     ]
    }
   ],
   "source": [
    "a10_df = pd.read_csv(Path(RESOURCES_PATH, \"a10.csv\"), parse_dates=['date'])\n",
    "a10_df.info()"
   ]
  },
  {
   "cell_type": "code",
   "execution_count": null,
   "metadata": {},
   "outputs": [],
   "source": [
    "# introduce some missing values randomlly\n",
    "a10_missing_df = ..."
   ]
  },
  {
   "cell_type": "code",
   "execution_count": 8,
   "metadata": {
    "collapsed": false,
    "jupyter": {
     "outputs_hidden": false
    },
    "pycharm": {
     "name": "#%%\n"
    }
   },
   "outputs": [
    {
     "ename": "NameError",
     "evalue": "name 'axes' is not defined",
     "output_type": "error",
     "traceback": [
      "\u001b[0;31m---------------------------------------------------------------------------\u001b[0m",
      "\u001b[0;31mNameError\u001b[0m                                 Traceback (most recent call last)",
      "Cell \u001b[0;32mIn [8], line 1\u001b[0m\n\u001b[0;32m----> 1\u001b[0m a10_df\u001b[38;5;241m.\u001b[39mplot(title\u001b[38;5;241m=\u001b[39m\u001b[38;5;124m'\u001b[39m\u001b[38;5;124mActual\u001b[39m\u001b[38;5;124m'\u001b[39m, ax\u001b[38;5;241m=\u001b[39m\u001b[43maxes\u001b[49m[\u001b[38;5;241m0\u001b[39m], label\u001b[38;5;241m=\u001b[39m\u001b[38;5;124m'\u001b[39m\u001b[38;5;124mActual\u001b[39m\u001b[38;5;124m'\u001b[39m, color\u001b[38;5;241m=\u001b[39m\u001b[38;5;124m'\u001b[39m\u001b[38;5;124mred\u001b[39m\u001b[38;5;124m'\u001b[39m, style\u001b[38;5;241m=\u001b[39m\u001b[38;5;124m\"\u001b[39m\u001b[38;5;124m.-\u001b[39m\u001b[38;5;124m\"\u001b[39m)\n",
      "\u001b[0;31mNameError\u001b[0m: name 'axes' is not defined"
     ]
    }
   ],
   "source": [
    "a10_df.plot(title='Actual', ax=axes[0], label='Actual', color='red', style=\".-\")\n",
    "\n",
    "    "
   ]
  },
  {
   "cell_type": "code",
   "execution_count": null,
   "metadata": {},
   "outputs": [],
   "source": []
  }
 ],
 "metadata": {
  "kernelspec": {
   "display_name": "Python 3 (ipykernel)",
   "language": "python",
   "name": "python3"
  },
  "language_info": {
   "codemirror_mode": {
    "name": "ipython",
    "version": 3
   },
   "file_extension": ".py",
   "mimetype": "text/x-python",
   "name": "python",
   "nbconvert_exporter": "python",
   "pygments_lexer": "ipython3",
   "version": "3.10.8"
  }
 },
 "nbformat": 4,
 "nbformat_minor": 4
}
