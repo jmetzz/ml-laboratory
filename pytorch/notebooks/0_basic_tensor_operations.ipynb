{
 "cells": [
  {
   "cell_type": "markdown",
   "id": "5275cf59-6b6e-4f94-9aae-6547beabc15c",
   "metadata": {},
   "source": [
    "# Basic tensor operations and derivatives"
   ]
  },
  {
   "cell_type": "code",
   "execution_count": 1,
   "id": "cb80f584-5fba-4077-950a-e1b4b81759b2",
   "metadata": {},
   "outputs": [],
   "source": [
    "import torch"
   ]
  },
  {
   "cell_type": "code",
   "execution_count": 2,
   "id": "690f1293-c49c-43dc-a6d0-8d9db8fe3a11",
   "metadata": {},
   "outputs": [
    {
     "data": {
      "text/plain": [
       "tensor([ 0,  1,  2,  3,  4,  5,  6,  7,  8,  9, 10, 11, 12, 13, 14, 15, 16, 17,\n",
       "        18, 19, 20, 21, 22, 23, 24, 25, 26, 27, 28, 29, 30, 31, 32, 33, 34, 35,\n",
       "        36, 37, 38, 39, 40, 41, 42, 43, 44, 45, 46, 47, 48, 49, 50, 51, 52, 53,\n",
       "        54, 55, 56, 57, 58, 59, 60, 61, 62, 63, 64, 65, 66, 67, 68, 69, 70, 71,\n",
       "        72, 73, 74, 75, 76, 77, 78, 79, 80, 81, 82, 83, 84, 85, 86, 87, 88, 89,\n",
       "        90, 91, 92, 93, 94, 95, 96, 97, 98, 99])"
      ]
     },
     "execution_count": 2,
     "metadata": {},
     "output_type": "execute_result"
    }
   ],
   "source": [
    "x = torch.arange(100)\n",
    "x"
   ]
  },
  {
   "cell_type": "code",
   "execution_count": 3,
   "id": "ee2a37cd-769e-452f-8e16-af69e0542f02",
   "metadata": {},
   "outputs": [
    {
     "data": {
      "text/plain": [
       "tensor([[ 0,  1,  2,  3,  4,  5,  6,  7,  8,  9, 10, 11, 12, 13, 14, 15, 16, 17,\n",
       "         18, 19, 20, 21, 22, 23, 24, 25, 26, 27, 28, 29, 30, 31, 32, 33, 34, 35,\n",
       "         36, 37, 38, 39, 40, 41, 42, 43, 44, 45, 46, 47, 48, 49],\n",
       "        [50, 51, 52, 53, 54, 55, 56, 57, 58, 59, 60, 61, 62, 63, 64, 65, 66, 67,\n",
       "         68, 69, 70, 71, 72, 73, 74, 75, 76, 77, 78, 79, 80, 81, 82, 83, 84, 85,\n",
       "         86, 87, 88, 89, 90, 91, 92, 93, 94, 95, 96, 97, 98, 99]])"
      ]
     },
     "execution_count": 3,
     "metadata": {},
     "output_type": "execute_result"
    }
   ],
   "source": [
    "x = x.reshape(2, 50)\n",
    "x"
   ]
  },
  {
   "cell_type": "code",
   "execution_count": 4,
   "id": "0babb10a-71a2-4586-8e0b-10b0ec3dbefa",
   "metadata": {},
   "outputs": [
    {
     "data": {
      "text/plain": [
       "tensor([ 0,  1,  2,  3,  4,  5,  6,  7,  8,  9, 10, 11, 12, 13, 14, 15, 16, 17,\n",
       "        18, 19, 20, 21, 22, 23, 24, 25, 26, 27, 28, 29, 30, 31, 32, 33, 34, 35,\n",
       "        36, 37, 38, 39, 40, 41, 42, 43, 44, 45, 46, 47, 48, 49])"
      ]
     },
     "execution_count": 4,
     "metadata": {},
     "output_type": "execute_result"
    }
   ],
   "source": [
    "x[0]"
   ]
  },
  {
   "cell_type": "code",
   "execution_count": 5,
   "id": "18ebd846-979d-459c-843e-ff47a6fb6e27",
   "metadata": {},
   "outputs": [
    {
     "data": {
      "text/plain": [
       "tensor([[ 0.5257, -0.6662,  0.2124, -1.3549, -0.3639],\n",
       "        [ 0.7327,  0.5546,  0.3656,  0.4138,  0.2901],\n",
       "        [ 1.1034,  1.2101, -0.1999, -0.7127,  0.5517]])"
      ]
     },
     "execution_count": 5,
     "metadata": {},
     "output_type": "execute_result"
    }
   ],
   "source": [
    "torch.randn(3, 5)"
   ]
  },
  {
   "cell_type": "code",
   "execution_count": 6,
   "id": "8d3e2454-ffc3-4315-8e64-9273cfa77626",
   "metadata": {},
   "outputs": [],
   "source": [
    "# broadcasting, in both axis in this example"
   ]
  },
  {
   "cell_type": "code",
   "execution_count": 7,
   "id": "d0f7db6d-39df-493d-a878-35fe350ca40e",
   "metadata": {},
   "outputs": [
    {
     "data": {
      "text/plain": [
       "tensor([[0],\n",
       "        [1],\n",
       "        [2]])"
      ]
     },
     "execution_count": 7,
     "metadata": {},
     "output_type": "execute_result"
    }
   ],
   "source": [
    "a = torch.arange(3).reshape((3, 1))\n",
    "a"
   ]
  },
  {
   "cell_type": "code",
   "execution_count": 8,
   "id": "50eabdb9-f747-48fb-9b46-0cd2d8781510",
   "metadata": {},
   "outputs": [
    {
     "data": {
      "text/plain": [
       "tensor([[0, 1]])"
      ]
     },
     "execution_count": 8,
     "metadata": {},
     "output_type": "execute_result"
    }
   ],
   "source": [
    "b = torch.arange(2).reshape((1, 2))\n",
    "b"
   ]
  },
  {
   "cell_type": "code",
   "execution_count": 9,
   "id": "cfb9bbed-b934-4f62-982b-0ee3ca19e7a5",
   "metadata": {},
   "outputs": [
    {
     "data": {
      "text/plain": [
       "tensor([[0, 1],\n",
       "        [1, 2],\n",
       "        [2, 3]])"
      ]
     },
     "execution_count": 9,
     "metadata": {},
     "output_type": "execute_result"
    }
   ],
   "source": [
    "a + b"
   ]
  },
  {
   "cell_type": "code",
   "execution_count": 10,
   "id": "606acd52-07c2-4fc2-b108-3d0de217d363",
   "metadata": {},
   "outputs": [
    {
     "name": "stdout",
     "output_type": "stream",
     "text": [
      "id(X): 5723848848\n",
      "id(X): 5723853168\n"
     ]
    }
   ],
   "source": [
    "# saving memory upon assignment using slice notation \"[:]\"\n",
    "X = torch.arange(3, 4)\n",
    "print(f\"id(X): {id(X)}\")\n",
    "X = X + a\n",
    "print(f\"id(X): {id(X)}\")"
   ]
  },
  {
   "cell_type": "code",
   "execution_count": 11,
   "id": "f6e00bc5-9c17-49fe-9d4f-69788f72b07a",
   "metadata": {},
   "outputs": [
    {
     "name": "stdout",
     "output_type": "stream",
     "text": [
      "id(X): 5723854368\n",
      "id(X): 5723854368\n",
      "Note: X points to the same memory address\n"
     ]
    }
   ],
   "source": [
    "X = torch.arange(3, 4)\n",
    "print(f\"id(X): {id(X)}\")\n",
    "X[:] = X + 5\n",
    "print(f\"id(X): {id(X)}\")\n",
    "print(\"Note: X points to the same memory address\")"
   ]
  },
  {
   "cell_type": "code",
   "execution_count": 12,
   "id": "881e721f-63d4-4f02-8e65-055477ee7603",
   "metadata": {},
   "outputs": [
    {
     "name": "stdout",
     "output_type": "stream",
     "text": [
      "id(X): 5723854368\n",
      "id(X): 5723851648\n",
      "Note: X points to DIFFERENT memory address\n"
     ]
    }
   ],
   "source": [
    "print(f\"id(X): {id(X)}\")\n",
    "X = X + 5\n",
    "print(f\"id(X): {id(X)}\")\n",
    "print(\"Note: X points to DIFFERENT memory address\")"
   ]
  },
  {
   "cell_type": "code",
   "execution_count": 13,
   "id": "2d85f6ae-9adc-45ba-95ff-fba3813bb918",
   "metadata": {},
   "outputs": [
    {
     "data": {
      "text/plain": [
       "(numpy.ndarray, torch.Tensor)"
      ]
     },
     "execution_count": 13,
     "metadata": {},
     "output_type": "execute_result"
    }
   ],
   "source": [
    "# convert to and from numpy\n",
    "A = X.numpy()\n",
    "B = torch.from_numpy(A)\n",
    "type(A), type(B)"
   ]
  }
 ],
 "metadata": {
  "kernelspec": {
   "display_name": "Python 3 (ipykernel)",
   "language": "python",
   "name": "python3"
  },
  "language_info": {
   "codemirror_mode": {
    "name": "ipython",
    "version": 3
   },
   "file_extension": ".py",
   "mimetype": "text/x-python",
   "name": "python",
   "nbconvert_exporter": "python",
   "pygments_lexer": "ipython3",
   "version": "3.10.8"
  }
 },
 "nbformat": 4,
 "nbformat_minor": 5
}
