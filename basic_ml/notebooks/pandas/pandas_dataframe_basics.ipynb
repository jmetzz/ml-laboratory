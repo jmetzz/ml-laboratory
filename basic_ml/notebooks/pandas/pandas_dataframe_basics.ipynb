{
 "cells": [
  {
   "cell_type": "markdown",
   "metadata": {},
   "source": [
    "# Introduction to Series and Dataframes\n",
    "\n",
    "Series and dataframes form the core data model for Pandas in Python.\n",
    "\n",
    "Series can be understood as a 1 dimensional labelled/indexed array, from which you can access individual elements by using labels.\n",
    "\n",
    "In a datafame on the other hand, a part from row numbers you will also find column names, both useful to access data obviously. The column names and row numbers are known as column and row index.\n",
    "\n",
    "Next let's see some basic cond on how to use these two core elements.\n"
   ]
  },
  {
   "cell_type": "code",
   "execution_count": 1,
   "metadata": {},
   "outputs": [],
   "source": [
    "# start by importing some libraries that we will use\n",
    "import pandas as pd\n",
    "import numpy as np\n",
    "import matplotlib.pyplot as plt\n",
    "import random\n",
    "\n",
    "# to be able to reproduce the same results on every run \n",
    "# let's already generate the random seed\n",
    "np.random.seed(444)"
   ]
  },
  {
   "cell_type": "markdown",
   "metadata": {},
   "source": [
    "## Series\n",
    "TODO"
   ]
  },
  {
   "cell_type": "markdown",
   "metadata": {},
   "source": [
    "## Dataframe\n",
    "\n",
    "\n",
    "Generate a data frame with 100 elements, with 4 columns and random values. "
   ]
  },
  {
   "cell_type": "code",
   "execution_count": 2,
   "metadata": {},
   "outputs": [],
   "source": [
    "df = pd.DataFrame(np.random.randn(100,4), index=range(0,100), columns=list('ABCD'))"
   ]
  },
  {
   "cell_type": "markdown",
   "metadata": {},
   "source": [
    "\n",
    "\n",
    "Check the first elements in the dataframe"
   ]
  },
  {
   "cell_type": "code",
   "execution_count": 3,
   "metadata": {},
   "outputs": [
    {
     "data": {
      "text/plain": "          A         B         C         D\n0  0.357440  0.377538  1.382338  1.175549\n1 -0.939276 -1.143150 -0.542440 -0.548708\n2  0.208520  0.212690  1.268021 -0.807303\n3 -3.303072 -0.806650 -0.360329 -0.880396\n4  0.152631  0.250250  0.078508 -0.903904",
      "text/html": "<div>\n<style scoped>\n    .dataframe tbody tr th:only-of-type {\n        vertical-align: middle;\n    }\n\n    .dataframe tbody tr th {\n        vertical-align: top;\n    }\n\n    .dataframe thead th {\n        text-align: right;\n    }\n</style>\n<table border=\"1\" class=\"dataframe\">\n  <thead>\n    <tr style=\"text-align: right;\">\n      <th></th>\n      <th>A</th>\n      <th>B</th>\n      <th>C</th>\n      <th>D</th>\n    </tr>\n  </thead>\n  <tbody>\n    <tr>\n      <th>0</th>\n      <td>0.357440</td>\n      <td>0.377538</td>\n      <td>1.382338</td>\n      <td>1.175549</td>\n    </tr>\n    <tr>\n      <th>1</th>\n      <td>-0.939276</td>\n      <td>-1.143150</td>\n      <td>-0.542440</td>\n      <td>-0.548708</td>\n    </tr>\n    <tr>\n      <th>2</th>\n      <td>0.208520</td>\n      <td>0.212690</td>\n      <td>1.268021</td>\n      <td>-0.807303</td>\n    </tr>\n    <tr>\n      <th>3</th>\n      <td>-3.303072</td>\n      <td>-0.806650</td>\n      <td>-0.360329</td>\n      <td>-0.880396</td>\n    </tr>\n    <tr>\n      <th>4</th>\n      <td>0.152631</td>\n      <td>0.250250</td>\n      <td>0.078508</td>\n      <td>-0.903904</td>\n    </tr>\n  </tbody>\n</table>\n</div>"
     },
     "execution_count": 3,
     "metadata": {},
     "output_type": "execute_result"
    }
   ],
   "source": [
    "df.head()"
   ]
  },
  {
   "cell_type": "markdown",
   "metadata": {},
   "source": [
    "\n",
    "\n",
    "Get some information about the data frame"
   ]
  },
  {
   "cell_type": "code",
   "execution_count": 4,
   "metadata": {},
   "outputs": [
    {
     "data": {
      "text/plain": "                A           B           C           D\ncount  100.000000  100.000000  100.000000  100.000000\nmean    -0.000947    0.104688   -0.019413    0.007058\nstd      1.008091    0.960056    1.050975    1.103551\nmin     -3.303072   -2.335258   -2.654903   -2.868767\n25%     -0.652090   -0.477569   -0.615761   -0.674388\n50%      0.030968   -0.050538   -0.091110   -0.000922\n75%      0.688900    0.858648    0.706083    0.661412\nmax      2.238800    2.213264    2.452631    2.870687",
      "text/html": "<div>\n<style scoped>\n    .dataframe tbody tr th:only-of-type {\n        vertical-align: middle;\n    }\n\n    .dataframe tbody tr th {\n        vertical-align: top;\n    }\n\n    .dataframe thead th {\n        text-align: right;\n    }\n</style>\n<table border=\"1\" class=\"dataframe\">\n  <thead>\n    <tr style=\"text-align: right;\">\n      <th></th>\n      <th>A</th>\n      <th>B</th>\n      <th>C</th>\n      <th>D</th>\n    </tr>\n  </thead>\n  <tbody>\n    <tr>\n      <th>count</th>\n      <td>100.000000</td>\n      <td>100.000000</td>\n      <td>100.000000</td>\n      <td>100.000000</td>\n    </tr>\n    <tr>\n      <th>mean</th>\n      <td>-0.000947</td>\n      <td>0.104688</td>\n      <td>-0.019413</td>\n      <td>0.007058</td>\n    </tr>\n    <tr>\n      <th>std</th>\n      <td>1.008091</td>\n      <td>0.960056</td>\n      <td>1.050975</td>\n      <td>1.103551</td>\n    </tr>\n    <tr>\n      <th>min</th>\n      <td>-3.303072</td>\n      <td>-2.335258</td>\n      <td>-2.654903</td>\n      <td>-2.868767</td>\n    </tr>\n    <tr>\n      <th>25%</th>\n      <td>-0.652090</td>\n      <td>-0.477569</td>\n      <td>-0.615761</td>\n      <td>-0.674388</td>\n    </tr>\n    <tr>\n      <th>50%</th>\n      <td>0.030968</td>\n      <td>-0.050538</td>\n      <td>-0.091110</td>\n      <td>-0.000922</td>\n    </tr>\n    <tr>\n      <th>75%</th>\n      <td>0.688900</td>\n      <td>0.858648</td>\n      <td>0.706083</td>\n      <td>0.661412</td>\n    </tr>\n    <tr>\n      <th>max</th>\n      <td>2.238800</td>\n      <td>2.213264</td>\n      <td>2.452631</td>\n      <td>2.870687</td>\n    </tr>\n  </tbody>\n</table>\n</div>"
     },
     "execution_count": 4,
     "metadata": {},
     "output_type": "execute_result"
    }
   ],
   "source": [
    "df.describe()"
   ]
  },
  {
   "cell_type": "markdown",
   "metadata": {},
   "source": [
    "Transpose the data frame: "
   ]
  },
  {
   "cell_type": "code",
   "execution_count": 5,
   "metadata": {},
   "outputs": [
    {
     "data": {
      "text/plain": "         0         1         2         3         4         5         6   \\\nA  0.357440 -0.939276  0.208520 -3.303072  0.152631  0.493282  0.697150   \nB  0.377538 -1.143150  0.212690 -0.806650  0.250250  1.753644  0.810017   \nC  1.382338 -0.542440  1.268021 -0.360329  0.078508  0.574751  0.086494   \nD  1.175549 -0.548708 -0.807303 -0.880396 -0.903904 -0.031397  0.260619   \n\n         7         8         9   ...        90        91        92        93  \\\nA -0.761182  0.300781  0.308326  ...  1.136965  0.671379  1.659620 -0.017074   \nB  0.686478 -0.179054  1.788076  ... -0.637155  2.213264  1.375318  1.415499   \nC  0.266873  1.183669 -2.392712  ...  0.022707  0.747947 -0.227238  2.090792   \nD -0.480331 -0.110787  0.626777  ... -2.623664  1.632049  1.117873  0.268992   \n\n         94        95        96        97        98        99  \nA -0.212620  0.829652  0.068786  0.973608  0.325096 -0.059783  \nB  0.895131 -0.975644 -0.785343  0.574540 -0.350092  0.755652  \nC  0.532355 -0.882972  2.452631  0.600460 -0.189876  0.889136  \nD -1.371348 -0.140189 -1.056867  1.601886  0.614027 -0.079835  \n\n[4 rows x 100 columns]",
      "text/html": "<div>\n<style scoped>\n    .dataframe tbody tr th:only-of-type {\n        vertical-align: middle;\n    }\n\n    .dataframe tbody tr th {\n        vertical-align: top;\n    }\n\n    .dataframe thead th {\n        text-align: right;\n    }\n</style>\n<table border=\"1\" class=\"dataframe\">\n  <thead>\n    <tr style=\"text-align: right;\">\n      <th></th>\n      <th>0</th>\n      <th>1</th>\n      <th>2</th>\n      <th>3</th>\n      <th>4</th>\n      <th>5</th>\n      <th>6</th>\n      <th>7</th>\n      <th>8</th>\n      <th>9</th>\n      <th>...</th>\n      <th>90</th>\n      <th>91</th>\n      <th>92</th>\n      <th>93</th>\n      <th>94</th>\n      <th>95</th>\n      <th>96</th>\n      <th>97</th>\n      <th>98</th>\n      <th>99</th>\n    </tr>\n  </thead>\n  <tbody>\n    <tr>\n      <th>A</th>\n      <td>0.357440</td>\n      <td>-0.939276</td>\n      <td>0.208520</td>\n      <td>-3.303072</td>\n      <td>0.152631</td>\n      <td>0.493282</td>\n      <td>0.697150</td>\n      <td>-0.761182</td>\n      <td>0.300781</td>\n      <td>0.308326</td>\n      <td>...</td>\n      <td>1.136965</td>\n      <td>0.671379</td>\n      <td>1.659620</td>\n      <td>-0.017074</td>\n      <td>-0.212620</td>\n      <td>0.829652</td>\n      <td>0.068786</td>\n      <td>0.973608</td>\n      <td>0.325096</td>\n      <td>-0.059783</td>\n    </tr>\n    <tr>\n      <th>B</th>\n      <td>0.377538</td>\n      <td>-1.143150</td>\n      <td>0.212690</td>\n      <td>-0.806650</td>\n      <td>0.250250</td>\n      <td>1.753644</td>\n      <td>0.810017</td>\n      <td>0.686478</td>\n      <td>-0.179054</td>\n      <td>1.788076</td>\n      <td>...</td>\n      <td>-0.637155</td>\n      <td>2.213264</td>\n      <td>1.375318</td>\n      <td>1.415499</td>\n      <td>0.895131</td>\n      <td>-0.975644</td>\n      <td>-0.785343</td>\n      <td>0.574540</td>\n      <td>-0.350092</td>\n      <td>0.755652</td>\n    </tr>\n    <tr>\n      <th>C</th>\n      <td>1.382338</td>\n      <td>-0.542440</td>\n      <td>1.268021</td>\n      <td>-0.360329</td>\n      <td>0.078508</td>\n      <td>0.574751</td>\n      <td>0.086494</td>\n      <td>0.266873</td>\n      <td>1.183669</td>\n      <td>-2.392712</td>\n      <td>...</td>\n      <td>0.022707</td>\n      <td>0.747947</td>\n      <td>-0.227238</td>\n      <td>2.090792</td>\n      <td>0.532355</td>\n      <td>-0.882972</td>\n      <td>2.452631</td>\n      <td>0.600460</td>\n      <td>-0.189876</td>\n      <td>0.889136</td>\n    </tr>\n    <tr>\n      <th>D</th>\n      <td>1.175549</td>\n      <td>-0.548708</td>\n      <td>-0.807303</td>\n      <td>-0.880396</td>\n      <td>-0.903904</td>\n      <td>-0.031397</td>\n      <td>0.260619</td>\n      <td>-0.480331</td>\n      <td>-0.110787</td>\n      <td>0.626777</td>\n      <td>...</td>\n      <td>-2.623664</td>\n      <td>1.632049</td>\n      <td>1.117873</td>\n      <td>0.268992</td>\n      <td>-1.371348</td>\n      <td>-0.140189</td>\n      <td>-1.056867</td>\n      <td>1.601886</td>\n      <td>0.614027</td>\n      <td>-0.079835</td>\n    </tr>\n  </tbody>\n</table>\n<p>4 rows × 100 columns</p>\n</div>"
     },
     "execution_count": 5,
     "metadata": {},
     "output_type": "execute_result"
    }
   ],
   "source": [
    "df.T"
   ]
  },
  {
   "cell_type": "markdown",
   "metadata": {},
   "source": [
    "Sort by an specific column. Show only the initial 20 lines."
   ]
  },
  {
   "cell_type": "code",
   "execution_count": 6,
   "metadata": {},
   "outputs": [
    {
     "data": {
      "text/plain": "           A         B         C         D\n90  1.136965 -0.637155  0.022707 -2.623664\n78 -1.202884  1.126619  0.309693 -2.212020\n40  0.705275  0.167650 -0.348087 -2.205554\n48  0.986917  1.202460  0.305284 -2.188370\n50  0.848616 -0.095877 -0.272359 -2.187977\n67 -0.340354 -0.340661 -2.217343 -2.138493\n88 -0.363564  1.360103  0.255119 -1.897711\n60  0.686150 -0.817285 -0.631374 -1.540836\n81 -0.545637 -1.030732 -0.988544 -1.454940\n76 -1.610615  1.414327 -1.278500 -1.399003\n94 -0.212620  0.895131  0.532355 -1.371348\n33  0.869353  1.125903  0.696824 -1.185375\n18 -1.083235  1.666211  0.811157 -1.162884\n45  0.989155 -0.225630  0.949342 -1.123273\n71  1.786577  1.235246  1.216519 -1.097974\n96  0.068786 -0.785343  2.452631 -1.056867\n41  1.099929  0.365593 -0.106522 -1.014681\n10  0.027123 -0.171530  1.415373 -0.913075\n4   0.152631  0.250250  0.078508 -0.903904",
      "text/html": "<div>\n<style scoped>\n    .dataframe tbody tr th:only-of-type {\n        vertical-align: middle;\n    }\n\n    .dataframe tbody tr th {\n        vertical-align: top;\n    }\n\n    .dataframe thead th {\n        text-align: right;\n    }\n</style>\n<table border=\"1\" class=\"dataframe\">\n  <thead>\n    <tr style=\"text-align: right;\">\n      <th></th>\n      <th>A</th>\n      <th>B</th>\n      <th>C</th>\n      <th>D</th>\n    </tr>\n  </thead>\n  <tbody>\n    <tr>\n      <th>90</th>\n      <td>1.136965</td>\n      <td>-0.637155</td>\n      <td>0.022707</td>\n      <td>-2.623664</td>\n    </tr>\n    <tr>\n      <th>78</th>\n      <td>-1.202884</td>\n      <td>1.126619</td>\n      <td>0.309693</td>\n      <td>-2.212020</td>\n    </tr>\n    <tr>\n      <th>40</th>\n      <td>0.705275</td>\n      <td>0.167650</td>\n      <td>-0.348087</td>\n      <td>-2.205554</td>\n    </tr>\n    <tr>\n      <th>48</th>\n      <td>0.986917</td>\n      <td>1.202460</td>\n      <td>0.305284</td>\n      <td>-2.188370</td>\n    </tr>\n    <tr>\n      <th>50</th>\n      <td>0.848616</td>\n      <td>-0.095877</td>\n      <td>-0.272359</td>\n      <td>-2.187977</td>\n    </tr>\n    <tr>\n      <th>67</th>\n      <td>-0.340354</td>\n      <td>-0.340661</td>\n      <td>-2.217343</td>\n      <td>-2.138493</td>\n    </tr>\n    <tr>\n      <th>88</th>\n      <td>-0.363564</td>\n      <td>1.360103</td>\n      <td>0.255119</td>\n      <td>-1.897711</td>\n    </tr>\n    <tr>\n      <th>60</th>\n      <td>0.686150</td>\n      <td>-0.817285</td>\n      <td>-0.631374</td>\n      <td>-1.540836</td>\n    </tr>\n    <tr>\n      <th>81</th>\n      <td>-0.545637</td>\n      <td>-1.030732</td>\n      <td>-0.988544</td>\n      <td>-1.454940</td>\n    </tr>\n    <tr>\n      <th>76</th>\n      <td>-1.610615</td>\n      <td>1.414327</td>\n      <td>-1.278500</td>\n      <td>-1.399003</td>\n    </tr>\n    <tr>\n      <th>94</th>\n      <td>-0.212620</td>\n      <td>0.895131</td>\n      <td>0.532355</td>\n      <td>-1.371348</td>\n    </tr>\n    <tr>\n      <th>33</th>\n      <td>0.869353</td>\n      <td>1.125903</td>\n      <td>0.696824</td>\n      <td>-1.185375</td>\n    </tr>\n    <tr>\n      <th>18</th>\n      <td>-1.083235</td>\n      <td>1.666211</td>\n      <td>0.811157</td>\n      <td>-1.162884</td>\n    </tr>\n    <tr>\n      <th>45</th>\n      <td>0.989155</td>\n      <td>-0.225630</td>\n      <td>0.949342</td>\n      <td>-1.123273</td>\n    </tr>\n    <tr>\n      <th>71</th>\n      <td>1.786577</td>\n      <td>1.235246</td>\n      <td>1.216519</td>\n      <td>-1.097974</td>\n    </tr>\n    <tr>\n      <th>96</th>\n      <td>0.068786</td>\n      <td>-0.785343</td>\n      <td>2.452631</td>\n      <td>-1.056867</td>\n    </tr>\n    <tr>\n      <th>41</th>\n      <td>1.099929</td>\n      <td>0.365593</td>\n      <td>-0.106522</td>\n      <td>-1.014681</td>\n    </tr>\n    <tr>\n      <th>10</th>\n      <td>0.027123</td>\n      <td>-0.171530</td>\n      <td>1.415373</td>\n      <td>-0.913075</td>\n    </tr>\n    <tr>\n      <th>4</th>\n      <td>0.152631</td>\n      <td>0.250250</td>\n      <td>0.078508</td>\n      <td>-0.903904</td>\n    </tr>\n  </tbody>\n</table>\n</div>"
     },
     "execution_count": 6,
     "metadata": {},
     "output_type": "execute_result"
    }
   ],
   "source": [
    "df.sort_values(by='D')[1:20]"
   ]
  },
  {
   "cell_type": "markdown",
   "metadata": {},
   "source": [
    "Sorting by axis; axis=0 means line index, while axis=1 means column index."
   ]
  },
  {
   "cell_type": "code",
   "execution_count": 7,
   "metadata": {},
   "outputs": [
    {
     "data": {
      "text/plain": "          D         C         B         A\n0  1.175549  1.382338  0.377538  0.357440\n1 -0.548708 -0.542440 -1.143150 -0.939276\n2 -0.807303  1.268021  0.212690  0.208520\n3 -0.880396 -0.360329 -0.806650 -3.303072\n4 -0.903904  0.078508  0.250250  0.152631",
      "text/html": "<div>\n<style scoped>\n    .dataframe tbody tr th:only-of-type {\n        vertical-align: middle;\n    }\n\n    .dataframe tbody tr th {\n        vertical-align: top;\n    }\n\n    .dataframe thead th {\n        text-align: right;\n    }\n</style>\n<table border=\"1\" class=\"dataframe\">\n  <thead>\n    <tr style=\"text-align: right;\">\n      <th></th>\n      <th>D</th>\n      <th>C</th>\n      <th>B</th>\n      <th>A</th>\n    </tr>\n  </thead>\n  <tbody>\n    <tr>\n      <th>0</th>\n      <td>1.175549</td>\n      <td>1.382338</td>\n      <td>0.377538</td>\n      <td>0.357440</td>\n    </tr>\n    <tr>\n      <th>1</th>\n      <td>-0.548708</td>\n      <td>-0.542440</td>\n      <td>-1.143150</td>\n      <td>-0.939276</td>\n    </tr>\n    <tr>\n      <th>2</th>\n      <td>-0.807303</td>\n      <td>1.268021</td>\n      <td>0.212690</td>\n      <td>0.208520</td>\n    </tr>\n    <tr>\n      <th>3</th>\n      <td>-0.880396</td>\n      <td>-0.360329</td>\n      <td>-0.806650</td>\n      <td>-3.303072</td>\n    </tr>\n    <tr>\n      <th>4</th>\n      <td>-0.903904</td>\n      <td>0.078508</td>\n      <td>0.250250</td>\n      <td>0.152631</td>\n    </tr>\n  </tbody>\n</table>\n</div>"
     },
     "execution_count": 7,
     "metadata": {},
     "output_type": "execute_result"
    }
   ],
   "source": [
    "df.sort_index(axis=1, ascending=False).head()"
   ]
  },
  {
   "cell_type": "markdown",
   "metadata": {},
   "source": [
    "### Slicing\n",
    "You can also use `loc` and `iloc` to perform just about any data selection operation. `loc` is label-based, which means that you have to specify rows and columns based on their row and column labels. `iloc` is integer index based, so you have to specify rows and columns by their integer index like you did in the previous exercise.\n",
    "\n",
    "Select only the first lines and columns `A` and `C`:"
   ]
  },
  {
   "cell_type": "code",
   "execution_count": 8,
   "metadata": {},
   "outputs": [
    {
     "data": {
      "text/plain": "          A         C\n0  0.357440  1.382338\n1 -0.939276 -0.542440\n2  0.208520  1.268021\n3 -3.303072 -0.360329\n4  0.152631  0.078508",
      "text/html": "<div>\n<style scoped>\n    .dataframe tbody tr th:only-of-type {\n        vertical-align: middle;\n    }\n\n    .dataframe tbody tr th {\n        vertical-align: top;\n    }\n\n    .dataframe thead th {\n        text-align: right;\n    }\n</style>\n<table border=\"1\" class=\"dataframe\">\n  <thead>\n    <tr style=\"text-align: right;\">\n      <th></th>\n      <th>A</th>\n      <th>C</th>\n    </tr>\n  </thead>\n  <tbody>\n    <tr>\n      <th>0</th>\n      <td>0.357440</td>\n      <td>1.382338</td>\n    </tr>\n    <tr>\n      <th>1</th>\n      <td>-0.939276</td>\n      <td>-0.542440</td>\n    </tr>\n    <tr>\n      <th>2</th>\n      <td>0.208520</td>\n      <td>1.268021</td>\n    </tr>\n    <tr>\n      <th>3</th>\n      <td>-3.303072</td>\n      <td>-0.360329</td>\n    </tr>\n    <tr>\n      <th>4</th>\n      <td>0.152631</td>\n      <td>0.078508</td>\n    </tr>\n  </tbody>\n</table>\n</div>"
     },
     "execution_count": 8,
     "metadata": {},
     "output_type": "execute_result"
    }
   ],
   "source": [
    "df.loc[:, ['A', 'C']].head()"
   ]
  },
  {
   "cell_type": "markdown",
   "metadata": {},
   "source": [
    "The same result but now using `iloc`:"
   ]
  },
  {
   "cell_type": "code",
   "execution_count": 9,
   "metadata": {},
   "outputs": [
    {
     "data": {
      "text/plain": "          A         C\n0  0.357440  1.382338\n1 -0.939276 -0.542440\n2  0.208520  1.268021\n3 -3.303072 -0.360329\n4  0.152631  0.078508",
      "text/html": "<div>\n<style scoped>\n    .dataframe tbody tr th:only-of-type {\n        vertical-align: middle;\n    }\n\n    .dataframe tbody tr th {\n        vertical-align: top;\n    }\n\n    .dataframe thead th {\n        text-align: right;\n    }\n</style>\n<table border=\"1\" class=\"dataframe\">\n  <thead>\n    <tr style=\"text-align: right;\">\n      <th></th>\n      <th>A</th>\n      <th>C</th>\n    </tr>\n  </thead>\n  <tbody>\n    <tr>\n      <th>0</th>\n      <td>0.357440</td>\n      <td>1.382338</td>\n    </tr>\n    <tr>\n      <th>1</th>\n      <td>-0.939276</td>\n      <td>-0.542440</td>\n    </tr>\n    <tr>\n      <th>2</th>\n      <td>0.208520</td>\n      <td>1.268021</td>\n    </tr>\n    <tr>\n      <th>3</th>\n      <td>-3.303072</td>\n      <td>-0.360329</td>\n    </tr>\n    <tr>\n      <th>4</th>\n      <td>0.152631</td>\n      <td>0.078508</td>\n    </tr>\n  </tbody>\n</table>\n</div>"
     },
     "execution_count": 9,
     "metadata": {},
     "output_type": "execute_result"
    }
   ],
   "source": [
    "df.iloc[:, [0, 2]].head()"
   ]
  },
  {
   "cell_type": "markdown",
   "source": [
    "### Iterating\n"
   ],
   "metadata": {
    "collapsed": false
   }
  },
  {
   "cell_type": "code",
   "execution_count": 10,
   "outputs": [
    {
     "name": "stdout",
     "output_type": "stream",
     "text": [
      "10 100\n",
      "11 110\n",
      "12 120\n"
     ]
    }
   ],
   "source": [
    "import pandas as pd\n",
    "\n",
    "df = pd.DataFrame([{'c1':10, 'c2':100}, \n",
    "                   {'c1':11,'c2':110}, \n",
    "                   {'c1':12,'c2':120}])\n",
    "for index, row in df.iterrows():\n",
    "    print(row['c1'], row['c2'])\n",
    "    "
   ],
   "metadata": {
    "collapsed": false,
    "pycharm": {
     "name": "#%%\n"
    }
   }
  },
  {
   "cell_type": "markdown",
   "metadata": {},
   "source": [
    "### Editing\n",
    "Adding a new column to the data fame"
   ]
  },
  {
   "cell_type": "code",
   "execution_count": 11,
   "metadata": {},
   "outputs": [],
   "source": [
    "df_label = df.copy()\n",
    "df_label['E'] = [np.random.randint(0,2) for _ in range(len(df.index))]\n",
    "labels = ['C1', 'C2', 'C3']\n",
    "df_label['label'] = [labels[np.random.randint(0,3)] for _ in range(len(df.index))]"
   ]
  },
  {
   "cell_type": "code",
   "execution_count": 12,
   "metadata": {},
   "outputs": [
    {
     "data": {
      "text/plain": "   c1   c2  E label\n0  10  100  0    C2\n1  11  110  0    C1\n2  12  120  1    C3",
      "text/html": "<div>\n<style scoped>\n    .dataframe tbody tr th:only-of-type {\n        vertical-align: middle;\n    }\n\n    .dataframe tbody tr th {\n        vertical-align: top;\n    }\n\n    .dataframe thead th {\n        text-align: right;\n    }\n</style>\n<table border=\"1\" class=\"dataframe\">\n  <thead>\n    <tr style=\"text-align: right;\">\n      <th></th>\n      <th>c1</th>\n      <th>c2</th>\n      <th>E</th>\n      <th>label</th>\n    </tr>\n  </thead>\n  <tbody>\n    <tr>\n      <th>0</th>\n      <td>10</td>\n      <td>100</td>\n      <td>0</td>\n      <td>C2</td>\n    </tr>\n    <tr>\n      <th>1</th>\n      <td>11</td>\n      <td>110</td>\n      <td>0</td>\n      <td>C1</td>\n    </tr>\n    <tr>\n      <th>2</th>\n      <td>12</td>\n      <td>120</td>\n      <td>1</td>\n      <td>C3</td>\n    </tr>\n  </tbody>\n</table>\n</div>"
     },
     "execution_count": 12,
     "metadata": {},
     "output_type": "execute_result"
    }
   ],
   "source": [
    "df_label.head()"
   ]
  },
  {
   "cell_type": "markdown",
   "metadata": {},
   "source": [
    "Apart from the simple statistics provided by the describe method, \n",
    "it is also possible to extract individual statistics and for specific collumns.\n",
    "For example:"
   ]
  },
  {
   "cell_type": "code",
   "execution_count": 13,
   "metadata": {},
   "outputs": [
    {
     "data": {
      "text/plain": "c1     11.000000\nc2    110.000000\nE       0.333333\ndtype: float64"
     },
     "execution_count": 13,
     "metadata": {},
     "output_type": "execute_result"
    }
   ],
   "source": [
    "# consider only the index (lines), which is the default option\n",
    "# It would give the same result if df_label.mean(0) would be executed\n",
    "df_label.mean()"
   ]
  },
  {
   "cell_type": "code",
   "execution_count": 14,
   "metadata": {},
   "outputs": [
    {
     "data": {
      "text/plain": "0    36.666667\n1    40.333333\n2    44.333333\ndtype: float64"
     },
     "execution_count": 14,
     "metadata": {},
     "output_type": "execute_result"
    }
   ],
   "source": [
    "# consider only axis 1 (columns) -- only numerical columns\n",
    "df_label.mean(1).head()"
   ]
  },
  {
   "cell_type": "markdown",
   "metadata": {},
   "source": [
    "One can eve apply functions to the data in the data frame, such as:"
   ]
  },
  {
   "cell_type": "code",
   "execution_count": 15,
   "metadata": {},
   "outputs": [
    {
     "data": {
      "text/plain": "c1        12\nc2       120\nE          1\nlabel     C3\ndtype: object"
     },
     "execution_count": 15,
     "metadata": {},
     "output_type": "execute_result"
    }
   ],
   "source": [
    "df_label.apply(lambda x: x.max())"
   ]
  },
  {
   "cell_type": "code",
   "execution_count": 16,
   "metadata": {},
   "outputs": [
    {
     "data": {
      "text/plain": "array(['C2', 'C1', 'C3'], dtype=object)"
     },
     "execution_count": 16,
     "metadata": {},
     "output_type": "execute_result"
    }
   ],
   "source": [
    "df_label['label'].unique()"
   ]
  },
  {
   "cell_type": "markdown",
   "metadata": {},
   "source": [
    "We can even generate some simple charts based on the dataframe at hand. Let's see and example:"
   ]
  },
  {
   "cell_type": "code",
   "execution_count": 17,
   "metadata": {},
   "outputs": [
    {
     "data": {
      "text/plain": "<AxesSubplot:>"
     },
     "execution_count": 17,
     "metadata": {},
     "output_type": "execute_result"
    },
    {
     "data": {
      "text/plain": "<Figure size 432x288 with 1 Axes>",
      "image/png": "[encoded data removed]"
     },
     "metadata": {
      "needs_background": "light"
     },
     "output_type": "display_data"
    }
   ],
   "source": [
    "df_label.plot()"
   ]
  },
  {
   "cell_type": "markdown",
   "metadata": {},
   "source": [
    "Observe the chart does not contain information about the `label` column, since it is not numeric.\n",
    "Another simple example, this time using a different `kind` of chart and based on the mean statistic on each column of the dataframe:"
   ]
  },
  {
   "cell_type": "code",
   "execution_count": 18,
   "metadata": {},
   "outputs": [
    {
     "data": {
      "text/plain": "<AxesSubplot:>"
     },
     "execution_count": 18,
     "metadata": {},
     "output_type": "execute_result"
    },
    {
     "data": {
      "text/plain": "<Figure size 432x288 with 1 Axes>",
      "image/png": "[encoded data removed]"
     },
     "metadata": {
      "needs_background": "light"
     },
     "output_type": "display_data"
    }
   ],
   "source": [
    "df_label.mean(axis=0).plot(kind=\"bar\")"
   ]
  },
  {
   "cell_type": "code",
   "execution_count": 19,
   "metadata": {},
   "outputs": [
    {
     "data": {
      "text/plain": "{'C1': 0, 'C2': 1, 'C3': 2}"
     },
     "execution_count": 19,
     "metadata": {},
     "output_type": "execute_result"
    }
   ],
   "source": [
    "# create a cross tab to compare 2 features\n",
    "## first map the class values to numeric values\n",
    "df = df_label\n",
    "lables = sorted(df['label'].unique())\n",
    "# consider the range up until len(lables) + 1 in order to cope with missing values\n",
    "labels_mapping = dict(zip(lables, range(0, len(lables) + 1)))\n",
    "labels_mapping\n",
    "\n"
   ]
  },
  {
   "cell_type": "code",
   "execution_count": 20,
   "metadata": {},
   "outputs": [
    {
     "data": {
      "text/plain": "E      0  1\nlabel      \nC1     1  0\nC2     1  0\nC3     0  1",
      "text/html": "<div>\n<style scoped>\n    .dataframe tbody tr th:only-of-type {\n        vertical-align: middle;\n    }\n\n    .dataframe tbody tr th {\n        vertical-align: top;\n    }\n\n    .dataframe thead th {\n        text-align: right;\n    }\n</style>\n<table border=\"1\" class=\"dataframe\">\n  <thead>\n    <tr style=\"text-align: right;\">\n      <th>E</th>\n      <th>0</th>\n      <th>1</th>\n    </tr>\n    <tr>\n      <th>label</th>\n      <th></th>\n      <th></th>\n    </tr>\n  </thead>\n  <tbody>\n    <tr>\n      <th>C1</th>\n      <td>1</td>\n      <td>0</td>\n    </tr>\n    <tr>\n      <th>C2</th>\n      <td>1</td>\n      <td>0</td>\n    </tr>\n    <tr>\n      <th>C3</th>\n      <td>0</td>\n      <td>1</td>\n    </tr>\n  </tbody>\n</table>\n</div>"
     },
     "execution_count": 20,
     "metadata": {},
     "output_type": "execute_result"
    }
   ],
   "source": [
    "pclass_xt = pd.crosstab(df['label'], df['E'])\n",
    "pclass_xt\n"
   ]
  },
  {
   "cell_type": "code",
   "execution_count": 21,
   "metadata": {},
   "outputs": [
    {
     "data": {
      "text/plain": "<AxesSubplot:title={'center':'Label Rate by E'}, xlabel='label'>"
     },
     "execution_count": 21,
     "metadata": {},
     "output_type": "execute_result"
    },
    {
     "data": {
      "text/plain": "<Figure size 432x288 with 1 Axes>",
      "image/png": "[encoded data removed]"
     },
     "metadata": {
      "needs_background": "light"
     },
     "output_type": "display_data"
    }
   ],
   "source": [
    "# plot line normalized cross-tab (each line summing up to 1)\n",
    "pclass_xt_pct = pclass_xt.div(pclass_xt.sum(1).astype(float), axis=0)\n",
    "pclass_xt_pct.plot(kind='bar', stacked=True, title='Label Rate by E')"
   ]
  },
  {
   "cell_type": "code",
   "execution_count": 22,
   "metadata": {},
   "outputs": [
    {
     "data": {
      "text/plain": "   c1   c2  E label  M  N\n0  10  100  0    C2  0  B\n1  11  110  0    C1  1   \n2  12  120  1    C3  0  C",
      "text/html": "<div>\n<style scoped>\n    .dataframe tbody tr th:only-of-type {\n        vertical-align: middle;\n    }\n\n    .dataframe tbody tr th {\n        vertical-align: top;\n    }\n\n    .dataframe thead th {\n        text-align: right;\n    }\n</style>\n<table border=\"1\" class=\"dataframe\">\n  <thead>\n    <tr style=\"text-align: right;\">\n      <th></th>\n      <th>c1</th>\n      <th>c2</th>\n      <th>E</th>\n      <th>label</th>\n      <th>M</th>\n      <th>N</th>\n    </tr>\n  </thead>\n  <tbody>\n    <tr>\n      <th>0</th>\n      <td>10</td>\n      <td>100</td>\n      <td>0</td>\n      <td>C2</td>\n      <td>0</td>\n      <td>B</td>\n    </tr>\n    <tr>\n      <th>1</th>\n      <td>11</td>\n      <td>110</td>\n      <td>0</td>\n      <td>C1</td>\n      <td>1</td>\n      <td></td>\n    </tr>\n    <tr>\n      <th>2</th>\n      <td>12</td>\n      <td>120</td>\n      <td>1</td>\n      <td>C3</td>\n      <td>0</td>\n      <td>C</td>\n    </tr>\n  </tbody>\n</table>\n</div>"
     },
     "execution_count": 22,
     "metadata": {},
     "output_type": "execute_result"
    }
   ],
   "source": [
    "# Add 2 new features with missing values\n",
    "values = [0, 1, None]\n",
    "df['M'] = [values[np.random.randint(0,3)] for _ in range(len(df.index))]\n",
    "values = ['A', 'B', 'C', '']\n",
    "df['N'] = [values[np.random.randint(0,4)] for _ in range(len(df.index))]\n",
    "df.head()"
   ]
  },
  {
   "cell_type": "code",
   "execution_count": 23,
   "metadata": {},
   "outputs": [
    {
     "data": {
      "text/plain": "Empty DataFrame\nColumns: [c1, c2, E, label, M, N]\nIndex: []",
      "text/html": "<div>\n<style scoped>\n    .dataframe tbody tr th:only-of-type {\n        vertical-align: middle;\n    }\n\n    .dataframe tbody tr th {\n        vertical-align: top;\n    }\n\n    .dataframe thead th {\n        text-align: right;\n    }\n</style>\n<table border=\"1\" class=\"dataframe\">\n  <thead>\n    <tr style=\"text-align: right;\">\n      <th></th>\n      <th>c1</th>\n      <th>c2</th>\n      <th>E</th>\n      <th>label</th>\n      <th>M</th>\n      <th>N</th>\n    </tr>\n  </thead>\n  <tbody>\n  </tbody>\n</table>\n</div>"
     },
     "execution_count": 23,
     "metadata": {},
     "output_type": "execute_result"
    }
   ],
   "source": [
    "# check which elements have missing values for feature M\n",
    "df[df['M'].isnull()]"
   ]
  },
  {
   "cell_type": "code",
   "execution_count": 24,
   "metadata": {},
   "outputs": [
    {
     "name": "stdout",
     "output_type": "stream",
     "text": [
      "mapping: {'': 0, 'B': 1, 'C': 2}\n"
     ]
    },
    {
     "data": {
      "text/plain": "   c1   c2  E label  M  N  N_Val\n0  10  100  0    C2  0  B      1\n1  11  110  0    C1  1         0\n2  12  120  1    C3  0  C      2",
      "text/html": "<div>\n<style scoped>\n    .dataframe tbody tr th:only-of-type {\n        vertical-align: middle;\n    }\n\n    .dataframe tbody tr th {\n        vertical-align: top;\n    }\n\n    .dataframe thead th {\n        text-align: right;\n    }\n</style>\n<table border=\"1\" class=\"dataframe\">\n  <thead>\n    <tr style=\"text-align: right;\">\n      <th></th>\n      <th>c1</th>\n      <th>c2</th>\n      <th>E</th>\n      <th>label</th>\n      <th>M</th>\n      <th>N</th>\n      <th>N_Val</th>\n    </tr>\n  </thead>\n  <tbody>\n    <tr>\n      <th>0</th>\n      <td>10</td>\n      <td>100</td>\n      <td>0</td>\n      <td>C2</td>\n      <td>0</td>\n      <td>B</td>\n      <td>1</td>\n    </tr>\n    <tr>\n      <th>1</th>\n      <td>11</td>\n      <td>110</td>\n      <td>0</td>\n      <td>C1</td>\n      <td>1</td>\n      <td></td>\n      <td>0</td>\n    </tr>\n    <tr>\n      <th>2</th>\n      <td>12</td>\n      <td>120</td>\n      <td>1</td>\n      <td>C3</td>\n      <td>0</td>\n      <td>C</td>\n      <td>2</td>\n    </tr>\n  </tbody>\n</table>\n</div>"
     },
     "execution_count": 24,
     "metadata": {},
     "output_type": "execute_result"
    }
   ],
   "source": [
    "# create a index based on the unique values of a feature\n",
    "n_index = df['N'].unique()\n",
    "n_index = sorted(df['N'].unique())\n",
    "\n",
    "# Create a mapping from the string values to numeric values\n",
    "n_mapping = dict(zip(n_index, range(0, len(n_index) + 1)))\n",
    "print(f\"mapping: {n_mapping}\")\n",
    "\n",
    "# Transform 'N' from a string to a number representation \n",
    "# to prepare it for machine learning algorithms:\n",
    "df['N_Val'] = df['N'].map(n_mapping).astype(int)\n",
    "df.head()"
   ]
  },
  {
   "cell_type": "code",
   "execution_count": 25,
   "metadata": {},
   "outputs": [
    {
     "ename": "ValueError",
     "evalue": "`dataset` input should have multiple elements.",
     "output_type": "error",
     "traceback": [
      "\u001B[0;31m---------------------------------------------------------------------------\u001B[0m",
      "\u001B[0;31mValueError\u001B[0m                                Traceback (most recent call last)",
      "\u001B[0;32m<ipython-input-25-9c6df932acc8>\u001B[0m in \u001B[0;36m<module>\u001B[0;34m\u001B[0m\n\u001B[1;32m      1\u001B[0m \u001B[0mclasses\u001B[0m \u001B[0;34m=\u001B[0m \u001B[0msorted\u001B[0m\u001B[0;34m(\u001B[0m\u001B[0mdf\u001B[0m\u001B[0;34m[\u001B[0m\u001B[0;34m'label'\u001B[0m\u001B[0;34m]\u001B[0m\u001B[0;34m.\u001B[0m\u001B[0munique\u001B[0m\u001B[0;34m(\u001B[0m\u001B[0;34m)\u001B[0m\u001B[0;34m)\u001B[0m\u001B[0;34m\u001B[0m\u001B[0;34m\u001B[0m\u001B[0m\n\u001B[1;32m      2\u001B[0m \u001B[0;32mfor\u001B[0m \u001B[0mlabel\u001B[0m \u001B[0;32min\u001B[0m \u001B[0mclasses\u001B[0m\u001B[0;34m:\u001B[0m\u001B[0;34m\u001B[0m\u001B[0;34m\u001B[0m\u001B[0m\n\u001B[0;32m----> 3\u001B[0;31m     \u001B[0mdf\u001B[0m\u001B[0;34m.\u001B[0m\u001B[0mN_Val\u001B[0m\u001B[0;34m[\u001B[0m\u001B[0mdf\u001B[0m\u001B[0;34m.\u001B[0m\u001B[0mlabel\u001B[0m \u001B[0;34m==\u001B[0m \u001B[0mlabel\u001B[0m\u001B[0;34m]\u001B[0m\u001B[0;34m.\u001B[0m\u001B[0mplot\u001B[0m\u001B[0;34m(\u001B[0m\u001B[0mkind\u001B[0m\u001B[0;34m=\u001B[0m\u001B[0;34m'kde'\u001B[0m\u001B[0;34m)\u001B[0m \u001B[0;31m# kde: Kernel Density Estimation plot\u001B[0m\u001B[0;34m\u001B[0m\u001B[0;34m\u001B[0m\u001B[0m\n\u001B[0m\u001B[1;32m      4\u001B[0m \u001B[0mplt\u001B[0m\u001B[0;34m.\u001B[0m\u001B[0mtitle\u001B[0m\u001B[0;34m(\u001B[0m\u001B[0;34m'Age Density Plot by Passenger Class'\u001B[0m\u001B[0;34m)\u001B[0m\u001B[0;34m\u001B[0m\u001B[0;34m\u001B[0m\u001B[0m\n\u001B[1;32m      5\u001B[0m \u001B[0mplt\u001B[0m\u001B[0;34m.\u001B[0m\u001B[0mxlabel\u001B[0m\u001B[0;34m(\u001B[0m\u001B[0;34m'Age'\u001B[0m\u001B[0;34m)\u001B[0m\u001B[0;34m\u001B[0m\u001B[0;34m\u001B[0m\u001B[0m\n",
      "\u001B[0;32m~/Library/Caches/pypoetry/virtualenvs/ml-lab-zxcZ3mky-py3.8/lib/python3.8/site-packages/pandas/plotting/_core.py\u001B[0m in \u001B[0;36m__call__\u001B[0;34m(self, *args, **kwargs)\u001B[0m\n\u001B[1;32m    947\u001B[0m                     \u001B[0mdata\u001B[0m\u001B[0;34m.\u001B[0m\u001B[0mcolumns\u001B[0m \u001B[0;34m=\u001B[0m \u001B[0mlabel_name\u001B[0m\u001B[0;34m\u001B[0m\u001B[0;34m\u001B[0m\u001B[0m\n\u001B[1;32m    948\u001B[0m \u001B[0;34m\u001B[0m\u001B[0m\n\u001B[0;32m--> 949\u001B[0;31m         \u001B[0;32mreturn\u001B[0m \u001B[0mplot_backend\u001B[0m\u001B[0;34m.\u001B[0m\u001B[0mplot\u001B[0m\u001B[0;34m(\u001B[0m\u001B[0mdata\u001B[0m\u001B[0;34m,\u001B[0m \u001B[0mkind\u001B[0m\u001B[0;34m=\u001B[0m\u001B[0mkind\u001B[0m\u001B[0;34m,\u001B[0m \u001B[0;34m**\u001B[0m\u001B[0mkwargs\u001B[0m\u001B[0;34m)\u001B[0m\u001B[0;34m\u001B[0m\u001B[0;34m\u001B[0m\u001B[0m\n\u001B[0m\u001B[1;32m    950\u001B[0m \u001B[0;34m\u001B[0m\u001B[0m\n\u001B[1;32m    951\u001B[0m     \u001B[0m__call__\u001B[0m\u001B[0;34m.\u001B[0m\u001B[0m__doc__\u001B[0m \u001B[0;34m=\u001B[0m \u001B[0m__doc__\u001B[0m\u001B[0;34m\u001B[0m\u001B[0;34m\u001B[0m\u001B[0m\n",
      "\u001B[0;32m~/Library/Caches/pypoetry/virtualenvs/ml-lab-zxcZ3mky-py3.8/lib/python3.8/site-packages/pandas/plotting/_matplotlib/__init__.py\u001B[0m in \u001B[0;36mplot\u001B[0;34m(data, kind, **kwargs)\u001B[0m\n\u001B[1;32m     59\u001B[0m             \u001B[0mkwargs\u001B[0m\u001B[0;34m[\u001B[0m\u001B[0;34m\"ax\"\u001B[0m\u001B[0;34m]\u001B[0m \u001B[0;34m=\u001B[0m \u001B[0mgetattr\u001B[0m\u001B[0;34m(\u001B[0m\u001B[0max\u001B[0m\u001B[0;34m,\u001B[0m \u001B[0;34m\"left_ax\"\u001B[0m\u001B[0;34m,\u001B[0m \u001B[0max\u001B[0m\u001B[0;34m)\u001B[0m\u001B[0;34m\u001B[0m\u001B[0;34m\u001B[0m\u001B[0m\n\u001B[1;32m     60\u001B[0m     \u001B[0mplot_obj\u001B[0m \u001B[0;34m=\u001B[0m \u001B[0mPLOT_CLASSES\u001B[0m\u001B[0;34m[\u001B[0m\u001B[0mkind\u001B[0m\u001B[0;34m]\u001B[0m\u001B[0;34m(\u001B[0m\u001B[0mdata\u001B[0m\u001B[0;34m,\u001B[0m \u001B[0;34m**\u001B[0m\u001B[0mkwargs\u001B[0m\u001B[0;34m)\u001B[0m\u001B[0;34m\u001B[0m\u001B[0;34m\u001B[0m\u001B[0m\n\u001B[0;32m---> 61\u001B[0;31m     \u001B[0mplot_obj\u001B[0m\u001B[0;34m.\u001B[0m\u001B[0mgenerate\u001B[0m\u001B[0;34m(\u001B[0m\u001B[0;34m)\u001B[0m\u001B[0;34m\u001B[0m\u001B[0;34m\u001B[0m\u001B[0m\n\u001B[0m\u001B[1;32m     62\u001B[0m     \u001B[0mplot_obj\u001B[0m\u001B[0;34m.\u001B[0m\u001B[0mdraw\u001B[0m\u001B[0;34m(\u001B[0m\u001B[0;34m)\u001B[0m\u001B[0;34m\u001B[0m\u001B[0;34m\u001B[0m\u001B[0m\n\u001B[1;32m     63\u001B[0m     \u001B[0;32mreturn\u001B[0m \u001B[0mplot_obj\u001B[0m\u001B[0;34m.\u001B[0m\u001B[0mresult\u001B[0m\u001B[0;34m\u001B[0m\u001B[0;34m\u001B[0m\u001B[0m\n",
      "\u001B[0;32m~/Library/Caches/pypoetry/virtualenvs/ml-lab-zxcZ3mky-py3.8/lib/python3.8/site-packages/pandas/plotting/_matplotlib/core.py\u001B[0m in \u001B[0;36mgenerate\u001B[0;34m(self)\u001B[0m\n\u001B[1;32m    269\u001B[0m         \u001B[0mself\u001B[0m\u001B[0;34m.\u001B[0m\u001B[0m_compute_plot_data\u001B[0m\u001B[0;34m(\u001B[0m\u001B[0;34m)\u001B[0m\u001B[0;34m\u001B[0m\u001B[0;34m\u001B[0m\u001B[0m\n\u001B[1;32m    270\u001B[0m         \u001B[0mself\u001B[0m\u001B[0;34m.\u001B[0m\u001B[0m_setup_subplots\u001B[0m\u001B[0;34m(\u001B[0m\u001B[0;34m)\u001B[0m\u001B[0;34m\u001B[0m\u001B[0;34m\u001B[0m\u001B[0m\n\u001B[0;32m--> 271\u001B[0;31m         \u001B[0mself\u001B[0m\u001B[0;34m.\u001B[0m\u001B[0m_make_plot\u001B[0m\u001B[0;34m(\u001B[0m\u001B[0;34m)\u001B[0m\u001B[0;34m\u001B[0m\u001B[0;34m\u001B[0m\u001B[0m\n\u001B[0m\u001B[1;32m    272\u001B[0m         \u001B[0mself\u001B[0m\u001B[0;34m.\u001B[0m\u001B[0m_add_table\u001B[0m\u001B[0;34m(\u001B[0m\u001B[0;34m)\u001B[0m\u001B[0;34m\u001B[0m\u001B[0;34m\u001B[0m\u001B[0m\n\u001B[1;32m    273\u001B[0m         \u001B[0mself\u001B[0m\u001B[0;34m.\u001B[0m\u001B[0m_make_legend\u001B[0m\u001B[0;34m(\u001B[0m\u001B[0;34m)\u001B[0m\u001B[0;34m\u001B[0m\u001B[0;34m\u001B[0m\u001B[0m\n",
      "\u001B[0;32m~/Library/Caches/pypoetry/virtualenvs/ml-lab-zxcZ3mky-py3.8/lib/python3.8/site-packages/pandas/plotting/_matplotlib/hist.py\u001B[0m in \u001B[0;36m_make_plot\u001B[0;34m(self)\u001B[0m\n\u001B[1;32m     81\u001B[0m                 \u001B[0mkwds\u001B[0m\u001B[0;34m[\u001B[0m\u001B[0;34m\"weights\"\u001B[0m\u001B[0;34m]\u001B[0m \u001B[0;34m=\u001B[0m \u001B[0mweights\u001B[0m\u001B[0;34m[\u001B[0m\u001B[0;34m:\u001B[0m\u001B[0;34m,\u001B[0m \u001B[0mi\u001B[0m\u001B[0;34m]\u001B[0m\u001B[0;34m\u001B[0m\u001B[0;34m\u001B[0m\u001B[0m\n\u001B[1;32m     82\u001B[0m \u001B[0;34m\u001B[0m\u001B[0m\n\u001B[0;32m---> 83\u001B[0;31m             \u001B[0martists\u001B[0m \u001B[0;34m=\u001B[0m \u001B[0mself\u001B[0m\u001B[0;34m.\u001B[0m\u001B[0m_plot\u001B[0m\u001B[0;34m(\u001B[0m\u001B[0max\u001B[0m\u001B[0;34m,\u001B[0m \u001B[0my\u001B[0m\u001B[0;34m,\u001B[0m \u001B[0mcolumn_num\u001B[0m\u001B[0;34m=\u001B[0m\u001B[0mi\u001B[0m\u001B[0;34m,\u001B[0m \u001B[0mstacking_id\u001B[0m\u001B[0;34m=\u001B[0m\u001B[0mstacking_id\u001B[0m\u001B[0;34m,\u001B[0m \u001B[0;34m**\u001B[0m\u001B[0mkwds\u001B[0m\u001B[0;34m)\u001B[0m\u001B[0;34m\u001B[0m\u001B[0;34m\u001B[0m\u001B[0m\n\u001B[0m\u001B[1;32m     84\u001B[0m             \u001B[0mself\u001B[0m\u001B[0;34m.\u001B[0m\u001B[0m_add_legend_handle\u001B[0m\u001B[0;34m(\u001B[0m\u001B[0martists\u001B[0m\u001B[0;34m[\u001B[0m\u001B[0;36m0\u001B[0m\u001B[0;34m]\u001B[0m\u001B[0;34m,\u001B[0m \u001B[0mlabel\u001B[0m\u001B[0;34m,\u001B[0m \u001B[0mindex\u001B[0m\u001B[0;34m=\u001B[0m\u001B[0mi\u001B[0m\u001B[0;34m)\u001B[0m\u001B[0;34m\u001B[0m\u001B[0;34m\u001B[0m\u001B[0m\n\u001B[1;32m     85\u001B[0m \u001B[0;34m\u001B[0m\u001B[0m\n",
      "\u001B[0;32m~/Library/Caches/pypoetry/virtualenvs/ml-lab-zxcZ3mky-py3.8/lib/python3.8/site-packages/pandas/plotting/_matplotlib/hist.py\u001B[0m in \u001B[0;36m_plot\u001B[0;34m(cls, ax, y, style, bw_method, ind, column_num, stacking_id, **kwds)\u001B[0m\n\u001B[1;32m    152\u001B[0m \u001B[0;34m\u001B[0m\u001B[0m\n\u001B[1;32m    153\u001B[0m         \u001B[0my\u001B[0m \u001B[0;34m=\u001B[0m \u001B[0mremove_na_arraylike\u001B[0m\u001B[0;34m(\u001B[0m\u001B[0my\u001B[0m\u001B[0;34m)\u001B[0m\u001B[0;34m\u001B[0m\u001B[0;34m\u001B[0m\u001B[0m\n\u001B[0;32m--> 154\u001B[0;31m         \u001B[0mgkde\u001B[0m \u001B[0;34m=\u001B[0m \u001B[0mgaussian_kde\u001B[0m\u001B[0;34m(\u001B[0m\u001B[0my\u001B[0m\u001B[0;34m,\u001B[0m \u001B[0mbw_method\u001B[0m\u001B[0;34m=\u001B[0m\u001B[0mbw_method\u001B[0m\u001B[0;34m)\u001B[0m\u001B[0;34m\u001B[0m\u001B[0;34m\u001B[0m\u001B[0m\n\u001B[0m\u001B[1;32m    155\u001B[0m \u001B[0;34m\u001B[0m\u001B[0m\n\u001B[1;32m    156\u001B[0m         \u001B[0my\u001B[0m \u001B[0;34m=\u001B[0m \u001B[0mgkde\u001B[0m\u001B[0;34m.\u001B[0m\u001B[0mevaluate\u001B[0m\u001B[0;34m(\u001B[0m\u001B[0mind\u001B[0m\u001B[0;34m)\u001B[0m\u001B[0;34m\u001B[0m\u001B[0;34m\u001B[0m\u001B[0m\n",
      "\u001B[0;32m~/Library/Caches/pypoetry/virtualenvs/ml-lab-zxcZ3mky-py3.8/lib/python3.8/site-packages/scipy/stats/kde.py\u001B[0m in \u001B[0;36m__init__\u001B[0;34m(self, dataset, bw_method, weights)\u001B[0m\n\u001B[1;32m    191\u001B[0m         \u001B[0mself\u001B[0m\u001B[0;34m.\u001B[0m\u001B[0mdataset\u001B[0m \u001B[0;34m=\u001B[0m \u001B[0matleast_2d\u001B[0m\u001B[0;34m(\u001B[0m\u001B[0masarray\u001B[0m\u001B[0;34m(\u001B[0m\u001B[0mdataset\u001B[0m\u001B[0;34m)\u001B[0m\u001B[0;34m)\u001B[0m\u001B[0;34m\u001B[0m\u001B[0;34m\u001B[0m\u001B[0m\n\u001B[1;32m    192\u001B[0m         \u001B[0;32mif\u001B[0m \u001B[0;32mnot\u001B[0m \u001B[0mself\u001B[0m\u001B[0;34m.\u001B[0m\u001B[0mdataset\u001B[0m\u001B[0;34m.\u001B[0m\u001B[0msize\u001B[0m \u001B[0;34m>\u001B[0m \u001B[0;36m1\u001B[0m\u001B[0;34m:\u001B[0m\u001B[0;34m\u001B[0m\u001B[0;34m\u001B[0m\u001B[0m\n\u001B[0;32m--> 193\u001B[0;31m             \u001B[0;32mraise\u001B[0m \u001B[0mValueError\u001B[0m\u001B[0;34m(\u001B[0m\u001B[0;34m\"`dataset` input should have multiple elements.\"\u001B[0m\u001B[0;34m)\u001B[0m\u001B[0;34m\u001B[0m\u001B[0;34m\u001B[0m\u001B[0m\n\u001B[0m\u001B[1;32m    194\u001B[0m \u001B[0;34m\u001B[0m\u001B[0m\n\u001B[1;32m    195\u001B[0m         \u001B[0mself\u001B[0m\u001B[0;34m.\u001B[0m\u001B[0md\u001B[0m\u001B[0;34m,\u001B[0m \u001B[0mself\u001B[0m\u001B[0;34m.\u001B[0m\u001B[0mn\u001B[0m \u001B[0;34m=\u001B[0m \u001B[0mself\u001B[0m\u001B[0;34m.\u001B[0m\u001B[0mdataset\u001B[0m\u001B[0;34m.\u001B[0m\u001B[0mshape\u001B[0m\u001B[0;34m\u001B[0m\u001B[0;34m\u001B[0m\u001B[0m\n",
      "\u001B[0;31mValueError\u001B[0m: `dataset` input should have multiple elements."
     ]
    },
    {
     "data": {
      "text/plain": "<Figure size 432x288 with 1 Axes>",
      "image/png": "[encoded data removed]"
     },
     "metadata": {
      "needs_background": "light"
     },
     "output_type": "display_data"
    }
   ],
   "source": [
    "classes = sorted(df['label'].unique())\n",
    "for label in classes:\n",
    "    df.N_Val[df.label == label].plot(kind='kde') # kde: Kernel Density Estimation plot\n",
    "plt.title('Age Density Plot by Passenger Class')\n",
    "plt.xlabel('Age')\n",
    "plt.legend(('1st Class', '2nd Class', '3rd Class'), loc='best')\n"
   ]
  },
  {
   "cell_type": "code",
   "execution_count": null,
   "metadata": {},
   "outputs": [],
   "source": [
    "# import the pandas library\n",
    "import pandas as pd\n",
    "\n",
    "ipl_data = {'Team': ['Riders', 'Riders', 'Devils', 'Devils', 'Kings',\n",
    "   'kings', 'Kings', 'Kings', 'Riders', 'Royals', 'Royals', 'Riders'],\n",
    "   'Rank': [1, 2, 2, 3, 3,4 ,1 ,1,2 , 4,1,2],\n",
    "   'Year': [2014,2015,2014,2015,2014,2015,2016,2017,2016,2014,2015,2017],\n",
    "   'Points':[876,789,863,673,741,812,756,788,694,701,804,690]}\n",
    "df = pd.DataFrame(ipl_data)\n",
    "\n",
    "split = df.groupby(['Team', 'Year'])\n",
    "split.groups"
   ]
  },
  {
   "cell_type": "code",
   "execution_count": null,
   "metadata": {},
   "outputs": [],
   "source": []
  },
  {
   "cell_type": "code",
   "execution_count": null,
   "metadata": {},
   "outputs": [],
   "source": []
  }
 ],
 "metadata": {
  "kernelspec": {
   "display_name": "Python 3",
   "language": "python",
   "name": "python3"
  },
  "language_info": {
   "codemirror_mode": {
    "name": "ipython",
    "version": 3
   },
   "file_extension": ".py",
   "mimetype": "text/x-python",
   "name": "python",
   "nbconvert_exporter": "python",
   "pygments_lexer": "ipython3",
   "version": "3.6.8"
  },
  "pycharm": {
   "stem_cell": {
    "cell_type": "raw",
    "source": [],
    "metadata": {
     "collapsed": false
    }
   }
  }
 },
 "nbformat": 4,
 "nbformat_minor": 2
}
