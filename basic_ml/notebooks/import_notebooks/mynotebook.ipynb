{
 "cells": [
  {
   "cell_type": "code",
   "execution_count": 5,
   "metadata": {},
   "outputs": [],
   "source": [
    "# Source: https://jupyter-notebook.readthedocs.io/en/stable/examples/Notebook/Importing%20Notebooks.html\n",
    "import sys\n",
    "import os\n",
    "from pathlib import PurePath\n",
    "\n",
    "# add custom python modules root to the path variable,\n",
    "root_path = PurePath(os.getcwd()).parents[2].joinpath('src')\n",
    "sys.path.append(str(root_path))\n"
   ]
  },
  {
   "cell_type": "code",
   "execution_count": 6,
   "metadata": {},
   "outputs": [
    {
     "name": "stdout",
     "output_type": "stream",
     "text": [
      "The autoreload extension is already loaded. To reload it, use:\n",
      "  %reload_ext autoreload\n"
     ]
    }
   ],
   "source": [
    "%load_ext autoreload\n",
    "%aimport common.nbloader\n",
    "%autoreload 1\n",
    "from common.nbloader import NotebookFinder\n",
    "# import importlib\n",
    "# importlib.reload('nbloader')\n"
   ]
  },
  {
   "cell_type": "code",
   "execution_count": 7,
   "metadata": {},
   "outputs": [],
   "source": [
    "sys.meta_path.append(NotebookFinder())"
   ]
  },
  {
   "cell_type": "code",
   "execution_count": 8,
   "metadata": {},
   "outputs": [
    {
     "name": "stdout",
     "output_type": "stream",
     "text": [
      "importing Jupyter notebook from importable.ipynb\n"
     ]
    }
   ],
   "source": [
    "\n",
    "from importable import hello"
   ]
  },
  {
   "cell_type": "code",
   "execution_count": 9,
   "metadata": {},
   "outputs": [
    {
     "data": {
      "text/plain": [
       "'Hello John'"
      ]
     },
     "execution_count": 9,
     "metadata": {},
     "output_type": "execute_result"
    }
   ],
   "source": [
    "hello('John')"
   ]
  },
  {
   "cell_type": "code",
   "execution_count": 10,
   "metadata": {},
   "outputs": [
    {
     "ename": "SyntaxError",
     "evalue": "invalid syntax (<ipython-input-10-ad5987098ac1>, line 1)",
     "output_type": "error",
     "traceback": [
      "\u001B[0;36m  File \u001B[0;32m\"<ipython-input-10-ad5987098ac1>\"\u001B[0;36m, line \u001B[0;32m1\u001B[0m\n\u001B[0;31m    import 1module\u001B[0m\n\u001B[0m           ^\u001B[0m\n\u001B[0;31mSyntaxError\u001B[0m\u001B[0;31m:\u001B[0m invalid syntax\n"
     ]
    }
   ],
   "source": [
    "import module"
   ]
  },
  {
   "cell_type": "code",
   "execution_count": 11,
   "metadata": {},
   "outputs": [
    {
     "name": "stdout",
     "output_type": "stream",
     "text": [
      "importing Jupyter notebook from module1.ipynb\n"
     ]
    }
   ],
   "source": [
    "import module1"
   ]
  },
  {
   "cell_type": "code",
   "execution_count": 12,
   "metadata": {},
   "outputs": [
    {
     "name": "stdout",
     "output_type": "stream",
     "text": [
      "importing Jupyter notebook from Untitled.ipynb\n"
     ]
    }
   ],
   "source": [
    "import Untitled"
   ]
  },
  {
   "cell_type": "code",
   "execution_count": 13,
   "metadata": {},
   "outputs": [
    {
     "name": "stdout",
     "output_type": "stream",
     "text": [
      "importing Jupyter notebook from _Untitled1.ipynb\n"
     ]
    }
   ],
   "source": [
    "import _Untitled1"
   ]
  },
  {
   "cell_type": "code",
   "execution_count": 17,
   "metadata": {},
   "outputs": [
    {
     "name": "stdout",
     "output_type": "stream",
     "text": [
      "importing Jupyter notebook from _202004NEWE_jm.ipynb\n"
     ]
    }
   ],
   "source": [
    "import _202004NEWE_jm"
   ]
  },
  {
   "cell_type": "code",
   "execution_count": 18,
   "metadata": {},
   "outputs": [
    {
     "name": "stdout",
     "output_type": "stream",
     "text": [
      "importing Jupyter notebook from jm_NEWE6883_20200422_data_preparation.ipynb\n"
     ]
    },
    {
     "ename": "FileNotFoundError",
     "evalue": "[Errno 2] No such file or directory: 'fact_pdf.pkl'",
     "output_type": "error",
     "traceback": [
      "\u001B[0;31m---------------------------------------------------------------------------\u001B[0m",
      "\u001B[0;31mFileNotFoundError\u001B[0m                         Traceback (most recent call last)",
      "\u001B[0;32m/opt/cloudera/parcels/Anaconda-5.1.0.1/envs/newron-dev/lib/python3.6/site-packages/pandas/io/pickle.py\u001B[0m in \u001B[0;36mtry_read\u001B[0;34m(path, encoding)\u001B[0m\n\u001B[1;32m    165\u001B[0m                 \u001B[0;31m# We want to silencce any warnings about, e.g. moved modules.\u001B[0m\u001B[0;34m\u001B[0m\u001B[0;34m\u001B[0m\u001B[0m\n\u001B[0;32m--> 166\u001B[0;31m                 \u001B[0;32mreturn\u001B[0m \u001B[0mread_wrapper\u001B[0m\u001B[0;34m(\u001B[0m\u001B[0;32mlambda\u001B[0m \u001B[0mf\u001B[0m\u001B[0;34m:\u001B[0m \u001B[0mpkl\u001B[0m\u001B[0;34m.\u001B[0m\u001B[0mload\u001B[0m\u001B[0;34m(\u001B[0m\u001B[0mf\u001B[0m\u001B[0;34m)\u001B[0m\u001B[0;34m)\u001B[0m\u001B[0;34m\u001B[0m\u001B[0m\n\u001B[0m\u001B[1;32m    167\u001B[0m         \u001B[0;32mexcept\u001B[0m \u001B[0mException\u001B[0m\u001B[0;34m:\u001B[0m\u001B[0;34m\u001B[0m\u001B[0m\n",
      "\u001B[0;32m/opt/cloudera/parcels/Anaconda-5.1.0.1/envs/newron-dev/lib/python3.6/site-packages/pandas/io/pickle.py\u001B[0m in \u001B[0;36mread_wrapper\u001B[0;34m(func)\u001B[0m\n\u001B[1;32m    146\u001B[0m                             \u001B[0mcompression\u001B[0m\u001B[0;34m=\u001B[0m\u001B[0minferred_compression\u001B[0m\u001B[0;34m,\u001B[0m\u001B[0;34m\u001B[0m\u001B[0m\n\u001B[0;32m--> 147\u001B[0;31m                             is_text=False)\n\u001B[0m\u001B[1;32m    148\u001B[0m         \u001B[0;32mtry\u001B[0m\u001B[0;34m:\u001B[0m\u001B[0;34m\u001B[0m\u001B[0m\n",
      "\u001B[0;32m/opt/cloudera/parcels/Anaconda-5.1.0.1/envs/newron-dev/lib/python3.6/site-packages/pandas/io/common.py\u001B[0m in \u001B[0;36m_get_handle\u001B[0;34m(path_or_buf, mode, encoding, compression, memory_map, is_text)\u001B[0m\n\u001B[1;32m    405\u001B[0m             \u001B[0;31m# Python 3 and binary mode\u001B[0m\u001B[0;34m\u001B[0m\u001B[0;34m\u001B[0m\u001B[0m\n\u001B[0;32m--> 406\u001B[0;31m             \u001B[0mf\u001B[0m \u001B[0;34m=\u001B[0m \u001B[0mopen\u001B[0m\u001B[0;34m(\u001B[0m\u001B[0mpath_or_buf\u001B[0m\u001B[0;34m,\u001B[0m \u001B[0mmode\u001B[0m\u001B[0;34m)\u001B[0m\u001B[0;34m\u001B[0m\u001B[0m\n\u001B[0m\u001B[1;32m    407\u001B[0m         \u001B[0mhandles\u001B[0m\u001B[0;34m.\u001B[0m\u001B[0mappend\u001B[0m\u001B[0;34m(\u001B[0m\u001B[0mf\u001B[0m\u001B[0;34m)\u001B[0m\u001B[0;34m\u001B[0m\u001B[0m\n",
      "\u001B[0;31mFileNotFoundError\u001B[0m: [Errno 2] No such file or directory: 'fact_pdf.pkl'",
      "\nDuring handling of the above exception, another exception occurred:\n",
      "\u001B[0;31mFileNotFoundError\u001B[0m                         Traceback (most recent call last)",
      "\u001B[0;32m/opt/cloudera/parcels/Anaconda-5.1.0.1/envs/newron-dev/lib/python3.6/site-packages/pandas/io/pickle.py\u001B[0m in \u001B[0;36mtry_read\u001B[0;34m(path, encoding)\u001B[0m\n\u001B[1;32m    170\u001B[0m                 return read_wrapper(\n\u001B[0;32m--> 171\u001B[0;31m                     lambda f: pc.load(f, encoding=encoding, compat=False))\n\u001B[0m\u001B[1;32m    172\u001B[0m             \u001B[0;31m# compat pickle\u001B[0m\u001B[0;34m\u001B[0m\u001B[0;34m\u001B[0m\u001B[0m\n",
      "\u001B[0;32m/opt/cloudera/parcels/Anaconda-5.1.0.1/envs/newron-dev/lib/python3.6/site-packages/pandas/io/pickle.py\u001B[0m in \u001B[0;36mread_wrapper\u001B[0;34m(func)\u001B[0m\n\u001B[1;32m    146\u001B[0m                             \u001B[0mcompression\u001B[0m\u001B[0;34m=\u001B[0m\u001B[0minferred_compression\u001B[0m\u001B[0;34m,\u001B[0m\u001B[0;34m\u001B[0m\u001B[0m\n\u001B[0;32m--> 147\u001B[0;31m                             is_text=False)\n\u001B[0m\u001B[1;32m    148\u001B[0m         \u001B[0;32mtry\u001B[0m\u001B[0;34m:\u001B[0m\u001B[0;34m\u001B[0m\u001B[0m\n",
      "\u001B[0;32m/opt/cloudera/parcels/Anaconda-5.1.0.1/envs/newron-dev/lib/python3.6/site-packages/pandas/io/common.py\u001B[0m in \u001B[0;36m_get_handle\u001B[0;34m(path_or_buf, mode, encoding, compression, memory_map, is_text)\u001B[0m\n\u001B[1;32m    405\u001B[0m             \u001B[0;31m# Python 3 and binary mode\u001B[0m\u001B[0;34m\u001B[0m\u001B[0;34m\u001B[0m\u001B[0m\n\u001B[0;32m--> 406\u001B[0;31m             \u001B[0mf\u001B[0m \u001B[0;34m=\u001B[0m \u001B[0mopen\u001B[0m\u001B[0;34m(\u001B[0m\u001B[0mpath_or_buf\u001B[0m\u001B[0;34m,\u001B[0m \u001B[0mmode\u001B[0m\u001B[0;34m)\u001B[0m\u001B[0;34m\u001B[0m\u001B[0m\n\u001B[0m\u001B[1;32m    407\u001B[0m         \u001B[0mhandles\u001B[0m\u001B[0;34m.\u001B[0m\u001B[0mappend\u001B[0m\u001B[0;34m(\u001B[0m\u001B[0mf\u001B[0m\u001B[0;34m)\u001B[0m\u001B[0;34m\u001B[0m\u001B[0m\n",
      "\u001B[0;31mFileNotFoundError\u001B[0m: [Errno 2] No such file or directory: 'fact_pdf.pkl'",
      "\nDuring handling of the above exception, another exception occurred:\n",
      "\u001B[0;31mFileNotFoundError\u001B[0m                         Traceback (most recent call last)",
      "\u001B[0;32m/opt/cloudera/parcels/Anaconda-5.1.0.1/envs/newron-dev/lib/python3.6/site-packages/pandas/io/pickle.py\u001B[0m in \u001B[0;36mread_pickle\u001B[0;34m(path, compression)\u001B[0m\n\u001B[1;32m    176\u001B[0m     \u001B[0;32mtry\u001B[0m\u001B[0;34m:\u001B[0m\u001B[0;34m\u001B[0m\u001B[0m\n\u001B[0;32m--> 177\u001B[0;31m         \u001B[0;32mreturn\u001B[0m \u001B[0mtry_read\u001B[0m\u001B[0;34m(\u001B[0m\u001B[0mpath\u001B[0m\u001B[0;34m)\u001B[0m\u001B[0;34m\u001B[0m\u001B[0m\n\u001B[0m\u001B[1;32m    178\u001B[0m     \u001B[0;32mexcept\u001B[0m\u001B[0;34m:\u001B[0m\u001B[0;34m\u001B[0m\u001B[0m\n",
      "\u001B[0;32m/opt/cloudera/parcels/Anaconda-5.1.0.1/envs/newron-dev/lib/python3.6/site-packages/pandas/io/pickle.py\u001B[0m in \u001B[0;36mtry_read\u001B[0;34m(path, encoding)\u001B[0m\n\u001B[1;32m    174\u001B[0m                 return read_wrapper(\n\u001B[0;32m--> 175\u001B[0;31m                     lambda f: pc.load(f, encoding=encoding, compat=True))\n\u001B[0m\u001B[1;32m    176\u001B[0m     \u001B[0;32mtry\u001B[0m\u001B[0;34m:\u001B[0m\u001B[0;34m\u001B[0m\u001B[0m\n",
      "\u001B[0;32m/opt/cloudera/parcels/Anaconda-5.1.0.1/envs/newron-dev/lib/python3.6/site-packages/pandas/io/pickle.py\u001B[0m in \u001B[0;36mread_wrapper\u001B[0;34m(func)\u001B[0m\n\u001B[1;32m    146\u001B[0m                             \u001B[0mcompression\u001B[0m\u001B[0;34m=\u001B[0m\u001B[0minferred_compression\u001B[0m\u001B[0;34m,\u001B[0m\u001B[0;34m\u001B[0m\u001B[0m\n\u001B[0;32m--> 147\u001B[0;31m                             is_text=False)\n\u001B[0m\u001B[1;32m    148\u001B[0m         \u001B[0;32mtry\u001B[0m\u001B[0;34m:\u001B[0m\u001B[0;34m\u001B[0m\u001B[0m\n",
      "\u001B[0;32m/opt/cloudera/parcels/Anaconda-5.1.0.1/envs/newron-dev/lib/python3.6/site-packages/pandas/io/common.py\u001B[0m in \u001B[0;36m_get_handle\u001B[0;34m(path_or_buf, mode, encoding, compression, memory_map, is_text)\u001B[0m\n\u001B[1;32m    405\u001B[0m             \u001B[0;31m# Python 3 and binary mode\u001B[0m\u001B[0;34m\u001B[0m\u001B[0;34m\u001B[0m\u001B[0m\n\u001B[0;32m--> 406\u001B[0;31m             \u001B[0mf\u001B[0m \u001B[0;34m=\u001B[0m \u001B[0mopen\u001B[0m\u001B[0;34m(\u001B[0m\u001B[0mpath_or_buf\u001B[0m\u001B[0;34m,\u001B[0m \u001B[0mmode\u001B[0m\u001B[0;34m)\u001B[0m\u001B[0;34m\u001B[0m\u001B[0m\n\u001B[0m\u001B[1;32m    407\u001B[0m         \u001B[0mhandles\u001B[0m\u001B[0;34m.\u001B[0m\u001B[0mappend\u001B[0m\u001B[0;34m(\u001B[0m\u001B[0mf\u001B[0m\u001B[0;34m)\u001B[0m\u001B[0;34m\u001B[0m\u001B[0m\n",
      "\u001B[0;31mFileNotFoundError\u001B[0m: [Errno 2] No such file or directory: 'fact_pdf.pkl'",
      "\nDuring handling of the above exception, another exception occurred:\n",
      "\u001B[0;31mFileNotFoundError\u001B[0m                         Traceback (most recent call last)",
      "\u001B[0;32m/opt/cloudera/parcels/Anaconda-5.1.0.1/envs/newron-dev/lib/python3.6/site-packages/pandas/io/pickle.py\u001B[0m in \u001B[0;36mtry_read\u001B[0;34m(path, encoding)\u001B[0m\n\u001B[1;32m    165\u001B[0m                 \u001B[0;31m# We want to silencce any warnings about, e.g. moved modules.\u001B[0m\u001B[0;34m\u001B[0m\u001B[0;34m\u001B[0m\u001B[0m\n\u001B[0;32m--> 166\u001B[0;31m                 \u001B[0;32mreturn\u001B[0m \u001B[0mread_wrapper\u001B[0m\u001B[0;34m(\u001B[0m\u001B[0;32mlambda\u001B[0m \u001B[0mf\u001B[0m\u001B[0;34m:\u001B[0m \u001B[0mpkl\u001B[0m\u001B[0;34m.\u001B[0m\u001B[0mload\u001B[0m\u001B[0;34m(\u001B[0m\u001B[0mf\u001B[0m\u001B[0;34m)\u001B[0m\u001B[0;34m)\u001B[0m\u001B[0;34m\u001B[0m\u001B[0m\n\u001B[0m\u001B[1;32m    167\u001B[0m         \u001B[0;32mexcept\u001B[0m \u001B[0mException\u001B[0m\u001B[0;34m:\u001B[0m\u001B[0;34m\u001B[0m\u001B[0m\n",
      "\u001B[0;32m/opt/cloudera/parcels/Anaconda-5.1.0.1/envs/newron-dev/lib/python3.6/site-packages/pandas/io/pickle.py\u001B[0m in \u001B[0;36mread_wrapper\u001B[0;34m(func)\u001B[0m\n\u001B[1;32m    146\u001B[0m                             \u001B[0mcompression\u001B[0m\u001B[0;34m=\u001B[0m\u001B[0minferred_compression\u001B[0m\u001B[0;34m,\u001B[0m\u001B[0;34m\u001B[0m\u001B[0m\n\u001B[0;32m--> 147\u001B[0;31m                             is_text=False)\n\u001B[0m\u001B[1;32m    148\u001B[0m         \u001B[0;32mtry\u001B[0m\u001B[0;34m:\u001B[0m\u001B[0;34m\u001B[0m\u001B[0m\n",
      "\u001B[0;32m/opt/cloudera/parcels/Anaconda-5.1.0.1/envs/newron-dev/lib/python3.6/site-packages/pandas/io/common.py\u001B[0m in \u001B[0;36m_get_handle\u001B[0;34m(path_or_buf, mode, encoding, compression, memory_map, is_text)\u001B[0m\n\u001B[1;32m    405\u001B[0m             \u001B[0;31m# Python 3 and binary mode\u001B[0m\u001B[0;34m\u001B[0m\u001B[0;34m\u001B[0m\u001B[0m\n\u001B[0;32m--> 406\u001B[0;31m             \u001B[0mf\u001B[0m \u001B[0;34m=\u001B[0m \u001B[0mopen\u001B[0m\u001B[0;34m(\u001B[0m\u001B[0mpath_or_buf\u001B[0m\u001B[0;34m,\u001B[0m \u001B[0mmode\u001B[0m\u001B[0;34m)\u001B[0m\u001B[0;34m\u001B[0m\u001B[0m\n\u001B[0m\u001B[1;32m    407\u001B[0m         \u001B[0mhandles\u001B[0m\u001B[0;34m.\u001B[0m\u001B[0mappend\u001B[0m\u001B[0;34m(\u001B[0m\u001B[0mf\u001B[0m\u001B[0;34m)\u001B[0m\u001B[0;34m\u001B[0m\u001B[0m\n",
      "\u001B[0;31mFileNotFoundError\u001B[0m: [Errno 2] No such file or directory: 'fact_pdf.pkl'",
      "\nDuring handling of the above exception, another exception occurred:\n",
      "\u001B[0;31mFileNotFoundError\u001B[0m                         Traceback (most recent call last)",
      "\u001B[0;32m/opt/cloudera/parcels/Anaconda-5.1.0.1/envs/newron-dev/lib/python3.6/site-packages/pandas/io/pickle.py\u001B[0m in \u001B[0;36mtry_read\u001B[0;34m(path, encoding)\u001B[0m\n\u001B[1;32m    170\u001B[0m                 return read_wrapper(\n\u001B[0;32m--> 171\u001B[0;31m                     lambda f: pc.load(f, encoding=encoding, compat=False))\n\u001B[0m\u001B[1;32m    172\u001B[0m             \u001B[0;31m# compat pickle\u001B[0m\u001B[0;34m\u001B[0m\u001B[0;34m\u001B[0m\u001B[0m\n",
      "\u001B[0;32m/opt/cloudera/parcels/Anaconda-5.1.0.1/envs/newron-dev/lib/python3.6/site-packages/pandas/io/pickle.py\u001B[0m in \u001B[0;36mread_wrapper\u001B[0;34m(func)\u001B[0m\n\u001B[1;32m    146\u001B[0m                             \u001B[0mcompression\u001B[0m\u001B[0;34m=\u001B[0m\u001B[0minferred_compression\u001B[0m\u001B[0;34m,\u001B[0m\u001B[0;34m\u001B[0m\u001B[0m\n\u001B[0;32m--> 147\u001B[0;31m                             is_text=False)\n\u001B[0m\u001B[1;32m    148\u001B[0m         \u001B[0;32mtry\u001B[0m\u001B[0;34m:\u001B[0m\u001B[0;34m\u001B[0m\u001B[0m\n",
      "\u001B[0;32m/opt/cloudera/parcels/Anaconda-5.1.0.1/envs/newron-dev/lib/python3.6/site-packages/pandas/io/common.py\u001B[0m in \u001B[0;36m_get_handle\u001B[0;34m(path_or_buf, mode, encoding, compression, memory_map, is_text)\u001B[0m\n\u001B[1;32m    405\u001B[0m             \u001B[0;31m# Python 3 and binary mode\u001B[0m\u001B[0;34m\u001B[0m\u001B[0;34m\u001B[0m\u001B[0m\n\u001B[0;32m--> 406\u001B[0;31m             \u001B[0mf\u001B[0m \u001B[0;34m=\u001B[0m \u001B[0mopen\u001B[0m\u001B[0;34m(\u001B[0m\u001B[0mpath_or_buf\u001B[0m\u001B[0;34m,\u001B[0m \u001B[0mmode\u001B[0m\u001B[0;34m)\u001B[0m\u001B[0;34m\u001B[0m\u001B[0m\n\u001B[0m\u001B[1;32m    407\u001B[0m         \u001B[0mhandles\u001B[0m\u001B[0;34m.\u001B[0m\u001B[0mappend\u001B[0m\u001B[0;34m(\u001B[0m\u001B[0mf\u001B[0m\u001B[0;34m)\u001B[0m\u001B[0;34m\u001B[0m\u001B[0m\n",
      "\u001B[0;31mFileNotFoundError\u001B[0m: [Errno 2] No such file or directory: 'fact_pdf.pkl'",
      "\nDuring handling of the above exception, another exception occurred:\n",
      "\u001B[0;31mFileNotFoundError\u001B[0m                         Traceback (most recent call last)",
      "\u001B[0;32m<ipython-input-18-220dda79809d>\u001B[0m in \u001B[0;36m<module>\u001B[0;34m\u001B[0m\n\u001B[0;32m----> 1\u001B[0;31m \u001B[0;32mimport\u001B[0m \u001B[0mjm_NEWE6883_20200422_data_preparation\u001B[0m\u001B[0;34m\u001B[0m\u001B[0m\n\u001B[0m",
      "\u001B[0;32m/opt/cloudera/parcels/Anaconda-5.1.0.1/envs/newron-dev/lib/python3.6/importlib/_bootstrap.py\u001B[0m in \u001B[0;36m_find_and_load\u001B[0;34m(name, import_)\u001B[0m\n",
      "\u001B[0;32m/opt/cloudera/parcels/Anaconda-5.1.0.1/envs/newron-dev/lib/python3.6/importlib/_bootstrap.py\u001B[0m in \u001B[0;36m_find_and_load_unlocked\u001B[0;34m(name, import_)\u001B[0m\n",
      "\u001B[0;32m/opt/cloudera/parcels/Anaconda-5.1.0.1/envs/newron-dev/lib/python3.6/importlib/_bootstrap.py\u001B[0m in \u001B[0;36m_load_unlocked\u001B[0;34m(spec)\u001B[0m\n",
      "\u001B[0;32m/opt/cloudera/parcels/Anaconda-5.1.0.1/envs/newron-dev/lib/python3.6/importlib/_bootstrap.py\u001B[0m in \u001B[0;36m_load_backward_compatible\u001B[0;34m(spec)\u001B[0m\n",
      "\u001B[0;32m~/dev/src/common/nbloader.py\u001B[0m in \u001B[0;36mload_module\u001B[0;34m(self, fullname)\u001B[0m\n\u001B[1;32m     62\u001B[0m                     \u001B[0mcode\u001B[0m \u001B[0;34m=\u001B[0m \u001B[0mself\u001B[0m\u001B[0;34m.\u001B[0m\u001B[0mshell\u001B[0m\u001B[0;34m.\u001B[0m\u001B[0minput_transformer_manager\u001B[0m\u001B[0;34m.\u001B[0m\u001B[0mtransform_cell\u001B[0m\u001B[0;34m(\u001B[0m\u001B[0mcell\u001B[0m\u001B[0;34m.\u001B[0m\u001B[0msource\u001B[0m\u001B[0;34m)\u001B[0m\u001B[0;34m\u001B[0m\u001B[0m\n\u001B[1;32m     63\u001B[0m                     \u001B[0;31m# run the code in themodule\u001B[0m\u001B[0;34m\u001B[0m\u001B[0;34m\u001B[0m\u001B[0m\n\u001B[0;32m---> 64\u001B[0;31m                     \u001B[0mexec\u001B[0m\u001B[0;34m(\u001B[0m\u001B[0mcode\u001B[0m\u001B[0;34m,\u001B[0m \u001B[0mmod\u001B[0m\u001B[0;34m.\u001B[0m\u001B[0m__dict__\u001B[0m\u001B[0;34m)\u001B[0m\u001B[0;34m\u001B[0m\u001B[0m\n\u001B[0m\u001B[1;32m     65\u001B[0m         \u001B[0;32mfinally\u001B[0m\u001B[0;34m:\u001B[0m\u001B[0;34m\u001B[0m\u001B[0m\n\u001B[1;32m     66\u001B[0m             \u001B[0mself\u001B[0m\u001B[0;34m.\u001B[0m\u001B[0mshell\u001B[0m\u001B[0;34m.\u001B[0m\u001B[0muser_ns\u001B[0m \u001B[0;34m=\u001B[0m \u001B[0msave_user_ns\u001B[0m\u001B[0;34m\u001B[0m\u001B[0m\n",
      "\u001B[0;32m~/dev/notebooks/sales-prediction/discovery/jm_NEWE6883_20200422_data_preparation.ipynb\u001B[0m in \u001B[0;36m<module>\u001B[0;34m\u001B[0m\n",
      "\u001B[0;32m/opt/cloudera/parcels/Anaconda-5.1.0.1/envs/newron-dev/lib/python3.6/site-packages/pandas/io/pickle.py\u001B[0m in \u001B[0;36mread_pickle\u001B[0;34m(path, compression)\u001B[0m\n\u001B[1;32m    178\u001B[0m     \u001B[0;32mexcept\u001B[0m\u001B[0;34m:\u001B[0m\u001B[0;34m\u001B[0m\u001B[0m\n\u001B[1;32m    179\u001B[0m         \u001B[0;32mif\u001B[0m \u001B[0mPY3\u001B[0m\u001B[0;34m:\u001B[0m\u001B[0;34m\u001B[0m\u001B[0m\n\u001B[0;32m--> 180\u001B[0;31m             \u001B[0;32mreturn\u001B[0m \u001B[0mtry_read\u001B[0m\u001B[0;34m(\u001B[0m\u001B[0mpath\u001B[0m\u001B[0;34m,\u001B[0m \u001B[0mencoding\u001B[0m\u001B[0;34m=\u001B[0m\u001B[0;34m'latin1'\u001B[0m\u001B[0;34m)\u001B[0m\u001B[0;34m\u001B[0m\u001B[0m\n\u001B[0m\u001B[1;32m    181\u001B[0m         \u001B[0;32mraise\u001B[0m\u001B[0;34m\u001B[0m\u001B[0m\n\u001B[1;32m    182\u001B[0m \u001B[0;34m\u001B[0m\u001B[0m\n",
      "\u001B[0;32m/opt/cloudera/parcels/Anaconda-5.1.0.1/envs/newron-dev/lib/python3.6/site-packages/pandas/io/pickle.py\u001B[0m in \u001B[0;36mtry_read\u001B[0;34m(path, encoding)\u001B[0m\n\u001B[1;32m    173\u001B[0m             \u001B[0;32mexcept\u001B[0m\u001B[0;34m:\u001B[0m\u001B[0;34m\u001B[0m\u001B[0m\n\u001B[1;32m    174\u001B[0m                 return read_wrapper(\n\u001B[0;32m--> 175\u001B[0;31m                     lambda f: pc.load(f, encoding=encoding, compat=True))\n\u001B[0m\u001B[1;32m    176\u001B[0m     \u001B[0;32mtry\u001B[0m\u001B[0;34m:\u001B[0m\u001B[0;34m\u001B[0m\u001B[0m\n\u001B[1;32m    177\u001B[0m         \u001B[0;32mreturn\u001B[0m \u001B[0mtry_read\u001B[0m\u001B[0;34m(\u001B[0m\u001B[0mpath\u001B[0m\u001B[0;34m)\u001B[0m\u001B[0;34m\u001B[0m\u001B[0m\n",
      "\u001B[0;32m/opt/cloudera/parcels/Anaconda-5.1.0.1/envs/newron-dev/lib/python3.6/site-packages/pandas/io/pickle.py\u001B[0m in \u001B[0;36mread_wrapper\u001B[0;34m(func)\u001B[0m\n\u001B[1;32m    145\u001B[0m         f, fh = _get_handle(path, 'rb',\n\u001B[1;32m    146\u001B[0m                             \u001B[0mcompression\u001B[0m\u001B[0;34m=\u001B[0m\u001B[0minferred_compression\u001B[0m\u001B[0;34m,\u001B[0m\u001B[0;34m\u001B[0m\u001B[0m\n\u001B[0;32m--> 147\u001B[0;31m                             is_text=False)\n\u001B[0m\u001B[1;32m    148\u001B[0m         \u001B[0;32mtry\u001B[0m\u001B[0;34m:\u001B[0m\u001B[0;34m\u001B[0m\u001B[0m\n\u001B[1;32m    149\u001B[0m             \u001B[0;32mreturn\u001B[0m \u001B[0mfunc\u001B[0m\u001B[0;34m(\u001B[0m\u001B[0mf\u001B[0m\u001B[0;34m)\u001B[0m\u001B[0;34m\u001B[0m\u001B[0m\n",
      "\u001B[0;32m/opt/cloudera/parcels/Anaconda-5.1.0.1/envs/newron-dev/lib/python3.6/site-packages/pandas/io/common.py\u001B[0m in \u001B[0;36m_get_handle\u001B[0;34m(path_or_buf, mode, encoding, compression, memory_map, is_text)\u001B[0m\n\u001B[1;32m    404\u001B[0m         \u001B[0;32melse\u001B[0m\u001B[0;34m:\u001B[0m\u001B[0;34m\u001B[0m\u001B[0m\n\u001B[1;32m    405\u001B[0m             \u001B[0;31m# Python 3 and binary mode\u001B[0m\u001B[0;34m\u001B[0m\u001B[0;34m\u001B[0m\u001B[0m\n\u001B[0;32m--> 406\u001B[0;31m             \u001B[0mf\u001B[0m \u001B[0;34m=\u001B[0m \u001B[0mopen\u001B[0m\u001B[0;34m(\u001B[0m\u001B[0mpath_or_buf\u001B[0m\u001B[0;34m,\u001B[0m \u001B[0mmode\u001B[0m\u001B[0;34m)\u001B[0m\u001B[0;34m\u001B[0m\u001B[0m\n\u001B[0m\u001B[1;32m    407\u001B[0m         \u001B[0mhandles\u001B[0m\u001B[0;34m.\u001B[0m\u001B[0mappend\u001B[0m\u001B[0;34m(\u001B[0m\u001B[0mf\u001B[0m\u001B[0;34m)\u001B[0m\u001B[0;34m\u001B[0m\u001B[0m\n\u001B[1;32m    408\u001B[0m \u001B[0;34m\u001B[0m\u001B[0m\n",
      "\u001B[0;31mFileNotFoundError\u001B[0m: [Errno 2] No such file or directory: 'fact_pdf.pkl'"
     ]
    }
   ],
   "source": [
    "import jm_NEWE6883_20200422_data_preparation"
   ]
  },
  {
   "cell_type": "code",
   "execution_count": null,
   "metadata": {},
   "outputs": [],
   "source": []
  }
 ],
 "metadata": {
  "kernelspec": {
   "display_name": "Python 3",
   "language": "python",
   "name": "python3"
  },
  "language_info": {
   "codemirror_mode": {
    "name": "ipython",
    "version": 3
   },
   "file_extension": ".py",
   "mimetype": "text/x-python",
   "name": "python",
   "nbconvert_exporter": "python",
   "pygments_lexer": "ipython3",
   "version": "3.6.6"
  }
 },
 "nbformat": 4,
 "nbformat_minor": 4
}
