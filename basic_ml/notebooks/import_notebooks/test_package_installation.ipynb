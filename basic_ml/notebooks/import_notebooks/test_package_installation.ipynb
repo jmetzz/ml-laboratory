{
 "cells": [
  {
   "cell_type": "markdown",
   "source": [
    "# Jupyter-* and python package installation hell\n",
    "\n",
    "The Jupyter notebook core features are:\n",
    "- a messaging protocol for introspecting and executing code which is language agnostic\n",
    "- an editable file format for describing and capturing code, code output, and markdown notes\n",
    "- a web-based UI for interactively writing and running code as well as visualizing outputs\n",
    "\n",
    "The Jupyter protocol provides a standard messaging API to communicate with kernels that act as \n",
    "computational engines. The protocol enables a composable architecture that separates where \n",
    "content is written (the UI) and where code is executed (the kernel).\n",
    "\n",
    "Jupyter Notebooks/Lab (or just Jupyter for short) connects to many kernels allowing programming in many languages, \n",
    "such as Python, R, Ruby, Python, and Haskel, to mention just a few. By default, \n",
    "If a kernel exists for a language that knows how to communicate using the Jupyter protocol,\n",
    "notebooks can run code by sending messages back and forth with that kernel. Jupyter Notebook comes with the \n",
    "[IPython kernel](https://ipython.readthedocs.io/en/stable/install/kernel_install.html).\n",
    "which is the Python execution backend for Jupyter.\n",
    "\n",
    "Jupyter provides a web user interface and an **engine**. This engine is known as **kernel** and is what\n",
    "runs the ser code inside the notebook.\n",
    "\n",
    "The Jupyter and other frontend tools ensure that the IPython kernel is available.\n",
    "This kernel refers to the one in the environment from which Jupyter was started. \n",
    "Therefore, if you are running from a conda environment, or virtualenv environment, or system \n",
    "wide environment, it makes a difference in which `python` command is used.  \n",
    " \n",
    "However, if you want to use a different python backend (or kernel) with a different version of Python, or in a \n",
    "virtualenv or conda environment, you’ll need to install this other kernel manually.\n",
    "\n",
    "> There are some plugins to help automate this step. See conda jupyter notebooks plugins, for example.\n",
    "\n",
    "With all these terms and different environments, one might be in trouble to make a dependency available for use in \n",
    "the notebook. Thus, let's try to clarify the installation process and how to avoid its pitfalls. \n",
    "\n",
    "Keep in mind the differences between:\n",
    "- System python installation\n",
    "- IPython Kernel, kernel for short\n",
    "- Python virtual environment\n",
    "    * virtualenv\n",
    "    * conda\n",
    "\n",
    "If you are running a *nix based machine (Mac OS included), you should already have a system wide pythons installation.\n",
    "\n",
    "```shell\n",
    "$ which python\n",
    "/usr/bin/python\n",
    "$ python --version\n",
    "Python 2.7.16\n",
    "```\n",
    "\n",
    "Or\n",
    "\n",
    "```shell\n",
    "$ which python3\n",
    "/usr/local/bin/python3\n",
    "$ python3 --version\n",
    "Python 3.7.7\n",
    "```\n",
    "\n",
    "In this case you _could_ install `jupyter` or `jupyterlab` packages and start having fun with it.\n",
    "If you do that however, it will end up been installed in the _global_ python installation (system wide).\n",
    "This is not a good idea, since it is always better to isolate your development environments and \n",
    "avoid touching the system installation. This will also ensure you don't upgrade (by mistake) any system\n",
    "dependencies. Doing that might break system's functionalities that rely on the specific versions of python packages.\n",
    "\n",
    "Having said that, you should create isolated virtual environment based on `conda`, `virtualenv`, \n",
    "or any other virtual environment tool. Inside of this isolated environment you can install whatever you want.\n",
    "\n",
    "Let's use `conda` environment.\n",
    "\n",
    "[Install miniconda](https://conda.io/docs/user-guide/install/macos.html) by running the next command:\n",
    "\n",
    "```shell\n",
    "$ wget https://repo.anaconda.com/miniconda/Miniconda3-latest-MacOSX-x86_64.sh -O ~/miniconda.sh\n",
    "$ bash ~/miniconda.sh -p $HOME/miniconda\n",
    "```\n",
    "\n",
    "Accept the license terms, indicate the home installation path, and run `conda init`, which  \n",
    "will apply the correct configuration to your `.bash_profile` file.\n",
    "\n",
    "Create a `conda` environment based on python 3.7 and add `jupyterlab` to it:\n",
    "\n",
    "```shell\n",
    "$ conda create -n jupyter-tests python=3.7 jupyterlab\n",
    "...\n",
    "Preparing transaction: done\n",
    "Verifying transaction: done\n",
    "Executing transaction: done\n",
    "#\n",
    "# To activate this environment, use\n",
    "#\n",
    "#     $ conda activate jupyter-tests\n",
    "#\n",
    "# To deactivate an active environment, use\n",
    "#\n",
    "#     $ conda deactivate\n",
    "$ \n",
    "```\n",
    "\n",
    "Activate this environment and start jupyter lab.\n",
    "\n",
    "```shell\n",
    "$ conda activate jupyter-tests\n",
    "$ jupyter lab\n",
    "```\n",
    "\n",
    "Your browser should open automatically on the jupyter lab UI, with the laucher tab active, from where you can create \n",
    "notebooks or access the terminal.\n",
    "\n",
    "Check with python is available from the terminal in the jupyter lab web ui:\n",
    "\n",
    "```shell\n",
    "$ which python \n",
    "/usr/bin/python       \n",
    "$ type python\n",
    "python is /usr/bin/python\n",
    "$ python --version \n",
    "Python 2.7.16\n",
    "$ which python3\n",
    "/usr/local/bin/python3\n",
    "$ python3 --version \n",
    "Python 3.7.7\n",
    "```\n",
    "\n",
    "Even though you are running the commands from the terminal inside the jupyter lab instance, you are actually accessing \n",
    "the system python installation :(\n",
    "\n",
    "\n",
    "---\n",
    "\n",
    "\n",
    "add the Conda environment to your Jupyter notebook.\n",
    "to set this conda environment on your jupyter notebook, to do so please install ipykernel.\n",
    "\n",
    "      conda install -c anaconda ipykernel\n",
    "      python -m ipykernel install --user --name=firstEnv\n",
    "      \n",
    "      \n",
    "The last command installs a kernel spec file for the current python installation. \n",
    "Kernel spec files are JSON files, which can be viewed and changed with a normal text editor.\n",
    "\n",
    "If you want to have multiple IPython kernels for different virtualenvs or conda environments, \n",
    "you will need to specify unique names for the kernelspecs.\n",
    "\n",
    "\n",
    "With that out of the way, let's make sure python packages are installed in the correct environment and that \n",
    "you can import them from the notebook.\n",
    "\n",
    "      "
   ],
   "metadata": {
    "collapsed": false,
    "pycharm": {
     "name": "#%% md\n",
     "is_executing": false
    }
   }
  },
  {
   "cell_type": "code",
   "execution_count": 1,
   "metadata": {
    "pycharm": {
     "name": "#%%\n"
    }
   },
   "outputs": [
    {
     "name": "stdout",
     "output_type": "stream",
     "text": [
      "python is /Users/jean.metz/miniconda/envs/covid19/bin/python\n"
     ]
    }
   ],
   "source": [
    "!type python"
   ]
  },
  {
   "cell_type": "code",
   "execution_count": 2,
   "metadata": {
    "pycharm": {
     "is_executing": false,
     "name": "#%%\n"
    }
   },
   "outputs": [
    {
     "name": "stdout",
     "text": [
      "python is /Users/jean.metz/miniconda/envs/covid19/bin/python\r\n",
      "python is /usr/bin/python\r\n"
     ],
     "output_type": "stream"
    }
   ],
   "source": [
    "!type -a python"
   ]
  },
  {
   "cell_type": "code",
   "execution_count": 3,
   "metadata": {
    "pycharm": {
     "is_executing": false,
     "name": "#%%\n"
    }
   },
   "outputs": [
    {
     "name": "stdout",
     "text": [
      "conda is /Users/jean.metz/miniconda/condabin/conda\r\n"
     ],
     "output_type": "stream"
    }
   ],
   "source": [
    "!type -a conda"
   ]
  },
  {
   "cell_type": "code",
   "execution_count": 4,
   "metadata": {
    "pycharm": {
     "name": "#%%\n"
    }
   },
   "outputs": [
    {
     "name": "stdout",
     "output_type": "stream",
     "text": [
      "pip is /Users/jean.metz/miniconda/envs/covid19/bin/pip\n"
     ]
    }
   ],
   "source": [
    "!type -a pip"
   ]
  },
  {
   "cell_type": "code",
   "execution_count": 5,
   "metadata": {
    "pycharm": {
     "name": "#%%\n"
    }
   },
   "outputs": [
    {
     "data": {
      "text/plain": [
       "['/Users/jean.metz/workspace/jmetzz/ml-laboratory/notebooks/tutorials',\n",
       " '/Users/jean.metz/miniconda/envs/covid19/lib/python37.zip',\n",
       " '/Users/jean.metz/miniconda/envs/covid19/lib/python3.7',\n",
       " '/Users/jean.metz/miniconda/envs/covid19/lib/python3.7/lib-dynload',\n",
       " '',\n",
       " '/Users/jean.metz/miniconda/envs/covid19/lib/python3.7/site-packages',\n",
       " '/Users/jean.metz/miniconda/envs/covid19/lib/python3.7/site-packages/IPython/extensions',\n",
       " '/Users/jean.metz/.ipython']"
      ]
     },
     "execution_count": 5,
     "metadata": {},
     "output_type": "execute_result"
    }
   ],
   "source": [
    "import sys\n",
    "sys.path"
   ]
  },
  {
   "cell_type": "code",
   "execution_count": 6,
   "metadata": {
    "pycharm": {
     "name": "#%%\n"
    }
   },
   "outputs": [
    {
     "data": {
      "text/plain": [
       "['/Users/jean.metz/miniconda/envs/covid19/lib/python3.7/site-packages/numpy']"
      ]
     },
     "execution_count": 6,
     "metadata": {},
     "output_type": "execute_result"
    }
   ],
   "source": [
    "import numpy\n",
    "numpy.__path__"
   ]
  },
  {
   "cell_type": "code",
   "execution_count": 7,
   "metadata": {
    "pycharm": {
     "name": "#%%\n"
    }
   },
   "outputs": [
    {
     "name": "stdout",
     "output_type": "stream",
     "text": [
      "/Users/jean.metz/miniconda/envs/covid19/bin/python\n",
      "['', '/Users/jean.metz/miniconda/envs/covid19/lib/python37.zip', '/Users/jean.metz/miniconda/envs/covid19/lib/python3.7', '/Users/jean.metz/miniconda/envs/covid19/lib/python3.7/lib-dynload', '/Users/jean.metz/miniconda/envs/covid19/lib/python3.7/site-packages']\n",
      "\n",
      "/usr/bin/python\n",
      "['', '/System/Library/Frameworks/Python.framework/Versions/2.7/lib/python27.zip', '/System/Library/Frameworks/Python.framework/Versions/2.7/lib/python2.7', '/System/Library/Frameworks/Python.framework/Versions/2.7/lib/python2.7/plat-darwin', '/System/Library/Frameworks/Python.framework/Versions/2.7/lib/python2.7/plat-mac', '/System/Library/Frameworks/Python.framework/Versions/2.7/lib/python2.7/plat-mac/lib-scriptpackages', '/System/Library/Frameworks/Python.framework/Versions/2.7/lib/python2.7/lib-tk', '/System/Library/Frameworks/Python.framework/Versions/2.7/lib/python2.7/lib-old', '/System/Library/Frameworks/Python.framework/Versions/2.7/lib/python2.7/lib-dynload', '/Library/Python/2.7/site-packages', '/System/Library/Frameworks/Python.framework/Versions/2.7/Extras/lib/python', '/System/Library/Frameworks/Python.framework/Versions/2.7/Extras/lib/python/PyObjC']\n",
      "\n"
     ]
    }
   ],
   "source": [
    "paths = !type -a python\n",
    "for path in set(paths):\n",
    "    path = path.split()[-1]\n",
    "    print(path)\n",
    "    !{path} -c \"import sys; print(sys.path)\"\n",
    "    print()"
   ]
  },
  {
   "cell_type": "code",
   "execution_count": 8,
   "metadata": {
    "pycharm": {
     "name": "#%%\n"
    }
   },
   "outputs": [
    {
     "name": "stdout",
     "output_type": "stream",
     "text": [
      "# conda environments:\n",
      "#\n",
      "base                     /Users/jean.metz/miniconda\n",
      "bert_sentiment_analysis     /Users/jean.metz/miniconda/envs/bert_sentiment_analysis\n",
      "covid19               *  /Users/jean.metz/miniconda/envs/covid19\n",
      "ml-laboratory            /Users/jean.metz/miniconda/envs/ml-laboratory\n",
      "thinc.ai                 /Users/jean.metz/miniconda/envs/thinc.ai\n",
      "\n"
     ]
    }
   ],
   "source": [
    "!conda env list"
   ]
  },
  {
   "cell_type": "code",
   "execution_count": 10,
   "metadata": {
    "pycharm": {
     "name": "#%%\n"
    }
   },
   "outputs": [
    {
     "name": "stdout",
     "output_type": "stream",
     "text": [
      "Available kernels:\n",
      "  python3    /Users/jean.metz/miniconda/envs/covid19/share/jupyter/kernels/python3\n"
     ]
    }
   ],
   "source": [
    "!jupyter kernelspec list"
   ]
  },
  {
   "cell_type": "code",
   "execution_count": 11,
   "metadata": {
    "pycharm": {
     "name": "#%%\n"
    }
   },
   "outputs": [
    {
     "data": {
      "text/plain": [
       "'/Users/jean.metz/miniconda/envs/covid19/bin/python'"
      ]
     },
     "execution_count": 11,
     "metadata": {},
     "output_type": "execute_result"
    }
   ],
   "source": [
    "sys.executable"
   ]
  },
  {
   "cell_type": "code",
   "execution_count": 12,
   "metadata": {
    "pycharm": {
     "name": "#%%\n"
    }
   },
   "outputs": [
    {
     "name": "stdout",
     "output_type": "stream",
     "text": [
      "python is /Users/jean.metz/miniconda/envs/covid19/bin/python\n"
     ]
    }
   ],
   "source": [
    "!type python"
   ]
  },
  {
   "cell_type": "code",
   "execution_count": 13,
   "metadata": {
    "pycharm": {
     "name": "#%%\n"
    }
   },
   "outputs": [
    {
     "data": {
      "text/plain": [
       "'/Users/jean.metz/miniconda/envs/covid19'"
      ]
     },
     "execution_count": 13,
     "metadata": {},
     "output_type": "execute_result"
    }
   ],
   "source": [
    "sys.prefix"
   ]
  },
  {
   "cell_type": "code",
   "execution_count": null,
   "metadata": {
    "pycharm": {
     "name": "#%%\n"
    }
   },
   "outputs": [],
   "source": []
  },
  {
   "cell_type": "markdown",
   "source": [
    "## References\n",
    "\n",
    "- [Getting Started with Jupyter Notebook](https://www.pluralsight.com/guides/jupyter-notebook-getting-started)\n",
    "\n",
    "\n"
   ],
   "metadata": {
    "collapsed": false,
    "pycharm": {
     "name": "#%% md\n"
    }
   }
  }
 ],
 "metadata": {
  "kernelspec": {
   "display_name": "Python [conda env:covid19]",
   "language": "python",
   "name": "conda-env-covid19-py"
  },
  "language_info": {
   "codemirror_mode": {
    "name": "ipython",
    "version": 3
   },
   "file_extension": ".py",
   "mimetype": "text/x-python",
   "name": "python",
   "nbconvert_exporter": "python",
   "pygments_lexer": "ipython3",
   "version": "3.7.6"
  },
  "pycharm": {
   "stem_cell": {
    "cell_type": "raw",
    "source": [],
    "metadata": {
     "collapsed": false
    }
   }
  }
 },
 "nbformat": 4,
 "nbformat_minor": 4
}