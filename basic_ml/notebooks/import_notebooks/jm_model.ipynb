{
 "cells": [
  {
   "cell_type": "code",
   "execution_count": 1,
   "metadata": {
    "collapsed": false,
    "pycharm": {
     "name": "#%%\n"
    }
   },
   "outputs": [],
   "source": [
    "import os\n",
    "import sys\n",
    "from pathlib import PurePath\n",
    "\n",
    "# add custom python modules root to the path variable,\n",
    "#root_path = PurePath(os.getcwd()).parents[2].joinpath('src')\n",
    "#sys.path.insert(0, root_path)\n",
    "root_path = \"/home/jnmetz/tmp/src\"\n",
    "sys.path.append(root_path)"
   ]
  },
  {
   "cell_type": "code",
   "execution_count": 2,
   "metadata": {
    "collapsed": false,
    "pycharm": {
     "name": "#%%\n"
    }
   },
   "outputs": [],
   "source": [
    "from importlib import reload\n",
    "import pyspark.sql.functions as F\n",
    "import pandas as pd\n",
    "import numpy as np\n",
    "\n",
    "import salesprediction.modelling.evaluation_metric as em\n",
    "import salesprediction.modelling.client_usecase_aggregation as cua\n",
    "import salesprediction.datapipeline.train_data_generation as tdg\n",
    "import salesprediction.modelling.baseline_model as baseline_model\n",
    "import salesprediction.modelling.xgboost_model as xgboost_model"
   ]
  },
  {
   "cell_type": "markdown",
   "metadata": {
    "pycharm": {
     "name": "#%% md\n"
    }
   },
   "source": [
    "## Modeling\n"
   ]
  },
  {
   "cell_type": "code",
   "execution_count": 3,
   "metadata": {},
   "outputs": [],
   "source": [
    "# copied from data preparation step ---->\n",
    "\n",
    "target_cell = \"wash_de\"  #Slow-moving, Homogeneous\n",
    "#target_cell = \"headset_fr\"  #Many SKUs, Fast-moving\n",
    "#target_cell = \"ptv_ru\"  #High revenue, Homogeneous\n",
    "#target_cell = \"hotbev_de\"  #Heterogeneous\n",
    "#target_cell = \"cool_cn\"  #revenue, Slow-moving, Homogeneous, Many SKUs\n",
    "#target_cell = \"printers_fr\" #Few SKUs, Low revenue\n",
    "granularity = \"1m\"\n",
    "latest_start_date = \"latest\"\n",
    "\n",
    "category = target_cell.split(\"_\")[0]\n",
    "country = target_cell.split(\"_\")[1]\n",
    "# copied <----"
   ]
  },
  {
   "cell_type": "markdown",
   "metadata": {},
   "source": [
    "## Load and split data"
   ]
  },
  {
   "cell_type": "code",
   "execution_count": 4,
   "metadata": {
    "collapsed": false,
    "pycharm": {
     "name": "#%%\n"
    }
   },
   "outputs": [
    {
     "name": "stdout",
     "output_type": "stream",
     "text": [
      "Min_date - max_date in input data:  2014-01-01 - 2020-03-01\n",
      "Train periods:  2014-01-01 - 2019-02-01\n",
      "Test periods:  2019-08-01 - 2019-10-01\n",
      "Number of observations in full / train / test:  3283183 / 2679028 / 145520\n",
      "Percentage of observations in train / test:  81.6 / 4.43\n",
      "Percentage loss of observations:  13.97\n"
     ]
    }
   ],
   "source": [
    "# read from pickle\n",
    "result_pdf = pd.read_pickle(category + \"_\" + country + \"_result_pdf_features.pkl\")\n",
    "train_validation_data_pdf, test_data_pdf = tdg.train_test_split(result_pdf)"
   ]
  },
  {
   "cell_type": "markdown",
   "metadata": {},
   "source": [
    "## Train test split\n",
    "\n",
    "\n"
   ]
  },
  {
   "cell_type": "code",
   "execution_count": 6,
   "metadata": {
    "collapsed": false,
    "pycharm": {
     "name": "#%%\n"
    }
   },
   "outputs": [
    {
     "name": "stdout",
     "output_type": "stream",
     "text": [
      "Min_date - max_date in input data:  2014-01-01 - 2020-03-01\n",
      "Train periods:  2014-01-01 - 2019-02-01\n",
      "Test periods:  2019-08-01 - 2019-10-01\n",
      "Number of observations in full / train / test:  3283183 / 2679028 / 145520\n",
      "Percentage of observations in train / test:  81.6 / 4.43\n",
      "Percentage loss of observations:  13.97\n"
     ]
    }
   ],
   "source": [
    "train_validation_data_pdf, test_data_pdf = tdg.train_test_split(result_pdf)"
   ]
  },
  {
   "cell_type": "markdown",
   "metadata": {},
   "source": [
    "### Filter training data\n",
    "* Keep only those item-outlet combinations where the item was at least 12 months on shelf within the training period\n"
   ]
  },
  {
   "cell_type": "code",
   "execution_count": 7,
   "metadata": {
    "collapsed": false,
    "pycharm": {
     "name": "#%%\n"
    }
   },
   "outputs": [
    {
     "name": "stdout",
     "output_type": "stream",
     "text": [
      "2679028\n",
      "559584\n"
     ]
    }
   ],
   "source": [
    "train_validation_data_filtered_pdf = train_validation_data_pdf[(train_validation_data_pdf['salesvalue_lc_lag_6'].notna()) \n",
    "                                                               & (train_validation_data_pdf['salesvalue_lc_lead_5'].notna())]\n",
    "\n",
    "print(len(train_validation_data_pdf))\n",
    "print(len(train_validation_data_filtered_pdf))"
   ]
  },
  {
   "cell_type": "markdown",
   "metadata": {},
   "source": [
    "### Filter test data\n",
    "* Keep only those item-outlet combinations where the item was at least 12 months on shelf within the testing period"
   ]
  },
  {
   "cell_type": "code",
   "execution_count": 8,
   "metadata": {
    "collapsed": false,
    "pycharm": {
     "name": "#%%\n"
    }
   },
   "outputs": [
    {
     "name": "stdout",
     "output_type": "stream",
     "text": [
      "145520\n",
      "29954\n"
     ]
    }
   ],
   "source": [
    "test_data_filtered_pdf = test_data_pdf[(test_data_pdf['salesvalue_lc_lag_6'].notna()) \n",
    "                                                               & (test_data_pdf['salesvalue_lc_lead_5'].notna())]\n",
    "print(len(test_data_pdf))\n",
    "print(len(test_data_filtered_pdf))"
   ]
  },
  {
   "cell_type": "markdown",
   "metadata": {},
   "source": [
    "### What proportion of salesvalue in the test data are we losing due to this filtering condition? "
   ]
  },
  {
   "cell_type": "code",
   "execution_count": 9,
   "metadata": {
    "collapsed": false,
    "pycharm": {
     "name": "#%%\n"
    }
   },
   "outputs": [
    {
     "name": "stdout",
     "output_type": "stream",
     "text": [
      "We only capture 49% of the salesvalue in our prediction/evaluation due to the above filtering conditions\n"
     ]
    }
   ],
   "source": [
    "print(\"We only capture \"  + \n",
    "      \"{0:.0%}\".format(test_data_filtered_pdf[\"target_next_6\"].sum()/test_data_pdf[\"target_next_6\"].sum()) +\n",
    "                       \" of the salesvalue in our prediction/evaluation due to the above filtering conditions\")"
   ]
  },
  {
   "cell_type": "markdown",
   "metadata": {},
   "source": [
    "### Define features to be used in modeling "
   ]
  },
  {
   "cell_type": "code",
   "execution_count": 10,
   "metadata": {
    "collapsed": false,
    "pycharm": {
     "name": "#%%\n"
    }
   },
   "outputs": [],
   "source": [
    "# lagged variables\n",
    "lagged_12_cols = [\"salesvalue_lc\" + \"_lag_\" + str(i) for i in range(1, 7)]\n",
    "\n",
    "# seasonal dummies\n",
    "seasonal_dummies = [\"is_in_month_\" + str(i).zfill(2) for i in range(1, 13)]\n",
    "\n",
    "# rolling features\n",
    "rolling_features =  ['salesvalue_lc_rmean_3',\n",
    "                     'salesvalue_lc_rmean_6',\n",
    "                     'salesvalue_lc_rmed_3',\n",
    "                     'salesvalue_lc_rmed_6',\n",
    "                     'salesvalue_lc_lag_3_ewm_0.9',\n",
    "                     'salesvalue_lc_lag_6_ewm_0.9']\n",
    "\n",
    "\n",
    "diverse_features = [\"asp\", \"item_age\", #\"item_age_outlet_lvl\",\n",
    "                    \"outlet_sales_in_category\"]\n",
    "\n",
    "# combination\n",
    "features =  lagged_12_cols  + seasonal_dummies + rolling_features + diverse_features #+ trended_features\n"
   ]
  },
  {
   "cell_type": "markdown",
   "metadata": {},
   "source": [
    "### Create train and test feature matrix"
   ]
  },
  {
   "cell_type": "code",
   "execution_count": 12,
   "metadata": {
    "collapsed": false,
    "pycharm": {
     "name": "#%%\n"
    }
   },
   "outputs": [],
   "source": [
    "X_train = train_validation_data_filtered_pdf[features].values\n",
    "y_train = train_validation_data_filtered_pdf[\"target_next_6\"].values\n",
    "X_test = test_data_filtered_pdf[features].values\n",
    "y_test = test_data_filtered_pdf[\"target_next_6\"].values"
   ]
  },
  {
   "cell_type": "markdown",
   "metadata": {},
   "source": [
    "### Baseline model"
   ]
  },
  {
   "cell_type": "code",
   "execution_count": 14,
   "metadata": {
    "collapsed": false,
    "pycharm": {
     "name": "#%%\n"
    }
   },
   "outputs": [
    {
     "name": "stderr",
     "output_type": "stream",
     "text": [
      "/opt/cloudera/parcels/Anaconda-5.1.0.1/envs/newron-dev/lib/python3.6/site-packages/ipykernel_launcher.py:2: SettingWithCopyWarning: \n",
      "A value is trying to be set on a copy of a slice from a DataFrame.\n",
      "Try using .loc[row_indexer,col_indexer] = value instead\n",
      "\n",
      "See the caveats in the documentation: http://pandas.pydata.org/pandas-docs/stable/indexing.html#indexing-view-versus-copy\n",
      "  \n"
     ]
    }
   ],
   "source": [
    "\n",
    "test_data_filtered_pdf[\"baseline_prediction\"] = baseline_model.predict(test_data_filtered_pdf)"
   ]
  },
  {
   "cell_type": "markdown",
   "metadata": {},
   "source": [
    "### Fit xgboost model"
   ]
  },
  {
   "cell_type": "code",
   "execution_count": 17,
   "metadata": {
    "collapsed": false,
    "pycharm": {
     "name": "#%%\n"
    }
   },
   "outputs": [
    {
     "name": "stdout",
     "output_type": "stream",
     "text": [
      "[0]\tvalidation_0-rmse:73257.9\tvalidation_1-rmse:74605.7\n",
      "[1]\tvalidation_0-rmse:70377\tvalidation_1-rmse:72196.4\n",
      "[2]\tvalidation_0-rmse:67603\tvalidation_1-rmse:69875.7\n",
      "[3]\tvalidation_0-rmse:65055.6\tvalidation_1-rmse:67794.3\n",
      "[4]\tvalidation_0-rmse:62648\tvalidation_1-rmse:65912.4\n",
      "[5]\tvalidation_0-rmse:60328.9\tvalidation_1-rmse:63912.7\n",
      "[6]\tvalidation_0-rmse:58146.1\tvalidation_1-rmse:62033.5\n",
      "[7]\tvalidation_0-rmse:56102.2\tvalidation_1-rmse:60341.4\n",
      "[8]\tvalidation_0-rmse:54161.4\tvalidation_1-rmse:58895.1\n",
      "[9]\tvalidation_0-rmse:52326.8\tvalidation_1-rmse:57468.4\n",
      "[10]\tvalidation_0-rmse:50576.7\tvalidation_1-rmse:56227.4\n",
      "[11]\tvalidation_0-rmse:48960.1\tvalidation_1-rmse:54968.4\n",
      "[12]\tvalidation_0-rmse:47410.1\tvalidation_1-rmse:53747\n",
      "[13]\tvalidation_0-rmse:45967.4\tvalidation_1-rmse:52610.6\n",
      "[14]\tvalidation_0-rmse:44639.8\tvalidation_1-rmse:51611.6\n",
      "[15]\tvalidation_0-rmse:43413.6\tvalidation_1-rmse:50684.4\n",
      "[16]\tvalidation_0-rmse:42223.9\tvalidation_1-rmse:49810.3\n",
      "[17]\tvalidation_0-rmse:41132.6\tvalidation_1-rmse:49045.8\n",
      "[18]\tvalidation_0-rmse:40108\tvalidation_1-rmse:48324.2\n",
      "[19]\tvalidation_0-rmse:39091.8\tvalidation_1-rmse:47543.6\n",
      "[20]\tvalidation_0-rmse:38152.9\tvalidation_1-rmse:46864.6\n",
      "[21]\tvalidation_0-rmse:37258.9\tvalidation_1-rmse:46119.7\n",
      "[22]\tvalidation_0-rmse:36470.9\tvalidation_1-rmse:45644.1\n",
      "[23]\tvalidation_0-rmse:35698.1\tvalidation_1-rmse:45043.6\n",
      "[24]\tvalidation_0-rmse:35018.2\tvalidation_1-rmse:44535.1\n",
      "[25]\tvalidation_0-rmse:34346\tvalidation_1-rmse:44073.5\n",
      "[26]\tvalidation_0-rmse:33753.3\tvalidation_1-rmse:43685.4\n",
      "[27]\tvalidation_0-rmse:33227.1\tvalidation_1-rmse:43348.5\n",
      "[28]\tvalidation_0-rmse:32691.4\tvalidation_1-rmse:43041\n",
      "[29]\tvalidation_0-rmse:32137\tvalidation_1-rmse:42687.1\n",
      "[30]\tvalidation_0-rmse:31659.8\tvalidation_1-rmse:42321.2\n",
      "[31]\tvalidation_0-rmse:31181.4\tvalidation_1-rmse:41991.8\n",
      "[32]\tvalidation_0-rmse:30764\tvalidation_1-rmse:41766.5\n",
      "[33]\tvalidation_0-rmse:30378.7\tvalidation_1-rmse:41558.2\n",
      "[34]\tvalidation_0-rmse:29999.3\tvalidation_1-rmse:41322.3\n",
      "[35]\tvalidation_0-rmse:29645.4\tvalidation_1-rmse:41108.8\n",
      "[36]\tvalidation_0-rmse:29347.1\tvalidation_1-rmse:40934.3\n",
      "[37]\tvalidation_0-rmse:29046.6\tvalidation_1-rmse:40787.3\n",
      "[38]\tvalidation_0-rmse:28767.8\tvalidation_1-rmse:40623.8\n",
      "[39]\tvalidation_0-rmse:28499.3\tvalidation_1-rmse:40449.6\n",
      "[40]\tvalidation_0-rmse:28261.4\tvalidation_1-rmse:40333.6\n",
      "[41]\tvalidation_0-rmse:28040.2\tvalidation_1-rmse:40274.3\n",
      "[42]\tvalidation_0-rmse:27819.5\tvalidation_1-rmse:40210\n",
      "[43]\tvalidation_0-rmse:27626.6\tvalidation_1-rmse:40120.4\n",
      "[44]\tvalidation_0-rmse:27421.4\tvalidation_1-rmse:40076.8\n",
      "[45]\tvalidation_0-rmse:27258.5\tvalidation_1-rmse:40016.3\n",
      "[46]\tvalidation_0-rmse:27106.7\tvalidation_1-rmse:39947.8\n",
      "[47]\tvalidation_0-rmse:26945.9\tvalidation_1-rmse:39912.7\n",
      "[48]\tvalidation_0-rmse:26792.3\tvalidation_1-rmse:39846.4\n",
      "[49]\tvalidation_0-rmse:26672\tvalidation_1-rmse:39778.5\n",
      "[50]\tvalidation_0-rmse:26532.5\tvalidation_1-rmse:39676.9\n",
      "[51]\tvalidation_0-rmse:26406.9\tvalidation_1-rmse:39719.6\n",
      "[52]\tvalidation_0-rmse:26278.3\tvalidation_1-rmse:39697.2\n",
      "[53]\tvalidation_0-rmse:26171.2\tvalidation_1-rmse:39568.5\n",
      "[54]\tvalidation_0-rmse:26078.6\tvalidation_1-rmse:39522.3\n",
      "[55]\tvalidation_0-rmse:25989.7\tvalidation_1-rmse:39475.3\n",
      "[56]\tvalidation_0-rmse:25876.7\tvalidation_1-rmse:39480.4\n",
      "[57]\tvalidation_0-rmse:25786.2\tvalidation_1-rmse:39502.4\n",
      "[58]\tvalidation_0-rmse:25697.5\tvalidation_1-rmse:39471.9\n",
      "[59]\tvalidation_0-rmse:25622.3\tvalidation_1-rmse:39489.4\n",
      "[60]\tvalidation_0-rmse:25538\tvalidation_1-rmse:39452.7\n",
      "[61]\tvalidation_0-rmse:25439.4\tvalidation_1-rmse:39503.9\n",
      "[62]\tvalidation_0-rmse:25363.5\tvalidation_1-rmse:39443.9\n",
      "[63]\tvalidation_0-rmse:25305.4\tvalidation_1-rmse:39486.7\n",
      "[64]\tvalidation_0-rmse:25241.6\tvalidation_1-rmse:39453.9\n",
      "[65]\tvalidation_0-rmse:25166.1\tvalidation_1-rmse:39447.8\n",
      "[66]\tvalidation_0-rmse:25118.5\tvalidation_1-rmse:39468.1\n",
      "[67]\tvalidation_0-rmse:25062.1\tvalidation_1-rmse:39488.7\n",
      "[68]\tvalidation_0-rmse:24973.5\tvalidation_1-rmse:39452.5\n",
      "[69]\tvalidation_0-rmse:24937.4\tvalidation_1-rmse:39463.3\n",
      "[70]\tvalidation_0-rmse:24887.5\tvalidation_1-rmse:39498.6\n",
      "[71]\tvalidation_0-rmse:24835.8\tvalidation_1-rmse:39526.3\n",
      "[72]\tvalidation_0-rmse:24777\tvalidation_1-rmse:39516.8\n",
      "[73]\tvalidation_0-rmse:24714.4\tvalidation_1-rmse:39492.9\n",
      "[74]\tvalidation_0-rmse:24670.1\tvalidation_1-rmse:39477.6\n",
      "[75]\tvalidation_0-rmse:24611.4\tvalidation_1-rmse:39505.9\n",
      "[76]\tvalidation_0-rmse:24544.3\tvalidation_1-rmse:39523.8\n",
      "[77]\tvalidation_0-rmse:24502.3\tvalidation_1-rmse:39526.1\n",
      "[78]\tvalidation_0-rmse:24469.2\tvalidation_1-rmse:39547.5\n",
      "[79]\tvalidation_0-rmse:24439.7\tvalidation_1-rmse:39548.5\n",
      "[80]\tvalidation_0-rmse:24375.1\tvalidation_1-rmse:39527.4\n",
      "[81]\tvalidation_0-rmse:24346.7\tvalidation_1-rmse:39524\n",
      "[82]\tvalidation_0-rmse:24320.2\tvalidation_1-rmse:39517.1\n",
      "[83]\tvalidation_0-rmse:24281.2\tvalidation_1-rmse:39565.5\n",
      "[84]\tvalidation_0-rmse:24263.2\tvalidation_1-rmse:39541.2\n",
      "[85]\tvalidation_0-rmse:24213\tvalidation_1-rmse:39565.6\n",
      "[86]\tvalidation_0-rmse:24189.2\tvalidation_1-rmse:39564.5\n",
      "[87]\tvalidation_0-rmse:24126.6\tvalidation_1-rmse:39558\n",
      "[88]\tvalidation_0-rmse:24088\tvalidation_1-rmse:39556\n",
      "[89]\tvalidation_0-rmse:24045.7\tvalidation_1-rmse:39554.6\n",
      "[90]\tvalidation_0-rmse:24027.7\tvalidation_1-rmse:39554.2\n",
      "[91]\tvalidation_0-rmse:23995.6\tvalidation_1-rmse:39669.3\n",
      "[92]\tvalidation_0-rmse:23968.4\tvalidation_1-rmse:39674.4\n",
      "[93]\tvalidation_0-rmse:23910.3\tvalidation_1-rmse:39710.9\n",
      "[94]\tvalidation_0-rmse:23894.4\tvalidation_1-rmse:39727.1\n",
      "[95]\tvalidation_0-rmse:23856.9\tvalidation_1-rmse:39714.5\n",
      "[96]\tvalidation_0-rmse:23842.7\tvalidation_1-rmse:39728.3\n",
      "[97]\tvalidation_0-rmse:23831.3\tvalidation_1-rmse:39737.1\n",
      "[98]\tvalidation_0-rmse:23812.9\tvalidation_1-rmse:39759.5\n",
      "[99]\tvalidation_0-rmse:23792.4\tvalidation_1-rmse:39784.1\n",
      "[100]\tvalidation_0-rmse:23760.3\tvalidation_1-rmse:39769.3\n",
      "[101]\tvalidation_0-rmse:23728.3\tvalidation_1-rmse:39757.8\n",
      "[102]\tvalidation_0-rmse:23711.5\tvalidation_1-rmse:39767.7\n",
      "[103]\tvalidation_0-rmse:23666.1\tvalidation_1-rmse:39822.4\n",
      "[104]\tvalidation_0-rmse:23646.6\tvalidation_1-rmse:39846.5\n",
      "[105]\tvalidation_0-rmse:23602.8\tvalidation_1-rmse:39873.9\n",
      "[106]\tvalidation_0-rmse:23542.7\tvalidation_1-rmse:39898.7\n",
      "[107]\tvalidation_0-rmse:23510.7\tvalidation_1-rmse:39895.7\n",
      "[108]\tvalidation_0-rmse:23485.2\tvalidation_1-rmse:39904.8\n",
      "[109]\tvalidation_0-rmse:23457.3\tvalidation_1-rmse:39894.1\n",
      "[110]\tvalidation_0-rmse:23413.9\tvalidation_1-rmse:39889.5\n",
      "[111]\tvalidation_0-rmse:23371.6\tvalidation_1-rmse:39874.4\n",
      "[112]\tvalidation_0-rmse:23343.2\tvalidation_1-rmse:39890.9\n",
      "[113]\tvalidation_0-rmse:23318.6\tvalidation_1-rmse:39905.3\n",
      "[114]\tvalidation_0-rmse:23302.9\tvalidation_1-rmse:39907.4\n",
      "[115]\tvalidation_0-rmse:23277.5\tvalidation_1-rmse:39900.9\n",
      "[116]\tvalidation_0-rmse:23242.1\tvalidation_1-rmse:39940.8\n",
      "[117]\tvalidation_0-rmse:23236.9\tvalidation_1-rmse:39962.1\n",
      "[118]\tvalidation_0-rmse:23206.9\tvalidation_1-rmse:40002\n",
      "[119]\tvalidation_0-rmse:23196.6\tvalidation_1-rmse:39998.7\n",
      "[120]\tvalidation_0-rmse:23189.7\tvalidation_1-rmse:39989.5\n",
      "[121]\tvalidation_0-rmse:23174.8\tvalidation_1-rmse:40025.7\n",
      "[122]\tvalidation_0-rmse:23154.5\tvalidation_1-rmse:40042.2\n",
      "[123]\tvalidation_0-rmse:23106.9\tvalidation_1-rmse:40099.6\n",
      "[124]\tvalidation_0-rmse:23091\tvalidation_1-rmse:40100.6\n",
      "[125]\tvalidation_0-rmse:23073.3\tvalidation_1-rmse:40074.5\n",
      "[126]\tvalidation_0-rmse:23047.6\tvalidation_1-rmse:40073.9\n",
      "[127]\tvalidation_0-rmse:23031.4\tvalidation_1-rmse:40048.7\n",
      "[128]\tvalidation_0-rmse:23019.3\tvalidation_1-rmse:40033.7\n",
      "[129]\tvalidation_0-rmse:22990.9\tvalidation_1-rmse:40016.7\n",
      "[130]\tvalidation_0-rmse:22974.1\tvalidation_1-rmse:40036.4\n",
      "[131]\tvalidation_0-rmse:22960.5\tvalidation_1-rmse:40042.8\n",
      "[132]\tvalidation_0-rmse:22947.9\tvalidation_1-rmse:40042.7\n",
      "[133]\tvalidation_0-rmse:22933\tvalidation_1-rmse:40040\n",
      "[134]\tvalidation_0-rmse:22903.4\tvalidation_1-rmse:40035\n",
      "[135]\tvalidation_0-rmse:22874.6\tvalidation_1-rmse:40008.9\n",
      "[136]\tvalidation_0-rmse:22830.1\tvalidation_1-rmse:40047.2\n",
      "[137]\tvalidation_0-rmse:22790.1\tvalidation_1-rmse:40052.8\n",
      "[138]\tvalidation_0-rmse:22782.2\tvalidation_1-rmse:40081.5\n",
      "[139]\tvalidation_0-rmse:22745.7\tvalidation_1-rmse:40094.5\n",
      "[140]\tvalidation_0-rmse:22714.6\tvalidation_1-rmse:40096.7\n",
      "[141]\tvalidation_0-rmse:22686.7\tvalidation_1-rmse:40102.1\n",
      "[142]\tvalidation_0-rmse:22679.4\tvalidation_1-rmse:40096.2\n",
      "[143]\tvalidation_0-rmse:22638.8\tvalidation_1-rmse:40110.5\n",
      "[144]\tvalidation_0-rmse:22623.1\tvalidation_1-rmse:40118.5\n",
      "[145]\tvalidation_0-rmse:22587.3\tvalidation_1-rmse:40129.3\n",
      "[146]\tvalidation_0-rmse:22561.7\tvalidation_1-rmse:40139.9\n",
      "[147]\tvalidation_0-rmse:22542.3\tvalidation_1-rmse:40143.8\n",
      "[148]\tvalidation_0-rmse:22496.3\tvalidation_1-rmse:40177.7\n",
      "[149]\tvalidation_0-rmse:22475.9\tvalidation_1-rmse:40184.8\n"
     ]
    }
   ],
   "source": [
    "xg_reg = xgboost_model.fit_model(X_train, X_test, y_train, y_test)"
   ]
  },
  {
   "cell_type": "markdown",
   "metadata": {},
   "source": [
    "#### Inspect train vs. test set loss"
   ]
  },
  {
   "cell_type": "code",
   "execution_count": 18,
   "metadata": {
    "collapsed": false,
    "pycharm": {
     "name": "#%%\n"
    }
   },
   "outputs": [
    {
     "data": {
      "text/plain": [
       "<matplotlib.axes._subplots.AxesSubplot at 0x7fbf9bcdd240>"
      ]
     },
     "execution_count": 18,
     "metadata": {},
     "output_type": "execute_result"
    },
    {
     "data": {
      "image/png": "[encoded data removed]",
      "text/plain": [
       "<Figure size 432x288 with 1 Axes>"
      ]
     },
     "metadata": {
      "needs_background": "light"
     },
     "output_type": "display_data"
    }
   ],
   "source": [
    "xgboost_model.xgb_train_vs_test_loss(xg_reg)"
   ]
  },
  {
   "cell_type": "markdown",
   "metadata": {},
   "source": [
    "#### Inspect feature importances"
   ]
  },
  {
   "cell_type": "code",
   "execution_count": 19,
   "metadata": {
    "collapsed": false,
    "pycharm": {
     "name": "#%%\n"
    }
   },
   "outputs": [
    {
     "data": {
      "text/plain": [
       "<matplotlib.axes._subplots.AxesSubplot at 0x7fbfaa587e10>"
      ]
     },
     "execution_count": 19,
     "metadata": {},
     "output_type": "execute_result"
    },
    {
     "data": {
      "image/png": "[encoded data removed]",
      "text/plain": [
       "<Figure size 720x576 with 1 Axes>"
      ]
     },
     "metadata": {
      "needs_background": "light"
     },
     "output_type": "display_data"
    }
   ],
   "source": [
    "import matplotlib.pyplot as plt\n",
    "plt.figure(figsize=(10, 8))\n",
    "xgboost_model.xgb_feature_importances(xg_reg, features)"
   ]
  },
  {
   "cell_type": "markdown",
   "metadata": {},
   "source": [
    "#### Predict"
   ]
  },
  {
   "cell_type": "code",
   "execution_count": 20,
   "metadata": {
    "collapsed": false,
    "pycharm": {
     "name": "#%%\n"
    }
   },
   "outputs": [],
   "source": [
    "shop_channel = 'Technical Superstores'\n",
    "shop_size = 'Medium'"
   ]
  },
  {
   "cell_type": "markdown",
   "metadata": {},
   "source": [
    "#### Apply shop size & channel to only predict on the relevant stores"
   ]
  },
  {
   "cell_type": "code",
   "execution_count": 21,
   "metadata": {
    "collapsed": false,
    "pycharm": {
     "name": "#%%\n"
    }
   },
   "outputs": [],
   "source": [
    "test_data_for_pred = test_data_filtered_pdf[(test_data_filtered_pdf['channel'] == shop_channel) & (test_data_filtered_pdf['shop_size'] == shop_size)]\n",
    "X_test_for_pred = test_data_for_pred[features].values"
   ]
  },
  {
   "cell_type": "code",
   "execution_count": 22,
   "metadata": {
    "collapsed": false,
    "pycharm": {
     "name": "#%%\n"
    }
   },
   "outputs": [
    {
     "name": "stderr",
     "output_type": "stream",
     "text": [
      "/opt/cloudera/parcels/Anaconda-5.1.0.1/envs/newron-dev/lib/python3.6/site-packages/ipykernel_launcher.py:1: SettingWithCopyWarning: \n",
      "A value is trying to be set on a copy of a slice from a DataFrame.\n",
      "Try using .loc[row_indexer,col_indexer] = value instead\n",
      "\n",
      "See the caveats in the documentation: http://pandas.pydata.org/pandas-docs/stable/indexing.html#indexing-view-versus-copy\n",
      "  \"\"\"Entry point for launching an IPython kernel.\n"
     ]
    }
   ],
   "source": [
    "test_data_for_pred[\"xgboost_prediction\"] = xg_reg.predict(X_test_for_pred)"
   ]
  },
  {
   "cell_type": "markdown",
   "metadata": {},
   "source": [
    "### Aggregate the predictions"
   ]
  },
  {
   "cell_type": "markdown",
   "metadata": {},
   "source": [
    "#### Create aggregated response variable to check against"
   ]
  },
  {
   "cell_type": "code",
   "execution_count": 23,
   "metadata": {
    "collapsed": false,
    "pycharm": {
     "name": "#%%\n"
    }
   },
   "outputs": [],
   "source": [
    "aggregated_resp_var = cua.aggregate_resp_var(test_data_for_pred, response_var = 'target_next_6',\n",
    "                       shop_size = shop_size, shop_channel = shop_channel)"
   ]
  },
  {
   "cell_type": "markdown",
   "metadata": {},
   "source": [
    "#### Simply calculate mean prediction per item/channel/store size level"
   ]
  },
  {
   "cell_type": "code",
   "execution_count": 24,
   "metadata": {
    "collapsed": false,
    "pycharm": {
     "name": "#%%\n"
    }
   },
   "outputs": [],
   "source": [
    "final_results = cua.aggregate_predictions_to_store_size_channel_item_level(test_data_for_pred)"
   ]
  },
  {
   "cell_type": "code",
   "execution_count": 25,
   "metadata": {
    "collapsed": false,
    "pycharm": {
     "name": "#%%\n"
    }
   },
   "outputs": [],
   "source": [
    "# merge the results to the main table for validation\n",
    "aggregated_resp_var = pd.merge(aggregated_resp_var, final_results, \n",
    "                              on = ['item_id', 'channel', 'shop_size', 'period_id'], how = 'left')"
   ]
  },
  {
   "cell_type": "markdown",
   "metadata": {},
   "source": [
    "## Evaluation"
   ]
  },
  {
   "cell_type": "markdown",
   "metadata": {},
   "source": [
    "#### Run MAPE"
   ]
  },
  {
   "cell_type": "code",
   "execution_count": 26,
   "metadata": {
    "collapsed": false,
    "pycharm": {
     "name": "#%%\n"
    }
   },
   "outputs": [
    {
     "data": {
      "text/plain": [
       "27.39094643396561"
      ]
     },
     "execution_count": 26,
     "metadata": {},
     "output_type": "execute_result"
    }
   ],
   "source": [
    "em.calculate_mape_metric_good_granularity(aggregated_resp_var, predicted_col = 'mean_xgboost_prediction',\n",
    "                                          expected_col = 'target_next_6_aggregated')"
   ]
  },
  {
   "cell_type": "markdown",
   "metadata": {},
   "source": [
    "## Loop over all channels & segments to check how well each one is doing in terms of MAPE"
   ]
  },
  {
   "cell_type": "markdown",
   "metadata": {},
   "source": [
    "### Define threshold of 20 observations required per segment to make a prediction"
   ]
  },
  {
   "cell_type": "code",
   "execution_count": 27,
   "metadata": {
    "collapsed": false,
    "pycharm": {
     "name": "#%%\n"
    }
   },
   "outputs": [],
   "source": [
    "MIN_OBSERVATIONS_TO_PREDICT = 20"
   ]
  },
  {
   "cell_type": "code",
   "execution_count": 28,
   "metadata": {
    "collapsed": false,
    "pycharm": {
     "name": "#%%\n"
    }
   },
   "outputs": [],
   "source": [
    "all_channels = test_data_filtered_pdf['channel'].unique().tolist()\n",
    "all_shop_sizes = test_data_filtered_pdf['shop_size'].unique().tolist()"
   ]
  },
  {
   "cell_type": "code",
   "execution_count": 29,
   "metadata": {
    "collapsed": false,
    "pycharm": {
     "name": "#%%\n"
    }
   },
   "outputs": [
    {
     "name": "stdout",
     "output_type": "stream",
     "text": [
      "Number of observations for channel: Electrical Specialists, size: Medium: 317\n",
      "Number of observations for channel: Electrical Specialists, size: Medium: 317\n",
      "Number of observations for channel: Electrical Specialists, size: Small: 88\n",
      "Number of observations for channel: Electrical Specialists, size: Small: 88\n",
      "Number of observations for channel: Electrical Specialists, size: Large: 568\n",
      "Number of observations for channel: Electrical Specialists, size: Large: 568\n"
     ]
    },
    {
     "name": "stderr",
     "output_type": "stream",
     "text": [
      "/opt/cloudera/parcels/Anaconda-5.1.0.1/envs/newron-dev/lib/python3.6/site-packages/ipykernel_launcher.py:29: SettingWithCopyWarning: \n",
      "A value is trying to be set on a copy of a slice from a DataFrame.\n",
      "Try using .loc[row_indexer,col_indexer] = value instead\n",
      "\n",
      "See the caveats in the documentation: http://pandas.pydata.org/pandas-docs/stable/indexing.html#indexing-view-versus-copy\n"
     ]
    },
    {
     "name": "stdout",
     "output_type": "stream",
     "text": [
      "Number of observations for channel: Technical Superstores, size: Medium: 5747\n",
      "Number of observations for channel: Technical Superstores, size: Medium: 5747\n",
      "Number of observations for channel: Technical Superstores, size: Small: 2146\n",
      "Number of observations for channel: Technical Superstores, size: Small: 2146\n",
      "Number of observations for channel: Technical Superstores, size: Large: 15862\n",
      "Number of observations for channel: Technical Superstores, size: Large: 15862\n",
      "Number of observations for channel: Hypermarkets, size: Medium: 683\n",
      "Number of observations for channel: Hypermarkets, size: Medium: 683\n",
      "Number of observations for channel: Hypermarkets, size: Small: 105\n",
      "Number of observations for channel: Hypermarkets, size: Small: 105\n",
      "Number of observations for channel: Hypermarkets, size: Large: 632\n",
      "Number of observations for channel: Hypermarkets, size: Large: 632\n",
      "Number of observations for channel: Cash&Carry, size: Medium: 552\n",
      "Number of observations for channel: Cash&Carry, size: Medium: 552\n",
      "Number of observations for channel: Cash&Carry, size: Small: 42\n",
      "Number of observations for channel: Cash&Carry, size: Small: 42\n",
      "Number of observations for channel: Cash&Carry, size: Large: 848\n",
      "Number of observations for channel: Cash&Carry, size: Large: 848\n",
      "Number of observations for channel: Pure Players Generalists, size: Medium: 84\n",
      "Number of observations for channel: Pure Players Generalists, size: Medium: 84\n",
      "Number of observations for channel: Pure Players Generalists, size: Small: 13\n",
      "Number of observations for channel: Pure Players Generalists, size: Small: 13 - too little observations to compute prediction\n",
      "Number of observations for channel: Pure Players Generalists, size: Large: 1421\n",
      "Number of observations for channel: Pure Players Generalists, size: Large: 1421\n",
      "Number of observations for channel: Department Stores, size: Medium: 90\n",
      "Number of observations for channel: Department Stores, size: Medium: 90\n",
      "Number of observations for channel: Department Stores, size: Small: 118\n",
      "Number of observations for channel: Department Stores, size: Small: 118\n",
      "Number of observations for channel: Department Stores, size: Large: 195\n",
      "Number of observations for channel: Department Stores, size: Large: 195\n",
      "Number of observations for channel: Computerhardware-Shops, size: Medium: 0\n",
      "Number of observations for channel: Computerhardware-Shops, size: Medium: 0 - too little observations to compute prediction\n",
      "Number of observations for channel: Computerhardware-Shops, size: Small: 0\n",
      "Number of observations for channel: Computerhardware-Shops, size: Small: 0 - too little observations to compute prediction\n",
      "Number of observations for channel: Computerhardware-Shops, size: Large: 260\n",
      "Number of observations for channel: Computerhardware-Shops, size: Large: 260\n",
      "Number of observations for channel: Mail Order Houses, size: Medium: 0\n",
      "Number of observations for channel: Mail Order Houses, size: Medium: 0 - too little observations to compute prediction\n",
      "Number of observations for channel: Mail Order Houses, size: Small: 3\n",
      "Number of observations for channel: Mail Order Houses, size: Small: 3 - too little observations to compute prediction\n",
      "Number of observations for channel: Mail Order Houses, size: Large: 0\n",
      "Number of observations for channel: Mail Order Houses, size: Large: 0 - too little observations to compute prediction\n",
      "Number of observations for channel: Furniture Specialists, size: Medium: 6\n",
      "Number of observations for channel: Furniture Specialists, size: Medium: 6 - too little observations to compute prediction\n",
      "Number of observations for channel: Furniture Specialists, size: Small: 5\n",
      "Number of observations for channel: Furniture Specialists, size: Small: 5 - too little observations to compute prediction\n",
      "Number of observations for channel: Furniture Specialists, size: Large: 13\n",
      "Number of observations for channel: Furniture Specialists, size: Large: 13 - too little observations to compute prediction\n",
      "Number of observations for channel: DIY Superstores, size: Medium: 75\n",
      "Number of observations for channel: DIY Superstores, size: Medium: 75\n",
      "Number of observations for channel: DIY Superstores, size: Small: 54\n",
      "Number of observations for channel: DIY Superstores, size: Small: 54\n",
      "Number of observations for channel: DIY Superstores, size: Large: 19\n",
      "Number of observations for channel: DIY Superstores, size: Large: 19 - too little observations to compute prediction\n",
      "Number of observations for channel: Kitchen Specialists, size: Medium: 2\n",
      "Number of observations for channel: Kitchen Specialists, size: Medium: 2 - too little observations to compute prediction\n",
      "Number of observations for channel: Kitchen Specialists, size: Small: 0\n",
      "Number of observations for channel: Kitchen Specialists, size: Small: 0 - too little observations to compute prediction\n",
      "Number of observations for channel: Kitchen Specialists, size: Large: 0\n",
      "Number of observations for channel: Kitchen Specialists, size: Large: 0 - too little observations to compute prediction\n",
      "Number of observations for channel: Supermarkets, size: Medium: 0\n",
      "Number of observations for channel: Supermarkets, size: Medium: 0 - too little observations to compute prediction\n",
      "Number of observations for channel: Supermarkets, size: Small: 4\n",
      "Number of observations for channel: Supermarkets, size: Small: 4 - too little observations to compute prediction\n",
      "Number of observations for channel: Supermarkets, size: Large: 2\n",
      "Number of observations for channel: Supermarkets, size: Large: 2 - too little observations to compute prediction\n"
     ]
    }
   ],
   "source": [
    "shop_size_list = []\n",
    "channel_list = []\n",
    "main_xgboost_MAPE_list = []\n",
    "segm_count = []\n",
    "\n",
    "for shop_channel in all_channels:\n",
    "    \n",
    "    for shop_size in all_shop_sizes:\n",
    "        \n",
    "        shop_size_list.append(shop_size)\n",
    "        channel_list.append(shop_channel)\n",
    "        \n",
    "        test_data_for_pred = test_data_filtered_pdf[(test_data_filtered_pdf['channel'] == shop_channel) & (test_data_filtered_pdf['shop_size'] == shop_size)]\n",
    "        X_test_for_pred = test_data_for_pred[features].values\n",
    "        \n",
    "        segm_size = X_test_for_pred.shape[0]\n",
    "        segm_count.append(segm_size)\n",
    "        basic_printout = 'Number of observations for channel: %s, size: %s: %d' % (shop_channel, shop_size, segm_size)\n",
    "        print(basic_printout)\n",
    "        \n",
    "        \n",
    "        if segm_size < MIN_OBSERVATIONS_TO_PREDICT:\n",
    "            print(basic_printout + \" - too little observations to compute prediction\")\n",
    "            main_xgboost_MAPE_list.append(np.nan)            \n",
    "            next\n",
    "        else:\n",
    "            try:\n",
    "                print(basic_printout)\n",
    "                test_data_for_pred[\"xgboost_prediction\"] = xg_reg.predict(X_test_for_pred)\n",
    "\n",
    "                aggregated_resp_var = cua.aggregate_resp_var(test_data_for_pred, response_var = 'target_next_6',\n",
    "                           shop_size = shop_size , shop_channel = shop_channel)\n",
    "                final_results = cua.aggregate_predictions_to_store_size_channel_item_level(test_data_for_pred)\n",
    "                aggregated_resp_var = pd.merge(aggregated_resp_var, final_results, \n",
    "                                              on = ['item_id', 'channel', 'shop_size', 'period_id'], how = 'left')\n",
    "                MAPE_mean_xgboost = em.calculate_mape_metric_good_granularity(aggregated_resp_var, predicted_col = 'mean_xgboost_prediction',\n",
    "                                              expected_col = 'target_next_6_aggregated')\n",
    "                main_xgboost_MAPE_list.append(MAPE_mean_xgboost)\n",
    "                                   \n",
    "            except Exception as e:\n",
    "                print(e)"
   ]
  },
  {
   "cell_type": "code",
   "execution_count": 30,
   "metadata": {
    "collapsed": false,
    "pycharm": {
     "name": "#%%\n"
    }
   },
   "outputs": [],
   "source": [
    "# Summarize all into one dataframe\n",
    "\n",
    "summarized_data = {\n",
    "    'channel' : channel_list,\n",
    "    'shop_size': shop_size_list,\n",
    "    'nb_observations' : segm_count,\n",
    "    'mean_xgboost_prediction_MAPE' : main_xgboost_MAPE_list\n",
    "}\n",
    "    \n",
    "MAPE_per_segment = pd.DataFrame.from_dict(summarized_data)"
   ]
  },
  {
   "cell_type": "code",
   "execution_count": 31,
   "metadata": {
    "collapsed": false,
    "pycharm": {
     "name": "#%%\n"
    }
   },
   "outputs": [
    {
     "data": {
      "text/html": [
       "<div>\n",
       "<style scoped>\n",
       "    .dataframe tbody tr th:only-of-type {\n",
       "        vertical-align: middle;\n",
       "    }\n",
       "\n",
       "    .dataframe tbody tr th {\n",
       "        vertical-align: top;\n",
       "    }\n",
       "\n",
       "    .dataframe thead th {\n",
       "        text-align: right;\n",
       "    }\n",
       "</style>\n",
       "<table border=\"1\" class=\"dataframe\">\n",
       "  <thead>\n",
       "    <tr style=\"text-align: right;\">\n",
       "      <th></th>\n",
       "      <th>channel</th>\n",
       "      <th>shop_size</th>\n",
       "      <th>nb_observations</th>\n",
       "      <th>mean_xgboost_prediction_MAPE</th>\n",
       "    </tr>\n",
       "  </thead>\n",
       "  <tbody>\n",
       "    <tr>\n",
       "      <th>0</th>\n",
       "      <td>Electrical Specialists</td>\n",
       "      <td>Medium</td>\n",
       "      <td>317</td>\n",
       "      <td>31.186441</td>\n",
       "    </tr>\n",
       "    <tr>\n",
       "      <th>1</th>\n",
       "      <td>Electrical Specialists</td>\n",
       "      <td>Small</td>\n",
       "      <td>88</td>\n",
       "      <td>29.137673</td>\n",
       "    </tr>\n",
       "    <tr>\n",
       "      <th>2</th>\n",
       "      <td>Electrical Specialists</td>\n",
       "      <td>Large</td>\n",
       "      <td>568</td>\n",
       "      <td>30.059825</td>\n",
       "    </tr>\n",
       "    <tr>\n",
       "      <th>3</th>\n",
       "      <td>Technical Superstores</td>\n",
       "      <td>Medium</td>\n",
       "      <td>5747</td>\n",
       "      <td>27.390946</td>\n",
       "    </tr>\n",
       "    <tr>\n",
       "      <th>4</th>\n",
       "      <td>Technical Superstores</td>\n",
       "      <td>Small</td>\n",
       "      <td>2146</td>\n",
       "      <td>28.450981</td>\n",
       "    </tr>\n",
       "    <tr>\n",
       "      <th>5</th>\n",
       "      <td>Technical Superstores</td>\n",
       "      <td>Large</td>\n",
       "      <td>15862</td>\n",
       "      <td>47.624387</td>\n",
       "    </tr>\n",
       "    <tr>\n",
       "      <th>6</th>\n",
       "      <td>Hypermarkets</td>\n",
       "      <td>Medium</td>\n",
       "      <td>683</td>\n",
       "      <td>30.382273</td>\n",
       "    </tr>\n",
       "    <tr>\n",
       "      <th>7</th>\n",
       "      <td>Hypermarkets</td>\n",
       "      <td>Small</td>\n",
       "      <td>105</td>\n",
       "      <td>32.983939</td>\n",
       "    </tr>\n",
       "    <tr>\n",
       "      <th>8</th>\n",
       "      <td>Hypermarkets</td>\n",
       "      <td>Large</td>\n",
       "      <td>632</td>\n",
       "      <td>56.592581</td>\n",
       "    </tr>\n",
       "    <tr>\n",
       "      <th>9</th>\n",
       "      <td>Cash&amp;Carry</td>\n",
       "      <td>Medium</td>\n",
       "      <td>552</td>\n",
       "      <td>23.087534</td>\n",
       "    </tr>\n",
       "    <tr>\n",
       "      <th>10</th>\n",
       "      <td>Cash&amp;Carry</td>\n",
       "      <td>Small</td>\n",
       "      <td>42</td>\n",
       "      <td>38.041121</td>\n",
       "    </tr>\n",
       "    <tr>\n",
       "      <th>11</th>\n",
       "      <td>Cash&amp;Carry</td>\n",
       "      <td>Large</td>\n",
       "      <td>848</td>\n",
       "      <td>30.074990</td>\n",
       "    </tr>\n",
       "    <tr>\n",
       "      <th>12</th>\n",
       "      <td>Pure Players Generalists</td>\n",
       "      <td>Medium</td>\n",
       "      <td>84</td>\n",
       "      <td>122.435616</td>\n",
       "    </tr>\n",
       "    <tr>\n",
       "      <th>13</th>\n",
       "      <td>Pure Players Generalists</td>\n",
       "      <td>Small</td>\n",
       "      <td>13</td>\n",
       "      <td>NaN</td>\n",
       "    </tr>\n",
       "    <tr>\n",
       "      <th>14</th>\n",
       "      <td>Pure Players Generalists</td>\n",
       "      <td>Large</td>\n",
       "      <td>1421</td>\n",
       "      <td>62.589166</td>\n",
       "    </tr>\n",
       "    <tr>\n",
       "      <th>15</th>\n",
       "      <td>Department Stores</td>\n",
       "      <td>Medium</td>\n",
       "      <td>90</td>\n",
       "      <td>19.101322</td>\n",
       "    </tr>\n",
       "    <tr>\n",
       "      <th>16</th>\n",
       "      <td>Department Stores</td>\n",
       "      <td>Small</td>\n",
       "      <td>118</td>\n",
       "      <td>19.127573</td>\n",
       "    </tr>\n",
       "    <tr>\n",
       "      <th>17</th>\n",
       "      <td>Department Stores</td>\n",
       "      <td>Large</td>\n",
       "      <td>195</td>\n",
       "      <td>49.424751</td>\n",
       "    </tr>\n",
       "    <tr>\n",
       "      <th>18</th>\n",
       "      <td>Computerhardware-Shops</td>\n",
       "      <td>Medium</td>\n",
       "      <td>0</td>\n",
       "      <td>NaN</td>\n",
       "    </tr>\n",
       "    <tr>\n",
       "      <th>19</th>\n",
       "      <td>Computerhardware-Shops</td>\n",
       "      <td>Small</td>\n",
       "      <td>0</td>\n",
       "      <td>NaN</td>\n",
       "    </tr>\n",
       "    <tr>\n",
       "      <th>20</th>\n",
       "      <td>Computerhardware-Shops</td>\n",
       "      <td>Large</td>\n",
       "      <td>260</td>\n",
       "      <td>82.475943</td>\n",
       "    </tr>\n",
       "    <tr>\n",
       "      <th>21</th>\n",
       "      <td>Mail Order Houses</td>\n",
       "      <td>Medium</td>\n",
       "      <td>0</td>\n",
       "      <td>NaN</td>\n",
       "    </tr>\n",
       "    <tr>\n",
       "      <th>22</th>\n",
       "      <td>Mail Order Houses</td>\n",
       "      <td>Small</td>\n",
       "      <td>3</td>\n",
       "      <td>NaN</td>\n",
       "    </tr>\n",
       "    <tr>\n",
       "      <th>23</th>\n",
       "      <td>Mail Order Houses</td>\n",
       "      <td>Large</td>\n",
       "      <td>0</td>\n",
       "      <td>NaN</td>\n",
       "    </tr>\n",
       "    <tr>\n",
       "      <th>24</th>\n",
       "      <td>Furniture Specialists</td>\n",
       "      <td>Medium</td>\n",
       "      <td>6</td>\n",
       "      <td>NaN</td>\n",
       "    </tr>\n",
       "    <tr>\n",
       "      <th>25</th>\n",
       "      <td>Furniture Specialists</td>\n",
       "      <td>Small</td>\n",
       "      <td>5</td>\n",
       "      <td>NaN</td>\n",
       "    </tr>\n",
       "    <tr>\n",
       "      <th>26</th>\n",
       "      <td>Furniture Specialists</td>\n",
       "      <td>Large</td>\n",
       "      <td>13</td>\n",
       "      <td>NaN</td>\n",
       "    </tr>\n",
       "    <tr>\n",
       "      <th>27</th>\n",
       "      <td>DIY Superstores</td>\n",
       "      <td>Medium</td>\n",
       "      <td>75</td>\n",
       "      <td>29.273148</td>\n",
       "    </tr>\n",
       "    <tr>\n",
       "      <th>28</th>\n",
       "      <td>DIY Superstores</td>\n",
       "      <td>Small</td>\n",
       "      <td>54</td>\n",
       "      <td>22.576954</td>\n",
       "    </tr>\n",
       "    <tr>\n",
       "      <th>29</th>\n",
       "      <td>DIY Superstores</td>\n",
       "      <td>Large</td>\n",
       "      <td>19</td>\n",
       "      <td>NaN</td>\n",
       "    </tr>\n",
       "    <tr>\n",
       "      <th>30</th>\n",
       "      <td>Kitchen Specialists</td>\n",
       "      <td>Medium</td>\n",
       "      <td>2</td>\n",
       "      <td>NaN</td>\n",
       "    </tr>\n",
       "    <tr>\n",
       "      <th>31</th>\n",
       "      <td>Kitchen Specialists</td>\n",
       "      <td>Small</td>\n",
       "      <td>0</td>\n",
       "      <td>NaN</td>\n",
       "    </tr>\n",
       "    <tr>\n",
       "      <th>32</th>\n",
       "      <td>Kitchen Specialists</td>\n",
       "      <td>Large</td>\n",
       "      <td>0</td>\n",
       "      <td>NaN</td>\n",
       "    </tr>\n",
       "    <tr>\n",
       "      <th>33</th>\n",
       "      <td>Supermarkets</td>\n",
       "      <td>Medium</td>\n",
       "      <td>0</td>\n",
       "      <td>NaN</td>\n",
       "    </tr>\n",
       "    <tr>\n",
       "      <th>34</th>\n",
       "      <td>Supermarkets</td>\n",
       "      <td>Small</td>\n",
       "      <td>4</td>\n",
       "      <td>NaN</td>\n",
       "    </tr>\n",
       "    <tr>\n",
       "      <th>35</th>\n",
       "      <td>Supermarkets</td>\n",
       "      <td>Large</td>\n",
       "      <td>2</td>\n",
       "      <td>NaN</td>\n",
       "    </tr>\n",
       "  </tbody>\n",
       "</table>\n",
       "</div>"
      ],
      "text/plain": [
       "                     channel shop_size  nb_observations  \\\n",
       "0     Electrical Specialists    Medium              317   \n",
       "1     Electrical Specialists     Small               88   \n",
       "2     Electrical Specialists     Large              568   \n",
       "3      Technical Superstores    Medium             5747   \n",
       "4      Technical Superstores     Small             2146   \n",
       "5      Technical Superstores     Large            15862   \n",
       "6               Hypermarkets    Medium              683   \n",
       "7               Hypermarkets     Small              105   \n",
       "8               Hypermarkets     Large              632   \n",
       "9                 Cash&Carry    Medium              552   \n",
       "10                Cash&Carry     Small               42   \n",
       "11                Cash&Carry     Large              848   \n",
       "12  Pure Players Generalists    Medium               84   \n",
       "13  Pure Players Generalists     Small               13   \n",
       "14  Pure Players Generalists     Large             1421   \n",
       "15         Department Stores    Medium               90   \n",
       "16         Department Stores     Small              118   \n",
       "17         Department Stores     Large              195   \n",
       "18    Computerhardware-Shops    Medium                0   \n",
       "19    Computerhardware-Shops     Small                0   \n",
       "20    Computerhardware-Shops     Large              260   \n",
       "21         Mail Order Houses    Medium                0   \n",
       "22         Mail Order Houses     Small                3   \n",
       "23         Mail Order Houses     Large                0   \n",
       "24     Furniture Specialists    Medium                6   \n",
       "25     Furniture Specialists     Small                5   \n",
       "26     Furniture Specialists     Large               13   \n",
       "27           DIY Superstores    Medium               75   \n",
       "28           DIY Superstores     Small               54   \n",
       "29           DIY Superstores     Large               19   \n",
       "30       Kitchen Specialists    Medium                2   \n",
       "31       Kitchen Specialists     Small                0   \n",
       "32       Kitchen Specialists     Large                0   \n",
       "33              Supermarkets    Medium                0   \n",
       "34              Supermarkets     Small                4   \n",
       "35              Supermarkets     Large                2   \n",
       "\n",
       "    mean_xgboost_prediction_MAPE  \n",
       "0                      31.186441  \n",
       "1                      29.137673  \n",
       "2                      30.059825  \n",
       "3                      27.390946  \n",
       "4                      28.450981  \n",
       "5                      47.624387  \n",
       "6                      30.382273  \n",
       "7                      32.983939  \n",
       "8                      56.592581  \n",
       "9                      23.087534  \n",
       "10                     38.041121  \n",
       "11                     30.074990  \n",
       "12                    122.435616  \n",
       "13                           NaN  \n",
       "14                     62.589166  \n",
       "15                     19.101322  \n",
       "16                     19.127573  \n",
       "17                     49.424751  \n",
       "18                           NaN  \n",
       "19                           NaN  \n",
       "20                     82.475943  \n",
       "21                           NaN  \n",
       "22                           NaN  \n",
       "23                           NaN  \n",
       "24                           NaN  \n",
       "25                           NaN  \n",
       "26                           NaN  \n",
       "27                     29.273148  \n",
       "28                     22.576954  \n",
       "29                           NaN  \n",
       "30                           NaN  \n",
       "31                           NaN  \n",
       "32                           NaN  \n",
       "33                           NaN  \n",
       "34                           NaN  \n",
       "35                           NaN  "
      ]
     },
     "execution_count": 31,
     "metadata": {},
     "output_type": "execute_result"
    }
   ],
   "source": [
    "MAPE_per_segment"
   ]
  },
  {
   "cell_type": "code",
   "execution_count": null,
   "metadata": {},
   "outputs": [],
   "source": []
  }
 ],
 "metadata": {
  "kernelspec": {
   "display_name": "Python 3",
   "language": "python",
   "name": "python3"
  },
  "language_info": {
   "codemirror_mode": {
    "name": "ipython",
    "version": 3
   },
   "file_extension": ".py",
   "mimetype": "text/x-python",
   "name": "python",
   "nbconvert_exporter": "python",
   "pygments_lexer": "ipython3",
   "version": "3.6.6"
  },
  "pycharm": {
   "stem_cell": {
    "cell_type": "raw",
    "metadata": {
     "collapsed": false
    },
    "source": [
     "\n"
    ]
   }
  }
 },
 "nbformat": 4,
 "nbformat_minor": 2
}
