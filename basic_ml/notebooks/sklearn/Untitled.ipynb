{
 "cells": [
  {
   "cell_type": "code",
   "execution_count": 1,
   "metadata": {},
   "outputs": [],
   "source": [
    "import pandas as pd\n",
    "import numpy as np\n",
    "from sklearn.linear_model import LinearRegression"
   ]
  },
  {
   "cell_type": "code",
   "execution_count": 24,
   "metadata": {},
   "outputs": [],
   "source": [
    "data_0 = pd.DataFrame({\"sales\": [10,20]})\n",
    "data_1 = pd.DataFrame({\"sales\": [1294.6781, 1356.1641, 1381.2577, 1363.7978, 1341.0604]})\n",
    "data_2 = pd.DataFrame({\"sales\": [150, 100, 200, 110, 120, 90, 250, 130, 85, 115, 115, 112, 120, 200, 230, 231, 100, 200, 300, 40]})\n",
    "data_3 = pd.DataFrame({\"sales\": [15000, 1000, 20, 1000, 115]})\n",
    "# data_4 = pd.DataFrame({\"sales\": []})\n",
    "data = [data_0, data_1, data_2, data_3]"
   ]
  },
  {
   "cell_type": "code",
   "execution_count": 25,
   "metadata": {},
   "outputs": [],
   "source": [
    "results = [LinearRegression().fit(np.array(list(range(1, d.shape[0] + 1))).reshape(-1, 1), np.array(d[\"sales\"])) for d in data]"
   ]
  },
  {
   "cell_type": "code",
   "execution_count": 26,
   "metadata": {},
   "outputs": [
    {
     "data": {
      "text/plain": [
       "[9.999999999999996, 10.03983000000001, 2.5127819548872186, -2977.0000000000005]"
      ]
     },
     "execution_count": 26,
     "metadata": {},
     "output_type": "execute_result"
    }
   ],
   "source": [
    "[reg.coef_[0] for reg in results]"
   ]
  },
  {
   "cell_type": "code",
   "execution_count": null,
   "metadata": {},
   "outputs": [],
   "source": [
    "# dummy data\n",
    "input_str = \"\"\"item_id,competitor_item_id,loc_price_competitor\n",
    "1,2,0.90\n",
    "1,2,0.92\n",
    "1,2,0.93\n",
    "1,2,0.96\n",
    "1,2,0.97\n",
    "1,2,1.00\n",
    "\"\"\"\n",
    "temp_df = pd.read_csv(StringIO(input_str))\n",
    "temp_df\n"
   ]
  },
  {
   "cell_type": "code",
   "execution_count": null,
   "metadata": {},
   "outputs": [],
   "source": [
    "temp_df"
   ]
  },
  {
   "cell_type": "code",
   "execution_count": null,
   "metadata": {},
   "outputs": [],
   "source": []
  }
 ],
 "metadata": {
  "kernelspec": {
   "display_name": "Python [conda env:ml-laboratory] *",
   "language": "python",
   "name": "conda-env-ml-laboratory-py"
  },
  "language_info": {
   "codemirror_mode": {
    "name": "ipython",
    "version": 3
   },
   "file_extension": ".py",
   "mimetype": "text/x-python",
   "name": "python",
   "nbconvert_exporter": "python",
   "pygments_lexer": "ipython3",
   "version": "3.7.7"
  }
 },
 "nbformat": 4,
 "nbformat_minor": 4
}
