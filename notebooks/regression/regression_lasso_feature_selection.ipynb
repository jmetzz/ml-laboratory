{
 "cells": [
  {
   "cell_type": "code",
   "execution_count": 181,
   "metadata": {
    "collapsed": true
   },
   "outputs": [],
   "source": [
    "from collections import namedtuple\n",
    "\n",
    "import pandas as pd\n",
    "from math import log, sqrt\n",
    "from sklearn import linear_model\n",
    "from pathlib import Path\n",
    "\n",
    "import numpy as np\n",
    "\n",
    "import matplotlib.pyplot as plt"
   ]
  },
  {
   "cell_type": "code",
   "execution_count": 183,
   "metadata": {
    "collapsed": false,
    "pycharm": {
     "name": "#%%\n"
    }
   },
   "outputs": [],
   "source": [
    "%matplotlib inline"
   ]
  },
  {
   "cell_type": "code",
   "execution_count": 184,
   "metadata": {
    "collapsed": false,
    "pycharm": {
     "name": "#%%\n"
    }
   },
   "outputs": [],
   "source": [
    "# configuration\n",
    "USER_HOME = Path(\"/Users/jean.metz\")\n",
    "PARENT_HOME = Path(USER_HOME, \"workspace\", \"jmetzz\", \"ml-laboratory\")\n",
    "PROJECT_HOME = Path(PARENT_HOME, \"basic_ml\")\n",
    "DATA_HOME = Path(\n",
    "    PARENT_HOME,\n",
    "    \"data\",\n",
    "    \"processed\",\n",
    "    \"king_county_house_sales\",\n",
    ")"
   ]
  },
  {
   "cell_type": "code",
   "execution_count": 185,
   "metadata": {
    "collapsed": false,
    "pycharm": {
     "name": "#%%\n"
    }
   },
   "outputs": [],
   "source": [
    "# Load the sales dataset using Pandas\n",
    "dtype_dict = {\n",
    "    \"bathrooms\": float,\n",
    "    \"waterfront\": int,\n",
    "    \"sqft_above\": int,\n",
    "    \"sqft_living15\": float,\n",
    "    \"grade\": int,\n",
    "    \"yr_renovated\": int,\n",
    "    \"price\": float,\n",
    "    \"bedrooms\": float,\n",
    "    \"zipcode\": str,\n",
    "    \"long\": float,\n",
    "    \"sqft_lot15\": float,\n",
    "    \"sqft_living\": float,\n",
    "    \"floors\": float,\n",
    "    \"condition\": int,\n",
    "    \"lat\": float,\n",
    "    \"date\": str,\n",
    "    \"sqft_basement\": int,\n",
    "    \"yr_built\": int,\n",
    "    \"id\": str,\n",
    "    \"sqft_lot\": int,\n",
    "    \"view\": int,\n",
    "}\n",
    "\n",
    "kc_house_path = Path(DATA_HOME, \"kc_house_data.csv\")\n",
    "sales = pd.read_csv(kc_house_path, dtype=dtype_dict)"
   ]
  },
  {
   "cell_type": "markdown",
   "metadata": {
    "collapsed": false,
    "pycharm": {
     "name": "#%% md\n"
    }
   },
   "source": [
    "Create new features by performing following transformation on inputs:\n",
    "\n",
    "- Squaring bedrooms will increase the separation between not many bedrooms (e.g. 1)\n",
    "and lots of bedrooms (e.g. 4) since 1^2 = 1 but 4^2 = 16. Consequently this variable\n",
    "will mostly affect houses with many bedrooms.\n",
    "\n",
    "- On the other hand, taking square root of sqft_living will decrease the separation\n",
    "between big house and small house. The owner may not be exactly twice as happy\n",
    "for getting a house that is twice as big.\n"
   ]
  },
  {
   "cell_type": "code",
   "execution_count": 186,
   "metadata": {
    "collapsed": false,
    "pycharm": {
     "name": "#%%\n"
    }
   },
   "outputs": [],
   "source": [
    "sales[\"sqft_living_sqrt\"] = sales[\"sqft_living\"].apply(sqrt)\n",
    "sales[\"sqft_lot_sqrt\"] = sales[\"sqft_lot\"].apply(sqrt)\n",
    "sales[\"bedrooms_square\"] = sales[\"bedrooms\"] * sales[\"bedrooms\"]\n",
    "sales[\"floors_square\"] = sales[\"floors\"] * sales[\"floors\"]"
   ]
  },
  {
   "cell_type": "code",
   "execution_count": 187,
   "metadata": {
    "collapsed": false,
    "pycharm": {
     "name": "#%%\n"
    }
   },
   "outputs": [
    {
     "data": {
      "text/plain": "Lasso(alpha=500.0, normalize=True)"
     },
     "execution_count": 187,
     "metadata": {},
     "output_type": "execute_result"
    }
   ],
   "source": [
    "# learn regression weights\n",
    "all_features = [\n",
    "    \"bedrooms\",\n",
    "    \"bedrooms_square\",\n",
    "    \"bathrooms\",\n",
    "    \"sqft_living\",\n",
    "    \"sqft_living_sqrt\",\n",
    "    \"sqft_lot\",\n",
    "    \"sqft_lot_sqrt\",\n",
    "    \"floors\",\n",
    "    \"floors_square\",\n",
    "    \"waterfront\",\n",
    "    \"view\",\n",
    "    \"condition\",\n",
    "    \"grade\",\n",
    "    \"sqft_above\",\n",
    "    \"sqft_basement\",\n",
    "    \"yr_built\",\n",
    "    \"yr_renovated\",\n",
    "]\n",
    "\n",
    "model_all = linear_model.Lasso(alpha=5e2, normalize=True)\n",
    "model_all.fit(sales[all_features], sales[\"price\"])"
   ]
  },
  {
   "cell_type": "code",
   "execution_count": 188,
   "metadata": {
    "collapsed": false,
    "pycharm": {
     "name": "#%%\n"
    }
   },
   "outputs": [],
   "source": [
    "# some utility functions\n",
    "\n",
    "\n",
    "def get_selected_features(coefficients, feature_names):\n",
    "    indexed_features = zip(range(coefficients.shape[0]), coefficients)\n",
    "    return [feature_names[idx] for idx, value in indexed_features if value != 0]\n",
    "\n",
    "\n",
    "def calc_rss(predictions, y_values):\n",
    "    residuals = predictions - y_values\n",
    "    return np.sum(residuals * residuals)  # square the res\n",
    "\n",
    "\n",
    "def fit_models(training_set, features, target, schedule, validation_set=None):\n",
    "    models = {}\n",
    "    for l1_penalty in schedule:\n",
    "        model = linear_model.Lasso(alpha=l1_penalty, normalize=True)\n",
    "        model.fit(training_set[features], training_set[target])\n",
    "        if validation_set is None:\n",
    "            rss = None\n",
    "            r2 = None\n",
    "        else:\n",
    "            predictions = model.predict(validation_set[features])\n",
    "            rss = calc_rss(predictions, validation_set[target])  # square the res\n",
    "            r2 = model.score(validation_set[features], validation_set[target])  # iduals and add them up\n",
    "        models[l1_penalty] = namedtuple(\"output\", [\"model\", \"rss\", \"r2\"])(model, rss, r2)\n",
    "    return models"
   ]
  },
  {
   "cell_type": "code",
   "execution_count": 189,
   "metadata": {
    "collapsed": false,
    "pycharm": {
     "name": "#%%\n"
    }
   },
   "outputs": [
    {
     "name": "stdout",
     "output_type": "stream",
     "text": [
      "intercept: -218136.21403514117\n",
      "num iterations: 17\n",
      "coefficients:\n",
      "[(0, 0.0), (1, 0.0), (2, 0.0), (3, 134.43931395541435), (4, 0.0), (5, 0.0), (6, 0.0), (7, 0.0), (8, 0.0), (9, 0.0), (10, 24750.00458560947), (11, 0.0), (12, 61749.10309070815), (13, 0.0), (14, 0.0), (15, -0.0), (16, 0.0)]\n",
      "['sqft_living', 'view', 'grade']\n"
     ]
    }
   ],
   "source": [
    "print(f\"intercept: {model_all.intercept_}\")\n",
    "print(f\"num iterations: {model_all.n_iter_}\")\n",
    "print(\"coefficients:\")\n",
    "print(list(zip(range(model_all.coef_.shape[0]), model_all.coef_)))\n",
    "print(get_selected_features(model_all.coef_, all_features))"
   ]
  },
  {
   "cell_type": "markdown",
   "metadata": {
    "collapsed": false,
    "pycharm": {
     "name": "#%% md\n"
    }
   },
   "source": [
    "Find a good L1 penalty:\n",
    "\n",
    "- explore multiple values using a validation set"
   ]
  },
  {
   "cell_type": "code",
   "execution_count": 190,
   "metadata": {
    "collapsed": false,
    "pycharm": {
     "name": "#%%\n"
    }
   },
   "outputs": [],
   "source": [
    "testing = pd.read_csv(Path(DATA_HOME, \"wk3_kc_house_test_data.csv\"), dtype=dtype_dict)\n",
    "training = pd.read_csv(Path(DATA_HOME, \"wk3_kc_house_train_data.csv\"), dtype=dtype_dict)\n",
    "validation = pd.read_csv(Path(DATA_HOME, \"wk3_kc_house_valid_data.csv\"), dtype=dtype_dict)"
   ]
  },
  {
   "cell_type": "code",
   "execution_count": 191,
   "metadata": {
    "collapsed": false,
    "pycharm": {
     "name": "#%%\n"
    }
   },
   "outputs": [],
   "source": [
    "# Create the features as before\n",
    "\n",
    "testing[\"sqft_living_sqrt\"] = testing[\"sqft_living\"].apply(sqrt)\n",
    "testing[\"sqft_lot_sqrt\"] = testing[\"sqft_lot\"].apply(sqrt)\n",
    "testing[\"bedrooms_square\"] = testing[\"bedrooms\"] * testing[\"bedrooms\"]\n",
    "testing[\"floors_square\"] = testing[\"floors\"] * testing[\"floors\"]\n",
    "\n",
    "training[\"sqft_living_sqrt\"] = training[\"sqft_living\"].apply(sqrt)\n",
    "training[\"sqft_lot_sqrt\"] = training[\"sqft_lot\"].apply(sqrt)\n",
    "training[\"bedrooms_square\"] = training[\"bedrooms\"] * training[\"bedrooms\"]\n",
    "training[\"floors_square\"] = training[\"floors\"] * training[\"floors\"]\n",
    "\n",
    "validation[\"sqft_living_sqrt\"] = validation[\"sqft_living\"].apply(sqrt)\n",
    "validation[\"sqft_lot_sqrt\"] = validation[\"sqft_lot\"].apply(sqrt)\n",
    "validation[\"bedrooms_square\"] = validation[\"bedrooms\"] * validation[\"bedrooms\"]\n",
    "validation[\"floors_square\"] = validation[\"floors\"] * validation[\"floors\"]"
   ]
  },
  {
   "cell_type": "code",
   "execution_count": 192,
   "metadata": {
    "collapsed": false,
    "pycharm": {
     "name": "#%%\n"
    }
   },
   "outputs": [
    {
     "data": {
      "text/plain": "{10.0: output(model=Lasso(alpha=10.0, normalize=True), rss=398213327300135.0, r2=0.6742008721272454),\n 31.622776601683793: output(model=Lasso(alpha=31.622776601683793, normalize=True), rss=399041900253346.8, r2=0.6735229733051101),\n 100.0: output(model=Lasso(alpha=100.0, normalize=True), rss=429791604072559.7, r2=0.6483650340805038),\n 316.22776601683796: output(model=Lasso(alpha=316.22776601683796, normalize=True), rss=463739831045121.06, r2=0.6205902159560701),\n 1000.0: output(model=Lasso(alpha=1000.0, normalize=True), rss=645898733633800.8, r2=0.4715565007863123),\n 3162.2776601683795: output(model=Lasso(alpha=3162.2776601683795, normalize=True), rss=1222506859427163.0, r2=-0.0001967320386435656),\n 10000.0: output(model=Lasso(alpha=10000.0, normalize=True), rss=1222506859427163.0, r2=-0.0001967320386435656),\n 31622.776601683792: output(model=Lasso(alpha=31622.776601683792, normalize=True), rss=1222506859427163.0, r2=-0.0001967320386435656),\n 100000.0: output(model=Lasso(alpha=100000.0, normalize=True), rss=1222506859427163.0, r2=-0.0001967320386435656),\n 316227.7660168379: output(model=Lasso(alpha=316227.7660168379, normalize=True), rss=1222506859427163.0, r2=-0.0001967320386435656),\n 1000000.0: output(model=Lasso(alpha=1000000.0, normalize=True), rss=1222506859427163.0, r2=-0.0001967320386435656),\n 3162277.6601683795: output(model=Lasso(alpha=3162277.6601683795, normalize=True), rss=1222506859427163.0, r2=-0.0001967320386435656),\n 10000000.0: output(model=Lasso(alpha=10000000.0, normalize=True), rss=1222506859427163.0, r2=-0.0001967320386435656)}"
     },
     "execution_count": 192,
     "metadata": {},
     "output_type": "execute_result"
    }
   ],
   "source": [
    "models = fit_models(\n",
    "    training_set=training,\n",
    "    features=all_features,\n",
    "    target=\"price\",\n",
    "    schedule=np.logspace(1, 7, num=13),\n",
    "    validation_set=validation,\n",
    ")\n",
    "models"
   ]
  },
  {
   "cell_type": "code",
   "execution_count": 193,
   "metadata": {
    "collapsed": false,
    "pycharm": {
     "name": "#%%\n"
    }
   },
   "outputs": [
    {
     "name": "stdout",
     "output_type": "stream",
     "text": [
      "penalty: 10.00, rss: 3.98213e+14\n",
      "penalty: 31.62, rss: 3.99042e+14\n",
      "penalty: 100.00, rss: 4.29792e+14\n",
      "penalty: 316.23, rss: 4.63740e+14\n",
      "penalty: 1000.00, rss: 6.45899e+14\n",
      "penalty: 3162.28, rss: 1.22251e+15\n",
      "penalty: 10000.00, rss: 1.22251e+15\n",
      "penalty: 31622.78, rss: 1.22251e+15\n",
      "penalty: 100000.00, rss: 1.22251e+15\n",
      "penalty: 316227.77, rss: 1.22251e+15\n",
      "penalty: 1000000.00, rss: 1.22251e+15\n",
      "penalty: 3162277.66, rss: 1.22251e+15\n",
      "penalty: 10000000.00, rss: 1.22251e+15\n",
      "\n",
      "Best run: (10.0, output(model=Lasso(alpha=10.0, normalize=True), rss=398213327300135.0, r2=0.6742008721272454))\n"
     ]
    }
   ],
   "source": [
    "sorted_models = sorted(models.items(), key=lambda item: item[1].rss)\n",
    "for l1_penalty, output in sorted_models:\n",
    "    print(f\"penalty: {l1_penalty:.2f}, rss: {output.rss:.5e}\")\n",
    "\n",
    "print(\"\")\n",
    "best_run = sorted_models[0]\n",
    "best_model = best_run[1].model\n",
    "print(f\"Best run: {best_run}\")"
   ]
  },
  {
   "cell_type": "code",
   "execution_count": 194,
   "metadata": {
    "collapsed": false,
    "pycharm": {
     "name": "#%%\n"
    }
   },
   "outputs": [
    {
     "data": {
      "text/plain": "[<matplotlib.lines.Line2D at 0x136c3eb80>]"
     },
     "execution_count": 194,
     "metadata": {},
     "output_type": "execute_result"
    },
    {
     "data": {
      "image/png": "[encoded data removed]",
      "text/plain": "<Figure size 432x288 with 1 Axes>"
     },
     "metadata": {
      "needs_background": "light"
     },
     "output_type": "display_data"
    }
   ],
   "source": [
    "l1_penalties = np.array([l1_penalty for l1_penalty, _ in models.items()])\n",
    "rss_array = np.array([models[penalty].rss for penalty in l1_penalties])\n",
    "\n",
    "plt.xscale(\"log\")\n",
    "plt.plot(l1_penalties, rss_array, \"-\")"
   ]
  },
  {
   "cell_type": "code",
   "execution_count": 195,
   "metadata": {
    "collapsed": false,
    "pycharm": {
     "name": "#%%\n"
    }
   },
   "outputs": [
    {
     "name": "stdout",
     "output_type": "stream",
     "text": [
      "Test set RSS: 9.84674e+13\n"
     ]
    }
   ],
   "source": [
    "test_predictions = best_model.predict(testing[all_features])\n",
    "test_rss = calc_rss(test_predictions, testing[\"price\"])\n",
    "print(f\"Test set RSS: {test_rss:.5e}\")"
   ]
  },
  {
   "cell_type": "code",
   "execution_count": 196,
   "metadata": {
    "collapsed": false,
    "pycharm": {
     "name": "#%%\n"
    }
   },
   "outputs": [
    {
     "name": "stdout",
     "output_type": "stream",
     "text": [
      "# non-zero weights: 15\n"
     ]
    }
   ],
   "source": [
    "non_zero_weights = np.count_nonzero(best_model.coef_) + np.count_nonzero(best_model.intercept_)\n",
    "print(f\"# non-zero weights: {non_zero_weights}\")"
   ]
  },
  {
   "cell_type": "code",
   "execution_count": 197,
   "metadata": {
    "collapsed": false,
    "pycharm": {
     "name": "#%%\n"
    }
   },
   "outputs": [
    {
     "name": "stdout",
     "output_type": "stream",
     "text": [
      "Selected features number '14' features + '1 intercept'\n",
      "Selected features are '['bedrooms', 'bedrooms_square', 'bathrooms', 'sqft_living', 'sqft_living_sqrt', 'sqft_lot', 'sqft_lot_sqrt', 'floors_square', 'waterfront', 'view', 'condition', 'grade', 'yr_built', 'yr_renovated']'\n"
     ]
    }
   ],
   "source": [
    "best_model_features = get_selected_features(best_model.coef_, all_features)\n",
    "print(\n",
    "    f\"Selected features number '{len(best_model_features)}' features + '{np.count_nonzero(best_model.intercept_)} intercept'\"\n",
    ")\n",
    "print(f\"Selected features are '{best_model_features}'\")"
   ]
  },
  {
   "cell_type": "code",
   "execution_count": 198,
   "metadata": {
    "collapsed": false,
    "pycharm": {
     "name": "#%%\n"
    }
   },
   "outputs": [
    {
     "data": {
      "text/plain": "{10.0: output(model=Lasso(alpha=10.0, normalize=True), rss=398213327300135.0, r2=0.6742008721272454),\n 14.38449888287663: output(model=Lasso(alpha=14.38449888287663, normalize=True), rss=396831833943813.6, r2=0.675331144018704),\n 20.6913808111479: output(model=Lasso(alpha=20.6913808111479, normalize=True), rss=396210901853184.25, r2=0.675839161002884),\n 29.76351441631318: output(model=Lasso(alpha=29.76351441631318, normalize=True), rss=398215534574785.94, r2=0.6741990662405337),\n 42.81332398719393: output(model=Lasso(alpha=42.81332398719393, normalize=True), rss=406877258520204.75, r2=0.667112457345686),\n 61.58482110660264: output(model=Lasso(alpha=61.58482110660264, normalize=True), rss=424647490490609.44, r2=0.6525737021580909),\n 88.58667904100822: output(model=Lasso(alpha=88.58667904100822, normalize=True), rss=427906308934484.8, r2=0.6499074925309328),\n 127.42749857031335: output(model=Lasso(alpha=127.42749857031335, normalize=True), rss=435374677102680.6, r2=0.6437972303447631),\n 183.29807108324357: output(model=Lasso(alpha=183.29807108324357, normalize=True), rss=443107216261395.44, r2=0.6374708360695347),\n 263.6650898730358: output(model=Lasso(alpha=263.6650898730358, normalize=True), rss=454176669662635.25, r2=0.628414337914128),\n 379.26901907322497: output(model=Lasso(alpha=379.26901907322497, normalize=True), rss=478132980831627.0, r2=0.6088144281400807),\n 545.5594781168514: output(model=Lasso(alpha=545.5594781168514, normalize=True), rss=531397181866766.5, r2=0.5652362024645543),\n 784.7599703514607: output(model=Lasso(alpha=784.7599703514607, normalize=True), rss=594043306274207.4, r2=0.5139821351159516),\n 1128.8378916846884: output(model=Lasso(alpha=1128.8378916846884, normalize=True), rss=674059169985784.2, r2=0.44851697655392153),\n 1623.776739188721: output(model=Lasso(alpha=1623.776739188721, normalize=True), rss=802609410822920.8, r2=0.34334330836826255),\n 2335.7214690901214: output(model=Lasso(alpha=2335.7214690901214, normalize=True), rss=1061255252873615.0, r2=0.13173163193504678),\n 3359.818286283781: output(model=Lasso(alpha=3359.818286283781, normalize=True), rss=1222506859427163.0, r2=-0.0001967320386435656),\n 4832.930238571752: output(model=Lasso(alpha=4832.930238571752, normalize=True), rss=1222506859427163.0, r2=-0.0001967320386435656),\n 6951.927961775606: output(model=Lasso(alpha=6951.927961775606, normalize=True), rss=1222506859427163.0, r2=-0.0001967320386435656),\n 10000.0: output(model=Lasso(alpha=10000.0, normalize=True), rss=1222506859427163.0, r2=-0.0001967320386435656)}"
     },
     "execution_count": 198,
     "metadata": {},
     "output_type": "execute_result"
    }
   ],
   "source": [
    "# Two phase procedure to limit the number of features\n",
    "#   - Explore a large range of ‘l1_penalty’ values to find a narrow region of ‘l1_penalty’ values\n",
    "#     where models are likely to have the desired number of non-zero weights.\n",
    "#   - Further explore the narrow region you found to find a good value for ‘l1_penalty’ that achieves\n",
    "#     the desired sparsity.  Here, we will again use a validation set to choose the best value for ‘l1_penalty’.\n",
    "\n",
    "max_nonzeros = 7\n",
    "\n",
    "# Exploring large range of l1_penalty\n",
    "wide_range_models = fit_models(\n",
    "    training_set=training,\n",
    "    features=all_features,\n",
    "    target=\"price\",\n",
    "    schedule=np.logspace(1, 4, num=20),\n",
    "    validation_set=validation,\n",
    ")\n",
    "wide_range_models"
   ]
  },
  {
   "cell_type": "code",
   "execution_count": 199,
   "metadata": {
    "collapsed": false,
    "pycharm": {
     "name": "#%%\n"
    }
   },
   "outputs": [
    {
     "data": {
      "text/plain": "[(10.0, 15),\n (14.38449888287663, 15),\n (20.6913808111479, 15),\n (29.76351441631318, 15),\n (42.81332398719393, 13),\n (61.58482110660264, 12),\n (88.58667904100822, 11),\n (127.42749857031335, 10),\n (183.29807108324357, 7),\n (263.6650898730358, 6),\n (379.26901907322497, 6),\n (545.5594781168514, 6),\n (784.7599703514607, 5),\n (1128.8378916846884, 3),\n (1623.776739188721, 3),\n (2335.7214690901214, 2),\n (3359.818286283781, 1),\n (4832.930238571752, 1),\n (6951.927961775606, 1),\n (10000.0, 1)]"
     },
     "execution_count": 199,
     "metadata": {},
     "output_type": "execute_result"
    }
   ],
   "source": [
    "non_zero_weights = [\n",
    "    (l1, np.count_nonzero(output.model.coef_) + np.count_nonzero(output.model.intercept_))\n",
    "    for l1, output in wide_range_models.items()\n",
    "]\n",
    "non_zero_weights"
   ]
  },
  {
   "cell_type": "markdown",
   "metadata": {
    "collapsed": false,
    "pycharm": {
     "name": "#%% md\n"
    }
   },
   "source": [
    "Out of this large range, we want to find the two ends of our desired narrow range of l1_penalty.\n",
    "At one end, we will have l1_penalty values that have too few non-zeros, and at the other end,\n",
    "we will have an l1_penalty that has too many non-zeros.\n",
    "\n",
    "More formally, find:\n",
    "\n",
    "- The largest l1_penalty that has more non-zeros than ‘max_nonzeros’\n",
    "(if we pick a penalty smaller than this value, we will definitely have too many\n",
    "non-zero weights) Store this value in the variable ‘l1_penalty_min’ (we will use it later)\n",
    "- The smallest l1_penalty that has fewer non-zeros than ‘max_nonzeros’\n",
    "(if we pick a penalty larger than this value, we will definitely have too few non-zero weights)\n",
    " Store this value in the variable ‘l1_penalty_max’ (we will use it later)"
   ]
  },
  {
   "cell_type": "code",
   "execution_count": 206,
   "metadata": {
    "collapsed": false,
    "pycharm": {
     "name": "#%%\n"
    }
   },
   "outputs": [
    {
     "name": "stdout",
     "output_type": "stream",
     "text": [
      "(1.27e+02, 2.64e+02)\n",
      "(127, 263)\n"
     ]
    }
   ],
   "source": [
    "l1_penalty_min = np.array([l1_penalty for l1_penalty, non_zeros in non_zero_weights if non_zeros > max_nonzeros]).max()\n",
    "l1_penalty_max = np.array([l1_penalty for l1_penalty, non_zeros in non_zero_weights if non_zeros < max_nonzeros]).min()\n",
    "print(f\"({l1_penalty_min:.2e}, {l1_penalty_max:.2e})\")\n",
    "\n",
    "print(f\"({int(l1_penalty_min)}, {int(l1_penalty_max)})\")"
   ]
  },
  {
   "cell_type": "code",
   "execution_count": 201,
   "metadata": {
    "collapsed": false,
    "pycharm": {
     "name": "#%%\n"
    }
   },
   "outputs": [
    {
     "data": {
      "text/plain": "[(127.42749857031335, 10),\n (134.5978981125619, 10),\n (141.76829765481045, 8),\n (148.938697197059, 8),\n (156.10909673930755, 7),\n (163.2794962815561, 7),\n (170.44989582380464, 7),\n (177.6202953660532, 7),\n (184.79069490830176, 7),\n (191.96109445055032, 7),\n (199.13149399279888, 7),\n (206.3018935350474, 6),\n (213.47229307729594, 6),\n (220.6426926195445, 6),\n (227.81309216179307, 6),\n (234.98349170404163, 6),\n (242.1538912462902, 6),\n (249.32429078853872, 6),\n (256.49469033078725, 6),\n (263.6650898730358, 6)]"
     },
     "execution_count": 201,
     "metadata": {},
     "output_type": "execute_result"
    }
   ],
   "source": [
    "narrow_range_models = fit_models(\n",
    "    training_set=training,\n",
    "    features=all_features,\n",
    "    target=\"price\",\n",
    "    schedule=np.linspace(l1_penalty_min, l1_penalty_max, num=20),\n",
    "    validation_set=validation,\n",
    ")\n",
    "\n",
    "narrow_non_zero_weights = [\n",
    "    (l1, np.count_nonzero(output.model.coef_) + np.count_nonzero(output.model.intercept_))\n",
    "    for l1, output in narrow_range_models.items()\n",
    "]\n",
    "narrow_non_zero_weights"
   ]
  },
  {
   "cell_type": "code",
   "execution_count": 207,
   "metadata": {
    "collapsed": false,
    "pycharm": {
     "name": "#%%\n"
    }
   },
   "outputs": [
    {
     "name": "stdout",
     "output_type": "stream",
     "text": [
      "best l1 penalty value: 156.11\n",
      "best l1 penalty value: 156\n"
     ]
    }
   ],
   "source": [
    "min_l1_penalty = np.array(\n",
    "    [l1_penalty for l1_penalty, non_zeros in narrow_non_zero_weights if non_zeros == max_nonzeros]\n",
    ").min()\n",
    "print(f\"best l1 penalty value: {min_l1_penalty:.2f}\")\n",
    "print(f\"best l1 penalty value: {int(min_l1_penalty)}\")"
   ]
  },
  {
   "cell_type": "code",
   "execution_count": 203,
   "metadata": {
    "collapsed": false,
    "pycharm": {
     "name": "#%%\n"
    }
   },
   "outputs": [
    {
     "data": {
      "text/plain": "['bathrooms', 'sqft_living', 'waterfront', 'view', 'grade', 'yr_built']"
     },
     "execution_count": 203,
     "metadata": {},
     "output_type": "execute_result"
    }
   ],
   "source": [
    "best_narrow_run = narrow_range_models[min_l1_penalty]\n",
    "get_selected_features(best_narrow_run.model.coef_, all_features)"
   ]
  },
  {
   "cell_type": "code",
   "execution_count": 204,
   "metadata": {
    "collapsed": false,
    "pycharm": {
     "name": "#%%\n"
    }
   },
   "outputs": [
    {
     "name": "stdout",
     "output_type": "stream",
     "text": [
      "Total non-zero: '6' features + '1' intercept\n"
     ]
    }
   ],
   "source": [
    "print(\n",
    "    f\"Total non-zero: '{np.count_nonzero(best_narrow_run.model.coef_)}' features + '{np.count_nonzero(best_narrow_run.model.intercept_)}' intercept\"\n",
    ")"
   ]
  },
  {
   "cell_type": "code",
   "execution_count": null,
   "metadata": {
    "collapsed": false,
    "pycharm": {
     "name": "#%%\n"
    }
   },
   "outputs": [],
   "source": []
  }
 ],
 "metadata": {
  "kernelspec": {
   "display_name": "Python 3",
   "language": "python",
   "name": "python3"
  },
  "language_info": {
   "codemirror_mode": {
    "name": "ipython",
    "version": 2
   },
   "file_extension": ".py",
   "mimetype": "text/x-python",
   "name": "python",
   "nbconvert_exporter": "python",
   "pygments_lexer": "ipython2",
   "version": "2.7.6"
  }
 },
 "nbformat": 4,
 "nbformat_minor": 0
}