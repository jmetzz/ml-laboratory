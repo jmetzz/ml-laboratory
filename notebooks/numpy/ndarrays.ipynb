{
 "cells": [
  {
   "cell_type": "markdown",
   "id": "9b2cb5fc-5464-4399-b2b7-3ecadab7499a",
   "metadata": {
    "pycharm": {
     "name": "#%% md\n"
    }
   },
   "source": [
    "# Numpy ndarrays\n",
    "\n",
    "## The scenario\n",
    "\n",
    "The question how to manipulate 3d arrays and aggregate values in the different dimentions (axis).\n",
    "\n",
    "Assume the dimensions as:\n",
    "\n",
    "- `0`: represents pages/urls\n",
    "- `1`: represents issues/problems identified in the page\n",
    "- `2`: pillar ... #todo: describe this concept\n"
   ]
  },
  {
   "cell_type": "code",
   "execution_count": 1,
   "id": "fc2eb4b1-0106-42d5-ba86-bd157ad693cf",
   "metadata": {
    "pycharm": {
     "name": "#%%\n"
    }
   },
   "outputs": [],
   "source": [
    "import numpy as np"
   ]
  },
  {
   "cell_type": "code",
   "execution_count": 2,
   "id": "8bceebd4-3df8-41b7-afab-cf3db92298ca",
   "metadata": {
    "pycharm": {
     "name": "#%%\n"
    }
   },
   "outputs": [
    {
     "data": {
      "text/plain": [
       "(10, 5, 6)"
      ]
     },
     "execution_count": 2,
     "metadata": {},
     "output_type": "execute_result"
    }
   ],
   "source": [
    "# create some data\n",
    "a = np.zeros(300).reshape(10, -1, 6)\n",
    "a[0, 0, :] = np.array([1.02, 1.02, 0.0, 0.0, 1.02, 1.02])\n",
    "a.shape"
   ]
  },
  {
   "cell_type": "code",
   "execution_count": 3,
   "id": "09485265-48a7-4d25-b586-87b8609f25a0",
   "metadata": {
    "pycharm": {
     "name": "#%%\n"
    }
   },
   "outputs": [
    {
     "data": {
      "text/plain": [
       "(5, 6)"
      ]
     },
     "execution_count": 3,
     "metadata": {},
     "output_type": "execute_result"
    }
   ],
   "source": [
    "a[0, :, :].shape"
   ]
  },
  {
   "cell_type": "code",
   "execution_count": 4,
   "id": "3adbc726-3102-478a-8605-c975cf3749de",
   "metadata": {
    "pycharm": {
     "name": "#%%\n"
    }
   },
   "outputs": [
    {
     "name": "stdout",
     "output_type": "stream",
     "text": [
      "[[1.02 1.02 0.   0.   1.02 1.02]\n",
      " [0.   0.   0.   0.   0.   0.  ]\n",
      " [0.   0.   0.   0.   0.   0.  ]\n",
      " [0.   0.   0.   0.   0.   0.  ]\n",
      " [0.   0.   0.   0.   0.   0.  ]]\n",
      "\n",
      "[[0. 0. 0. 0. 0. 0.]\n",
      " [0. 0. 0. 0. 0. 0.]\n",
      " [0. 0. 0. 0. 0. 0.]\n",
      " [0. 0. 0. 0. 0. 0.]\n",
      " [0. 0. 0. 0. 0. 0.]]\n"
     ]
    }
   ],
   "source": [
    "# 1st page, all issue types, all pillars\n",
    "print(a[0, :, :])\n",
    "\n",
    "print()\n",
    "# 5th page, all issue types, all pillars\n",
    "print(a[4, :, :])"
   ]
  },
  {
   "cell_type": "code",
   "execution_count": 5,
   "id": "f4110f24-1686-4f96-84e8-25e78669bb98",
   "metadata": {
    "pycharm": {
     "name": "#%%\n"
    }
   },
   "outputs": [
    {
     "name": "stdout",
     "output_type": "stream",
     "text": [
      "[[1.02 1.02 0.   0.   1.02 1.02]\n",
      " [0.   0.   0.   0.   0.   0.  ]\n",
      " [0.   0.   0.   0.   0.   0.  ]\n",
      " [0.   0.   0.   0.   0.   0.  ]\n",
      " [0.   0.   0.   0.   0.   0.  ]\n",
      " [0.   0.   0.   0.   0.   0.  ]\n",
      " [0.   0.   0.   0.   0.   0.  ]\n",
      " [0.   0.   0.   0.   0.   0.  ]\n",
      " [0.   0.   0.   0.   0.   0.  ]\n",
      " [0.   0.   0.   0.   0.   0.  ]]\n",
      "(10, 6)\n"
     ]
    }
   ],
   "source": [
    "# 1st issue type, all 10 pages, all 6 pillars\n",
    "print(a[:, 0, :])\n",
    "print(a[:, 0, :].shape)"
   ]
  },
  {
   "cell_type": "code",
   "execution_count": 6,
   "id": "0f776d20-2eff-48f7-aa53-24f26a451cbe",
   "metadata": {
    "pycharm": {
     "name": "#%%\n"
    }
   },
   "outputs": [
    {
     "name": "stdout",
     "output_type": "stream",
     "text": [
      "[[1.02 0.   0.   0.   0.  ]\n",
      " [0.   0.   0.   0.   0.  ]\n",
      " [0.   0.   0.   0.   0.  ]\n",
      " [0.   0.   0.   0.   0.  ]\n",
      " [0.   0.   0.   0.   0.  ]\n",
      " [0.   0.   0.   0.   0.  ]\n",
      " [0.   0.   0.   0.   0.  ]\n",
      " [0.   0.   0.   0.   0.  ]\n",
      " [0.   0.   0.   0.   0.  ]\n",
      " [0.   0.   0.   0.   0.  ]]\n",
      "(10, 5)\n"
     ]
    }
   ],
   "source": [
    "# Pillar 0\n",
    "print(a[:, :, 0])\n",
    "print(a[:, :, 0].shape)"
   ]
  },
  {
   "cell_type": "code",
   "execution_count": 7,
   "id": "84b187b3-e9e0-40a6-8fcf-e2e3ac246096",
   "metadata": {
    "pycharm": {
     "name": "#%%\n"
    }
   },
   "outputs": [
    {
     "name": "stdout",
     "output_type": "stream",
     "text": [
      "[1.02 0.   0.   0.   0.  ]\n",
      "(5,)\n"
     ]
    }
   ],
   "source": [
    "# 1 page, all issue types, 1 pillar\n",
    "print(a[0, :, 0])\n",
    "print(a[0, :, 0].shape)"
   ]
  },
  {
   "cell_type": "code",
   "execution_count": 8,
   "id": "f9d5f447-11e3-4aac-bc89-1b73aca77e6d",
   "metadata": {
    "collapsed": true,
    "jupyter": {
     "outputs_hidden": true
    },
    "pycharm": {
     "name": "#%%\n"
    },
    "tags": []
   },
   "outputs": [
    {
     "name": "stdout",
     "output_type": "stream",
     "text": [
      "[[[ True  True False False  True  True]\n",
      "  [False False False False False False]\n",
      "  [False False False False False False]\n",
      "  [False False False False False False]\n",
      "  [False False False False False False]]\n",
      "\n",
      " [[False False False False False False]\n",
      "  [False False False False False False]\n",
      "  [False False False False False False]\n",
      "  [False False False False False False]\n",
      "  [False False False False False False]]\n",
      "\n",
      " [[False False False False False False]\n",
      "  [False False False False False False]\n",
      "  [False False False False False False]\n",
      "  [False False False False False False]\n",
      "  [False False False False False False]]\n",
      "\n",
      " [[False False False False False False]\n",
      "  [False False False False False False]\n",
      "  [False False False False False False]\n",
      "  [False False False False False False]\n",
      "  [False False False False False False]]\n",
      "\n",
      " [[False False False False False False]\n",
      "  [False False False False False False]\n",
      "  [False False False False False False]\n",
      "  [False False False False False False]\n",
      "  [False False False False False False]]\n",
      "\n",
      " [[False False False False False False]\n",
      "  [False False False False False False]\n",
      "  [False False False False False False]\n",
      "  [False False False False False False]\n",
      "  [False False False False False False]]\n",
      "\n",
      " [[False False False False False False]\n",
      "  [False False False False False False]\n",
      "  [False False False False False False]\n",
      "  [False False False False False False]\n",
      "  [False False False False False False]]\n",
      "\n",
      " [[False False False False False False]\n",
      "  [False False False False False False]\n",
      "  [False False False False False False]\n",
      "  [False False False False False False]\n",
      "  [False False False False False False]]\n",
      "\n",
      " [[False False False False False False]\n",
      "  [False False False False False False]\n",
      "  [False False False False False False]\n",
      "  [False False False False False False]\n",
      "  [False False False False False False]]\n",
      "\n",
      " [[False False False False False False]\n",
      "  [False False False False False False]\n",
      "  [False False False False False False]\n",
      "  [False False False False False False]\n",
      "  [False False False False False False]]]\n",
      "(10, 5, 6)\n"
     ]
    }
   ],
   "source": [
    "# define a mas that to filter all zero elelements\n",
    "mask = a != 0\n",
    "print(mask)\n",
    "print(mask.shape)"
   ]
  },
  {
   "cell_type": "code",
   "execution_count": 9,
   "id": "4056c362-baf9-4bd2-a0ae-88bce7426662",
   "metadata": {
    "pycharm": {
     "name": "#%%\n"
    }
   },
   "outputs": [
    {
     "data": {
      "text/plain": [
       "(10, 5)"
      ]
     },
     "execution_count": 9,
     "metadata": {},
     "output_type": "execute_result"
    }
   ],
   "source": [
    "mask[:, :, 0].shape"
   ]
  },
  {
   "cell_type": "code",
   "execution_count": 10,
   "id": "620ddb17-06bb-4108-a4de-9b6bb88e97bf",
   "metadata": {
    "pycharm": {
     "name": "#%%\n"
    }
   },
   "outputs": [
    {
     "data": {
      "text/plain": [
       "array([[ True, False, False, False, False],\n",
       "       [False, False, False, False, False],\n",
       "       [False, False, False, False, False],\n",
       "       [False, False, False, False, False],\n",
       "       [False, False, False, False, False],\n",
       "       [False, False, False, False, False],\n",
       "       [False, False, False, False, False],\n",
       "       [False, False, False, False, False],\n",
       "       [False, False, False, False, False],\n",
       "       [False, False, False, False, False]])"
      ]
     },
     "execution_count": 10,
     "metadata": {},
     "output_type": "execute_result"
    }
   ],
   "source": [
    "# all pages, all issue types, of pillar 0\n",
    "mask[:, :, 0]"
   ]
  },
  {
   "cell_type": "code",
   "execution_count": 11,
   "id": "c6a03a7e-97ee-4512-8324-297ef5a7469e",
   "metadata": {
    "pycharm": {
     "name": "#%%\n"
    },
    "tags": []
   },
   "outputs": [
    {
     "data": {
      "text/plain": [
       "1.02"
      ]
     },
     "execution_count": 11,
     "metadata": {},
     "output_type": "execute_result"
    }
   ],
   "source": [
    "# overall mean of non-zero elements\n",
    "np.mean(a, where=mask)"
   ]
  },
  {
   "cell_type": "code",
   "execution_count": 12,
   "id": "e6fac8ad-bf19-4829-bb11-7bcf5a57323d",
   "metadata": {
    "pycharm": {
     "name": "#%%\n"
    }
   },
   "outputs": [
    {
     "name": "stderr",
     "output_type": "stream",
     "text": [
      "/Users/jeanmetz/Library/Caches/pypoetry/virtualenvs/dst-wux-score-calculator-xSyf1ibx-py3.9/lib/python3.8/site-packages/numpy/core/fromnumeric.py:3432: RuntimeWarning: Mean of empty slice.\n",
      "  return _methods._mean(a, axis=axis, dtype=dtype,\n",
      "/Users/jeanmetz/Library/Caches/pypoetry/virtualenvs/dst-wux-score-calculator-xSyf1ibx-py3.9/lib/python3.8/site-packages/numpy/core/_methods.py:182: RuntimeWarning: invalid value encountered in divide\n",
      "  ret = um.true_divide(\n"
     ]
    },
    {
     "data": {
      "text/plain": [
       "array([[1.02, 1.02,  nan,  nan, 1.02, 1.02],\n",
       "       [ nan,  nan,  nan,  nan,  nan,  nan],\n",
       "       [ nan,  nan,  nan,  nan,  nan,  nan],\n",
       "       [ nan,  nan,  nan,  nan,  nan,  nan],\n",
       "       [ nan,  nan,  nan,  nan,  nan,  nan]])"
      ]
     },
     "execution_count": 12,
     "metadata": {},
     "output_type": "execute_result"
    }
   ],
   "source": [
    "# aggregates action value over page axis,\n",
    "# resulting in (issue type, pillar).\n",
    "np.mean(a, axis=0, where=mask)"
   ]
  },
  {
   "cell_type": "code",
   "execution_count": 13,
   "id": "c3ce3bc8-9892-4d25-9398-454422e39e06",
   "metadata": {
    "pycharm": {
     "name": "#%%\n"
    }
   },
   "outputs": [
    {
     "data": {
      "text/plain": [
       "array([[1.02, 1.02,  nan,  nan, 1.02, 1.02],\n",
       "       [ nan,  nan,  nan,  nan,  nan,  nan],\n",
       "       [ nan,  nan,  nan,  nan,  nan,  nan],\n",
       "       [ nan,  nan,  nan,  nan,  nan,  nan],\n",
       "       [ nan,  nan,  nan,  nan,  nan,  nan],\n",
       "       [ nan,  nan,  nan,  nan,  nan,  nan],\n",
       "       [ nan,  nan,  nan,  nan,  nan,  nan],\n",
       "       [ nan,  nan,  nan,  nan,  nan,  nan],\n",
       "       [ nan,  nan,  nan,  nan,  nan,  nan],\n",
       "       [ nan,  nan,  nan,  nan,  nan,  nan]])"
      ]
     },
     "execution_count": 13,
     "metadata": {},
     "output_type": "execute_result"
    }
   ],
   "source": [
    "# aggregates action value over issue type axis,\n",
    "# resulting in (pages, pillar).\n",
    "np.mean(a, axis=1, where=mask)"
   ]
  },
  {
   "cell_type": "code",
   "execution_count": 14,
   "id": "0315c88f-296a-4165-a86e-ca29c89112d7",
   "metadata": {
    "pycharm": {
     "name": "#%%\n"
    }
   },
   "outputs": [
    {
     "data": {
      "text/plain": [
       "array([[1.02,  nan,  nan,  nan,  nan],\n",
       "       [ nan,  nan,  nan,  nan,  nan],\n",
       "       [ nan,  nan,  nan,  nan,  nan],\n",
       "       [ nan,  nan,  nan,  nan,  nan],\n",
       "       [ nan,  nan,  nan,  nan,  nan],\n",
       "       [ nan,  nan,  nan,  nan,  nan],\n",
       "       [ nan,  nan,  nan,  nan,  nan],\n",
       "       [ nan,  nan,  nan,  nan,  nan],\n",
       "       [ nan,  nan,  nan,  nan,  nan],\n",
       "       [ nan,  nan,  nan,  nan,  nan]])"
      ]
     },
     "execution_count": 14,
     "metadata": {},
     "output_type": "execute_result"
    }
   ],
   "source": [
    "# aggregates action value over pillar axis,\n",
    "# resulting in (pages, issue type).\n",
    "np.mean(a, axis=2, where=mask)"
   ]
  },
  {
   "cell_type": "code",
   "execution_count": 15,
   "id": "625c45ee-5300-49ba-b7f7-0dfd46dcbbb4",
   "metadata": {
    "pycharm": {
     "name": "#%%\n"
    }
   },
   "outputs": [
    {
     "data": {
      "text/plain": [
       "array([1.02, 1.02,  nan,  nan, 1.02, 1.02])"
      ]
     },
     "execution_count": 15,
     "metadata": {},
     "output_type": "execute_result"
    }
   ],
   "source": [
    "# ------------------------\n",
    "# mean action value per pillar\n",
    "# ------------------------\n",
    "np.mean(a, axis=(0, 1), where=mask)"
   ]
  },
  {
   "cell_type": "code",
   "execution_count": 16,
   "id": "9e2c6260-cc7e-4a2e-a53a-646600eeacce",
   "metadata": {
    "pycharm": {
     "name": "#%%\n"
    }
   },
   "outputs": [
    {
     "data": {
      "text/plain": [
       "array([1.02,  nan,  nan,  nan,  nan])"
      ]
     },
     "execution_count": 16,
     "metadata": {},
     "output_type": "execute_result"
    }
   ],
   "source": [
    "# ------------------------\n",
    "# mean action value per issue type\n",
    "# ------------------------\n",
    "np.mean(a, axis=(0, 2), where=mask)"
   ]
  },
  {
   "cell_type": "code",
   "execution_count": 17,
   "id": "0123e5b1-fbf4-4db8-97ac-b725d7485506",
   "metadata": {
    "pycharm": {
     "name": "#%%\n"
    }
   },
   "outputs": [
    {
     "data": {
      "text/plain": [
       "array([1.02,  nan,  nan,  nan,  nan,  nan,  nan,  nan,  nan,  nan])"
      ]
     },
     "execution_count": 17,
     "metadata": {},
     "output_type": "execute_result"
    }
   ],
   "source": [
    "# ------------------------\n",
    "# mean action value per page\n",
    "# ------------------------\n",
    "np.mean(a, axis=(1, 2), where=mask)"
   ]
  },
  {
   "cell_type": "markdown",
   "id": "4385c576-f5ec-4a82-a29d-1329c388eb84",
   "metadata": {
    "pycharm": {
     "name": "#%% md\n"
    }
   },
   "source": [
    "## Aggregate some data\n",
    "\n",
    "Let's call it `action` the action of fixing an issue in a page.\n",
    "Then, calculate and ranking based on the value of a action, `page` and `issue` combination. \n"
   ]
  },
  {
   "cell_type": "code",
   "execution_count": 18,
   "id": "94f70e5d-e557-4878-9211-f9b9e4ad83c5",
   "metadata": {
    "pycharm": {
     "name": "#%%\n"
    }
   },
   "outputs": [
    {
     "name": "stdout",
     "output_type": "stream",
     "text": [
      "[[1.02 0.   0.   0.   0.  ]\n",
      " [2.02 0.   0.   0.   0.  ]\n",
      " [0.   0.   0.   0.   0.  ]\n",
      " [0.   0.   0.   0.   0.  ]\n",
      " [0.   0.   0.   0.   0.  ]\n",
      " [0.   0.   0.   0.   0.  ]\n",
      " [0.   0.   0.   0.   0.  ]\n",
      " [0.   0.   0.   0.   0.  ]\n",
      " [0.   0.   0.   0.   0.  ]\n",
      " [0.   0.   0.   0.   0.  ]]\n"
     ]
    },
    {
     "data": {
      "text/plain": [
       "(10, 5, 6)"
      ]
     },
     "execution_count": 18,
     "metadata": {},
     "output_type": "execute_result"
    }
   ],
   "source": [
    "# aggregate values per pillar\n",
    "action_values = np.zeros(300).reshape(10, -1, 6)\n",
    "action_values[0, 0, :] = np.array([1.02, 1.02, 0.0, 0.0, 1.02, 1.02])\n",
    "action_values[1, 0, :] = np.array([2.02, 1.02, 3.0, 1.4, 1.02, 1.02])\n",
    "\n",
    "print(action_values[:, :, 0])\n",
    "action_values.shape"
   ]
  },
  {
   "cell_type": "markdown",
   "id": "a4d8acfa",
   "metadata": {
    "pycharm": {
     "name": "#%% md\n"
    }
   },
   "source": [
    "What we want is to aggregate the `mean` action value per `page` and `issue` type.\n",
    "This way we can rank the action by value.\n",
    "\n",
    "We can either use all elements in the action matrix, or only non-zero elements."
   ]
  },
  {
   "cell_type": "code",
   "execution_count": 19,
   "id": "9111d517-b0ed-476a-958e-883fbcd56ebc",
   "metadata": {
    "pycharm": {
     "name": "#%%\n"
    }
   },
   "outputs": [
    {
     "name": "stdout",
     "output_type": "stream",
     "text": [
      "[[1.02  nan  nan  nan  nan]\n",
      " [1.58  nan  nan  nan  nan]\n",
      " [ nan  nan  nan  nan  nan]\n",
      " [ nan  nan  nan  nan  nan]\n",
      " [ nan  nan  nan  nan  nan]\n",
      " [ nan  nan  nan  nan  nan]\n",
      " [ nan  nan  nan  nan  nan]\n",
      " [ nan  nan  nan  nan  nan]\n",
      " [ nan  nan  nan  nan  nan]\n",
      " [ nan  nan  nan  nan  nan]]\n",
      "(10, 5)\n"
     ]
    }
   ],
   "source": [
    "# masking ... using only non-zero elements\n",
    "mask = action_values != 0\n",
    "agg_action_values = np.mean(action_values, axis=2, where=mask)\n",
    "print(agg_action_values)\n",
    "print(agg_action_values.shape)"
   ]
  },
  {
   "cell_type": "code",
   "execution_count": 20,
   "id": "e3063f9c-f413-4bd3-bd3d-d16bbd4d89e4",
   "metadata": {
    "pycharm": {
     "name": "#%%\n"
    }
   },
   "outputs": [
    {
     "name": "stdout",
     "output_type": "stream",
     "text": [
      "[[0.68 0.   0.   0.   0.  ]\n",
      " [1.58 0.   0.   0.   0.  ]\n",
      " [0.   0.   0.   0.   0.  ]\n",
      " [0.   0.   0.   0.   0.  ]\n",
      " [0.   0.   0.   0.   0.  ]\n",
      " [0.   0.   0.   0.   0.  ]\n",
      " [0.   0.   0.   0.   0.  ]\n",
      " [0.   0.   0.   0.   0.  ]\n",
      " [0.   0.   0.   0.   0.  ]\n",
      " [0.   0.   0.   0.   0.  ]]\n",
      "(10, 5)\n"
     ]
    }
   ],
   "source": [
    "# Not masking ... use all elements\n",
    "agg_action_values = np.mean(action_values, axis=2)\n",
    "print(agg_action_values)\n",
    "print(agg_action_values.shape)"
   ]
  },
  {
   "cell_type": "code",
   "execution_count": 21,
   "id": "1a2eb3b9-2b38-46ec-92d6-40e09b96fbcc",
   "metadata": {
    "pycharm": {
     "name": "#%%\n"
    }
   },
   "outputs": [
    {
     "data": {
      "text/plain": [
       "array([0.68, 0.  , 0.  , 0.  , 0.  , 1.58, 0.  , 0.  , 0.  , 0.  , 0.  ,\n",
       "       0.  , 0.  , 0.  , 0.  , 0.  , 0.  , 0.  , 0.  , 0.  , 0.  , 0.  ,\n",
       "       0.  , 0.  , 0.  , 0.  , 0.  , 0.  , 0.  , 0.  , 0.  , 0.  , 0.  ,\n",
       "       0.  , 0.  , 0.  , 0.  , 0.  , 0.  , 0.  , 0.  , 0.  , 0.  , 0.  ,\n",
       "       0.  , 0.  , 0.  , 0.  , 0.  , 0.  ])"
      ]
     },
     "execution_count": 21,
     "metadata": {},
     "output_type": "execute_result"
    }
   ],
   "source": [
    "action_values = agg_action_values.ravel()\n",
    "action_values"
   ]
  },
  {
   "cell_type": "code",
   "execution_count": 22,
   "id": "3582cc5f-7548-4c2a-a377-ba58a42075c5",
   "metadata": {
    "pycharm": {
     "name": "#%%\n"
    }
   },
   "outputs": [
    {
     "data": {
      "text/plain": [
       "array([24, 27, 28, 29, 30, 31, 32, 33, 34, 35, 36, 37, 38, 39, 40, 41, 42,\n",
       "       43, 44, 45, 46, 47, 26, 25, 49, 23,  1,  2,  3,  4,  6,  7,  8,  9,\n",
       "       10, 48, 11, 13, 14, 15, 16, 17, 18, 19, 20, 21, 22, 12,  0,  5])"
      ]
     },
     "execution_count": 22,
     "metadata": {},
     "output_type": "execute_result"
    }
   ],
   "source": [
    "indices = np.argsort(action_values)\n",
    "indices"
   ]
  },
  {
   "cell_type": "code",
   "execution_count": 23,
   "id": "a23de958-507e-4b66-8c6e-055ab8f8a828",
   "metadata": {
    "pycharm": {
     "name": "#%%\n"
    }
   },
   "outputs": [
    {
     "data": {
      "text/plain": [
       "(array([4, 5, 5, 5, 6, 6, 6, 6, 6, 7, 7, 7, 7, 7, 8, 8, 8, 8, 8, 9, 9, 9,\n",
       "        5, 5, 9, 4, 0, 0, 0, 0, 1, 1, 1, 1, 2, 9, 2, 2, 2, 3, 3, 3, 3, 3,\n",
       "        4, 4, 4, 2, 0, 1]),\n",
       " array([4, 2, 3, 4, 0, 1, 2, 3, 4, 0, 1, 2, 3, 4, 0, 1, 2, 3, 4, 0, 1, 2,\n",
       "        1, 0, 4, 3, 1, 2, 3, 4, 1, 2, 3, 4, 0, 3, 1, 3, 4, 0, 1, 2, 3, 4,\n",
       "        0, 1, 2, 2, 0, 0]))"
      ]
     },
     "execution_count": 23,
     "metadata": {},
     "output_type": "execute_result"
    }
   ],
   "source": [
    "# The element [0,0] is the biggest, so it is the last\n",
    "unraveled = np.unravel_index(indices, agg_action_values.shape)\n",
    "unraveled"
   ]
  },
  {
   "cell_type": "code",
   "execution_count": 24,
   "id": "65a0e331-dcf8-4bae-bf4e-04efadcfb88b",
   "metadata": {
    "collapsed": true,
    "jupyter": {
     "outputs_hidden": true
    },
    "pycharm": {
     "name": "#%%\n"
    },
    "tags": []
   },
   "outputs": [
    {
     "data": {
      "text/plain": [
       "array([[[4, 4],\n",
       "        [5, 2],\n",
       "        [5, 3],\n",
       "        [5, 4],\n",
       "        [6, 0],\n",
       "        [6, 1],\n",
       "        [6, 2],\n",
       "        [6, 3],\n",
       "        [6, 4],\n",
       "        [7, 0],\n",
       "        [7, 1],\n",
       "        [7, 2],\n",
       "        [7, 3],\n",
       "        [7, 4],\n",
       "        [8, 0],\n",
       "        [8, 1],\n",
       "        [8, 2],\n",
       "        [8, 3],\n",
       "        [8, 4],\n",
       "        [9, 0],\n",
       "        [9, 1],\n",
       "        [9, 2],\n",
       "        [5, 1],\n",
       "        [5, 0],\n",
       "        [9, 4],\n",
       "        [4, 3],\n",
       "        [0, 1],\n",
       "        [0, 2],\n",
       "        [0, 3],\n",
       "        [0, 4],\n",
       "        [1, 1],\n",
       "        [1, 2],\n",
       "        [1, 3],\n",
       "        [1, 4],\n",
       "        [2, 0],\n",
       "        [9, 3],\n",
       "        [2, 1],\n",
       "        [2, 3],\n",
       "        [2, 4],\n",
       "        [3, 0],\n",
       "        [3, 1],\n",
       "        [3, 2],\n",
       "        [3, 3],\n",
       "        [3, 4],\n",
       "        [4, 0],\n",
       "        [4, 1],\n",
       "        [4, 2],\n",
       "        [2, 2],\n",
       "        [0, 0],\n",
       "        [1, 0]]])"
      ]
     },
     "execution_count": 24,
     "metadata": {},
     "output_type": "execute_result"
    }
   ],
   "source": [
    "# put the indexes next to each other\n",
    "pairs = np.dstack(unraveled)\n",
    "pairs"
   ]
  },
  {
   "cell_type": "code",
   "execution_count": 25,
   "id": "3391e3d8-de2a-4fb2-a12f-20d98be99bc2",
   "metadata": {
    "pycharm": {
     "name": "#%%\n"
    }
   },
   "outputs": [
    {
     "data": {
      "text/plain": [
       "array([0.  , 0.  , 0.  , 0.  , 0.  , 0.  , 0.  , 0.  , 0.  , 0.  , 0.  ,\n",
       "       0.  , 0.  , 0.  , 0.  , 0.  , 0.  , 0.  , 0.  , 0.  , 0.  , 0.  ,\n",
       "       0.  , 0.  , 0.  , 0.  , 0.  , 0.  , 0.  , 0.  , 0.  , 0.  , 0.  ,\n",
       "       0.  , 0.  , 0.  , 0.  , 0.  , 0.  , 0.  , 0.  , 0.  , 0.  , 0.  ,\n",
       "       0.  , 0.  , 0.  , 0.  , 0.68, 1.58])"
      ]
     },
     "execution_count": 25,
     "metadata": {},
     "output_type": "execute_result"
    }
   ],
   "source": [
    "action_values[indices]"
   ]
  },
  {
   "cell_type": "code",
   "execution_count": 26,
   "id": "53c1114b-a093-41a3-b1f6-7eb699e49e13",
   "metadata": {
    "collapsed": true,
    "jupyter": {
     "outputs_hidden": true
    },
    "pycharm": {
     "name": "#%%\n"
    },
    "tags": []
   },
   "outputs": [
    {
     "data": {
      "text/plain": [
       "array([[4.  , 4.  , 0.  ],\n",
       "       [5.  , 2.  , 0.  ],\n",
       "       [5.  , 3.  , 0.  ],\n",
       "       [5.  , 4.  , 0.  ],\n",
       "       [6.  , 0.  , 0.  ],\n",
       "       [6.  , 1.  , 0.  ],\n",
       "       [6.  , 2.  , 0.  ],\n",
       "       [6.  , 3.  , 0.  ],\n",
       "       [6.  , 4.  , 0.  ],\n",
       "       [7.  , 0.  , 0.  ],\n",
       "       [7.  , 1.  , 0.  ],\n",
       "       [7.  , 2.  , 0.  ],\n",
       "       [7.  , 3.  , 0.  ],\n",
       "       [7.  , 4.  , 0.  ],\n",
       "       [8.  , 0.  , 0.  ],\n",
       "       [8.  , 1.  , 0.  ],\n",
       "       [8.  , 2.  , 0.  ],\n",
       "       [8.  , 3.  , 0.  ],\n",
       "       [8.  , 4.  , 0.  ],\n",
       "       [9.  , 0.  , 0.  ],\n",
       "       [9.  , 1.  , 0.  ],\n",
       "       [9.  , 2.  , 0.  ],\n",
       "       [5.  , 1.  , 0.  ],\n",
       "       [5.  , 0.  , 0.  ],\n",
       "       [9.  , 4.  , 0.  ],\n",
       "       [4.  , 3.  , 0.  ],\n",
       "       [0.  , 1.  , 0.  ],\n",
       "       [0.  , 2.  , 0.  ],\n",
       "       [0.  , 3.  , 0.  ],\n",
       "       [0.  , 4.  , 0.  ],\n",
       "       [1.  , 1.  , 0.  ],\n",
       "       [1.  , 2.  , 0.  ],\n",
       "       [1.  , 3.  , 0.  ],\n",
       "       [1.  , 4.  , 0.  ],\n",
       "       [2.  , 0.  , 0.  ],\n",
       "       [9.  , 3.  , 0.  ],\n",
       "       [2.  , 1.  , 0.  ],\n",
       "       [2.  , 3.  , 0.  ],\n",
       "       [2.  , 4.  , 0.  ],\n",
       "       [3.  , 0.  , 0.  ],\n",
       "       [3.  , 1.  , 0.  ],\n",
       "       [3.  , 2.  , 0.  ],\n",
       "       [3.  , 3.  , 0.  ],\n",
       "       [3.  , 4.  , 0.  ],\n",
       "       [4.  , 0.  , 0.  ],\n",
       "       [4.  , 1.  , 0.  ],\n",
       "       [4.  , 2.  , 0.  ],\n",
       "       [2.  , 2.  , 0.  ],\n",
       "       [0.  , 0.  , 0.68],\n",
       "       [1.  , 0.  , 1.58]])"
      ]
     },
     "execution_count": 26,
     "metadata": {},
     "output_type": "execute_result"
    }
   ],
   "source": [
    "stacked = np.dstack((pairs, action_values[indices])).squeeze()\n",
    "stacked"
   ]
  },
  {
   "cell_type": "code",
   "execution_count": 27,
   "id": "949ad325-d76b-48d8-83d1-bb80c2eb79dc",
   "metadata": {
    "pycharm": {
     "name": "#%%\n"
    }
   },
   "outputs": [
    {
     "data": {
      "text/plain": [
       "array([[0.  , 0.  , 0.68],\n",
       "       [1.  , 0.  , 1.58]])"
      ]
     },
     "execution_count": 27,
     "metadata": {},
     "output_type": "execute_result"
    }
   ],
   "source": [
    "stacked[stacked[:, 2] == 0] = np.nan\n",
    "non_nan_mask = ~np.isnan(stacked[:, 2])\n",
    "stacked[non_nan_mask]"
   ]
  },
  {
   "cell_type": "markdown",
   "id": "d18d7425",
   "metadata": {
    "pycharm": {
     "name": "#%% md\n"
    }
   },
   "source": [
    "## Putting together\n",
    "\n"
   ]
  },
  {
   "cell_type": "code",
   "execution_count": 28,
   "id": "1b23c5ab",
   "metadata": {
    "pycharm": {
     "name": "#%%\n"
    }
   },
   "outputs": [],
   "source": [
    "def rank(value_matrix: np.ndarray, non_zero_only: bool) -> np.ndarray:\n",
    "    if non_zero_only:\n",
    "        mask = value_matrix != 0.0\n",
    "        agg_values = np.mean(value_matrix, axis=2, where=mask)\n",
    "    else:\n",
    "        agg_values = np.mean(value_matrix, axis=2)\n",
    "\n",
    "    raveled = agg_values.ravel()\n",
    "    indices = np.argsort(raveled)\n",
    "    stacked = np.dstack((np.dstack(np.unravel_index(indices, agg_values.shape)), raveled[indices])).squeeze()\n",
    "    stacked[stacked[:, 2] == 0] = np.nan\n",
    "    non_nan_mask = ~np.isnan(stacked[:, 2])\n",
    "    return stacked[non_nan_mask]"
   ]
  },
  {
   "cell_type": "code",
   "execution_count": 29,
   "id": "974f2061",
   "metadata": {
    "pycharm": {
     "name": "#%%\n"
    }
   },
   "outputs": [],
   "source": [
    "# Let's test it out.\n",
    "# First, create the dataset:\n",
    "sample_action_values_matrix = np.zeros(300).reshape(10, -1, 6)\n",
    "sample_action_values_matrix[0, 0, :] = np.array([1.02, 1.02, 0.0, 0.0, 1.02, 1.02])\n",
    "sample_action_values_matrix[1, 0, :] = np.array([2.02, 1.02, 3.0, 0.0, 1.02, 1.02])\n",
    "sample_action_values_matrix[2, 0, :] = np.array([1, 1, 1.0, 1.0, 1.0, 1.0])\n",
    "sample_action_values_matrix[0, 1, :] = np.array([1, 4, 1.0, 5.0, 1.0, 1.0])"
   ]
  },
  {
   "cell_type": "code",
   "execution_count": 30,
   "id": "e3d10f1b",
   "metadata": {
    "pycharm": {
     "name": "#%%\n"
    }
   },
   "outputs": [
    {
     "data": {
      "text/plain": [
       "array([[0.        , 0.        , 0.68      ],\n",
       "       [2.        , 0.        , 1.        ],\n",
       "       [1.        , 0.        , 1.34666667],\n",
       "       [0.        , 1.        , 2.16666667]])"
      ]
     },
     "execution_count": 30,
     "metadata": {},
     "output_type": "execute_result"
    }
   ],
   "source": [
    "sorted_actions = rank(sample_action_values_matrix, False)\n",
    "sorted_actions"
   ]
  },
  {
   "cell_type": "code",
   "execution_count": 31,
   "id": "48bdf2ef",
   "metadata": {
    "pycharm": {
     "name": "#%%\n"
    }
   },
   "outputs": [
    {
     "data": {
      "text/plain": [
       "array([[2.        , 0.        , 1.        ],\n",
       "       [0.        , 0.        , 1.02      ],\n",
       "       [1.        , 0.        , 1.616     ],\n",
       "       [0.        , 1.        , 2.16666667]])"
      ]
     },
     "execution_count": 31,
     "metadata": {},
     "output_type": "execute_result"
    }
   ],
   "source": [
    "sorted_actions = rank(sample_action_values_matrix, True)\n",
    "sorted_actions"
   ]
  },
  {
   "cell_type": "markdown",
   "id": "56c38dd2-11b5-4b7a-8b4f-ef319d4b2115",
   "metadata": {
    "pycharm": {
     "name": "#%% md\n"
    }
   },
   "source": [
    "## Transfor to dataframe"
   ]
  },
  {
   "cell_type": "code",
   "execution_count": 32,
   "id": "bc0b1b5b",
   "metadata": {
    "pycharm": {
     "name": "#%%\n"
    }
   },
   "outputs": [],
   "source": [
    "import pandas as pd"
   ]
  },
  {
   "cell_type": "code",
   "execution_count": 33,
   "id": "b1e0c360-05d0-417f-b23f-f3358e0a76f0",
   "metadata": {
    "pycharm": {
     "name": "#%%\n"
    }
   },
   "outputs": [
    {
     "data": {
      "text/html": [
       "<div>\n",
       "<style scoped>\n",
       "    .dataframe tbody tr th:only-of-type {\n",
       "        vertical-align: middle;\n",
       "    }\n",
       "\n",
       "    .dataframe tbody tr th {\n",
       "        vertical-align: top;\n",
       "    }\n",
       "\n",
       "    .dataframe thead th {\n",
       "        text-align: right;\n",
       "    }\n",
       "</style>\n",
       "<table border=\"1\" class=\"dataframe\">\n",
       "  <thead>\n",
       "    <tr style=\"text-align: right;\">\n",
       "      <th></th>\n",
       "      <th>page_idx</th>\n",
       "      <th>issue_type_idx</th>\n",
       "      <th>action_value</th>\n",
       "    </tr>\n",
       "  </thead>\n",
       "  <tbody>\n",
       "    <tr>\n",
       "      <th>0</th>\n",
       "      <td>0.0</td>\n",
       "      <td>1.0</td>\n",
       "      <td>2.166667</td>\n",
       "    </tr>\n",
       "    <tr>\n",
       "      <th>1</th>\n",
       "      <td>1.0</td>\n",
       "      <td>0.0</td>\n",
       "      <td>1.616000</td>\n",
       "    </tr>\n",
       "    <tr>\n",
       "      <th>2</th>\n",
       "      <td>0.0</td>\n",
       "      <td>0.0</td>\n",
       "      <td>1.020000</td>\n",
       "    </tr>\n",
       "    <tr>\n",
       "      <th>3</th>\n",
       "      <td>2.0</td>\n",
       "      <td>0.0</td>\n",
       "      <td>1.000000</td>\n",
       "    </tr>\n",
       "  </tbody>\n",
       "</table>\n",
       "</div>"
      ],
      "text/plain": [
       "   page_idx  issue_type_idx  action_value\n",
       "0       0.0             1.0      2.166667\n",
       "1       1.0             0.0      1.616000\n",
       "2       0.0             0.0      1.020000\n",
       "3       2.0             0.0      1.000000"
      ]
     },
     "execution_count": 33,
     "metadata": {},
     "output_type": "execute_result"
    }
   ],
   "source": [
    "rank_df = (\n",
    "    pd.DataFrame(data=sorted_actions, columns=[\"page_idx\", \"issue_type_idx\", \"action_value\"])\n",
    "    .sort_values(by=[\"action_value\"], ascending=False)\n",
    "    .reset_index(drop=True)\n",
    ")\n",
    "rank_df"
   ]
  },
  {
   "cell_type": "code",
   "execution_count": 34,
   "id": "815f7653-1bf8-4c3b-a3fe-176459df4418",
   "metadata": {
    "pycharm": {
     "name": "#%%\n"
    }
   },
   "outputs": [],
   "source": [
    "# add the page url and the issue type name\n",
    "\n",
    "\n",
    "# this is how the input is given:\n",
    "page_value = pd.DataFrame(\n",
    "    columns=[\"page\", \"value\"],\n",
    "    data=[\n",
    "        [\"page 1\", 1.0],\n",
    "        [\"page 2\", 1.0],\n",
    "        [\"page 3\", 0.5],\n",
    "        [\"page 4\", 0.5],\n",
    "        [\"page 5\", 0.5],\n",
    "        [\"page 6\", 0.25],\n",
    "        [\"page 7\", 0.25],\n",
    "        [\"page 8\", 0.25],\n",
    "        [\"page 9\", 0.25],\n",
    "        [\"page 10\", 0.25],\n",
    "    ],\n",
    ").set_index(\"page\", drop=True)\n",
    "\n",
    "severity = pd.DataFrame(\n",
    "    columns=[\"issue_type\", \"severity\"],\n",
    "    data=[\n",
    "        [\"broken_image\", 1.0],\n",
    "        [\"missing_alt_tag\", 0.5],\n",
    "        [\"duplicated_content\", 0.25],\n",
    "        [\"other_1\", 0.5],\n",
    "        [\"other_2\", 1.0],\n",
    "    ],\n",
    ").set_index(\"issue_type\", drop=True)"
   ]
  },
  {
   "cell_type": "code",
   "execution_count": 35,
   "id": "1340ee92-1c3f-4708-b4bd-9b42fecf1e4e",
   "metadata": {
    "pycharm": {
     "name": "#%%\n"
    }
   },
   "outputs": [
    {
     "data": {
      "text/html": [
       "<div>\n",
       "<style scoped>\n",
       "    .dataframe tbody tr th:only-of-type {\n",
       "        vertical-align: middle;\n",
       "    }\n",
       "\n",
       "    .dataframe tbody tr th {\n",
       "        vertical-align: top;\n",
       "    }\n",
       "\n",
       "    .dataframe thead th {\n",
       "        text-align: right;\n",
       "    }\n",
       "</style>\n",
       "<table border=\"1\" class=\"dataframe\">\n",
       "  <thead>\n",
       "    <tr style=\"text-align: right;\">\n",
       "      <th></th>\n",
       "      <th>index</th>\n",
       "      <th>page</th>\n",
       "      <th>issue_type</th>\n",
       "      <th>severity</th>\n",
       "      <th>action_value</th>\n",
       "    </tr>\n",
       "  </thead>\n",
       "  <tbody>\n",
       "    <tr>\n",
       "      <th>0</th>\n",
       "      <td>0</td>\n",
       "      <td>page 1</td>\n",
       "      <td>missing_alt_tag</td>\n",
       "      <td>0.5</td>\n",
       "      <td>2.166667</td>\n",
       "    </tr>\n",
       "    <tr>\n",
       "      <th>1</th>\n",
       "      <td>1</td>\n",
       "      <td>page 2</td>\n",
       "      <td>broken_image</td>\n",
       "      <td>1.0</td>\n",
       "      <td>1.616000</td>\n",
       "    </tr>\n",
       "    <tr>\n",
       "      <th>2</th>\n",
       "      <td>2</td>\n",
       "      <td>page 1</td>\n",
       "      <td>broken_image</td>\n",
       "      <td>1.0</td>\n",
       "      <td>1.020000</td>\n",
       "    </tr>\n",
       "    <tr>\n",
       "      <th>3</th>\n",
       "      <td>3</td>\n",
       "      <td>page 3</td>\n",
       "      <td>broken_image</td>\n",
       "      <td>1.0</td>\n",
       "      <td>1.000000</td>\n",
       "    </tr>\n",
       "  </tbody>\n",
       "</table>\n",
       "</div>"
      ],
      "text/plain": [
       "   index    page       issue_type  severity  action_value\n",
       "0      0  page 1  missing_alt_tag       0.5      2.166667\n",
       "1      1  page 2     broken_image       1.0      1.616000\n",
       "2      2  page 1     broken_image       1.0      1.020000\n",
       "3      3  page 3     broken_image       1.0      1.000000"
      ]
     },
     "execution_count": 35,
     "metadata": {},
     "output_type": "execute_result"
    }
   ],
   "source": [
    "# Final dataframe with action ranking information:\n",
    "(\n",
    "    rank_df.merge(page_value.reset_index(drop=False), how=\"left\", left_on=\"page_idx\", right_index=True).merge(\n",
    "        severity.reset_index(drop=False), how=\"left\", left_on=\"issue_type_idx\", right_index=True\n",
    "    )[[\"page\", \"issue_type\", \"severity\", \"action_value\"]]\n",
    ").reset_index()"
   ]
  },
  {
   "cell_type": "code",
   "execution_count": null,
   "id": "f23dbf02",
   "metadata": {
    "pycharm": {
     "name": "#%%\n"
    }
   },
   "outputs": [],
   "source": []
  }
 ],
 "metadata": {
  "kernelspec": {
   "display_name": "Python 3.8.13 ('dst-wux-score-calculator-xSyf1ibx-py3.9')",
   "language": "python",
   "name": "python3"
  },
  "language_info": {
   "codemirror_mode": {
    "name": "ipython",
    "version": 3
   },
   "file_extension": ".py",
   "mimetype": "text/x-python",
   "name": "python",
   "nbconvert_exporter": "python",
   "pygments_lexer": "ipython3",
   "version": "3.8.13"
  },
  "vscode": {
   "interpreter": {
    "hash": "361887bff3924776c319121d955519ba719470914c14ec2b856fcb05e160dabf"
   }
  }
 },
 "nbformat": 4,
 "nbformat_minor": 5
}