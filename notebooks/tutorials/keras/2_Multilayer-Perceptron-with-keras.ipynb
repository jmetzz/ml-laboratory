{
 "cells": [
  {
   "cell_type": "code",
   "execution_count": 18,
   "metadata": {},
   "outputs": [
    {
     "name": "stdout",
     "output_type": "stream",
     "text": [
      "_________________________________________________________________\n",
      "Layer (type)                 Output Shape              Param #   \n",
      "=================================================================\n",
      "flatten_10 (Flatten)         (None, 784)               0         \n",
      "_________________________________________________________________\n",
      "dropout_2 (Dropout)          (None, 784)               0         \n",
      "_________________________________________________________________\n",
      "dense_13 (Dense)             (None, 30)                23550     \n",
      "_________________________________________________________________\n",
      "dropout_3 (Dropout)          (None, 30)                0         \n",
      "_________________________________________________________________\n",
      "dense_14 (Dense)             (None, 10)                310       \n",
      "=================================================================\n",
      "Total params: 23,860\n",
      "Trainable params: 23,860\n",
      "Non-trainable params: 0\n",
      "_________________________________________________________________\n"
     ]
    }
   ],
   "source": [
    "from keras.datasets import mnist\n",
    "from keras.models import Sequential\n",
    "from keras.layers import Dense, Flatten, Dropout\n",
    "from keras.utils import np_utils\n",
    "\n",
    "(X_train, y_train), (X_test, y_test) = mnist.load_data()\n",
    "img_width = X_train.shape[1]\n",
    "img_height = X_train.shape[2]\n",
    "\n",
    "# enconde the output labels: one hot encoding\n",
    "y_train = np_utils.to_categorical(y_train)\n",
    "y_test = np_utils.to_categorical(y_test)\n",
    "num_classes = y_train.shape[1]\n",
    "labels = range(10)\n",
    "\n",
    "# Normalize data since neural nets are not scale invariant\n",
    "X_train = X_train.astype(\"float\") / 255.\n",
    "X_test = X_test.astype(\"float\") / 255.\n",
    "\n",
    "# prepare the model\n",
    "model = Sequential()\n",
    "# flatten the 28x28 image input into a 784x1 input vector\n",
    "hidden_nodes = 30\n",
    "model.add(Flatten(input_shape=(img_width, img_height)))\n",
    "model.add(Dense(hidden_nodes, activation='relu'))\n",
    "# Add Dropout layers between the dense layers to force the NN to learn \n",
    "# different 'paths' to the solution, i.e., different\n",
    "# way to approximate the real function\n",
    "model.add(Dropout(0.5))\n",
    "model.add(Dense(num_classes, activation='softmax'))\n",
    "model.compile(loss='categorical_crossentropy', optimizer='adam', metrics=['accuracy'])\n",
    "model.summary()"
   ]
  },
  {
   "cell_type": "code",
   "execution_count": 19,
   "metadata": {},
   "outputs": [
    {
     "name": "stdout",
     "output_type": "stream",
     "text": [
      "Train on 60000 samples, validate on 10000 samples\n",
      "Epoch 1/10\n",
      "60000/60000 [==============================] - 12s 195us/step - loss: 0.9899 - acc: 0.6693 - val_loss: 0.3655 - val_acc: 0.9055\n",
      "Epoch 2/10\n",
      "60000/60000 [==============================] - 10s 174us/step - loss: 0.7392 - acc: 0.7525 - val_loss: 0.3183 - val_acc: 0.9162\n",
      "Epoch 3/10\n",
      "60000/60000 [==============================] - 11s 180us/step - loss: 0.6843 - acc: 0.7699 - val_loss: 0.2905 - val_acc: 0.9218\n",
      "Epoch 4/10\n",
      "60000/60000 [==============================] - 11s 181us/step - loss: 0.6599 - acc: 0.7791 - val_loss: 0.2687 - val_acc: 0.9266\n",
      "Epoch 5/10\n",
      "60000/60000 [==============================] - 11s 179us/step - loss: 0.6438 - acc: 0.7840 - val_loss: 0.2598 - val_acc: 0.9289\n",
      "Epoch 6/10\n",
      "60000/60000 [==============================] - 11s 181us/step - loss: 0.6364 - acc: 0.7863 - val_loss: 0.2548 - val_acc: 0.9306\n",
      "Epoch 7/10\n",
      "60000/60000 [==============================] - 11s 181us/step - loss: 0.6296 - acc: 0.7865 - val_loss: 0.2559 - val_acc: 0.9294\n",
      "Epoch 8/10\n",
      "60000/60000 [==============================] - 11s 187us/step - loss: 0.6241 - acc: 0.7902 - val_loss: 0.2506 - val_acc: 0.9327\n",
      "Epoch 9/10\n",
      "60000/60000 [==============================] - 11s 188us/step - loss: 0.6177 - acc: 0.7925 - val_loss: 0.2451 - val_acc: 0.9310\n",
      "Epoch 10/10\n",
      "60000/60000 [==============================] - 11s 188us/step - loss: 0.6208 - acc: 0.7912 - val_loss: 0.2416 - val_acc: 0.9336\n"
     ]
    },
    {
     "data": {
      "text/plain": [
       "<keras.callbacks.History at 0x668295080>"
      ]
     },
     "execution_count": 19,
     "metadata": {},
     "output_type": "execute_result"
    }
   ],
   "source": [
    "# Fit the model\n",
    "model.fit(X_train, y_train, epochs=10, validation_data=(X_test, y_test))"
   ]
  },
  {
   "cell_type": "code",
   "execution_count": null,
   "metadata": {},
   "outputs": [],
   "source": []
  }
 ],
 "metadata": {
  "kernelspec": {
   "display_name": "Python [conda env:ml-laboratory] *",
   "language": "python",
   "name": "conda-env-ml-laboratory-py"
  },
  "language_info": {
   "codemirror_mode": {
    "name": "ipython",
    "version": 3
   },
   "file_extension": ".py",
   "mimetype": "text/x-python",
   "name": "python",
   "nbconvert_exporter": "python",
   "pygments_lexer": "ipython3",
   "version": "3.7.4"
  }
 },
 "nbformat": 4,
 "nbformat_minor": 2
}
