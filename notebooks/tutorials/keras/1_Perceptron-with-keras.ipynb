{
 "cells": [
  {
   "cell_type": "code",
   "execution_count": 9,
   "metadata": {},
   "outputs": [],
   "source": [
    "from keras.datasets import mnist\n",
    "from keras.models import Sequential\n",
    "from keras.layers import Dense, Flatten, Dropout\n",
    "from keras.utils import np_utils\n",
    "\n",
    "\n",
    "(X_train, y_train), (X_test, y_test) = mnist.load_data()\n",
    "\n",
    "# Create a new label vector to keep track of which\n",
    "# input images is a 5\n",
    "is_five_train = y_train == 5\n",
    "is_five_test = y_test == 5\n",
    "\n",
    "img_width = X_train.shape[1]\n",
    "img_height = X_train.shape[2]\n",
    "\n",
    "# prepare the model\n",
    "model = Sequential()\n",
    "# flatten the 28x28 image input into a 784x1 input vector\n",
    "model.add(Flatten(input_shape=(img_width, img_height)))\n",
    "# adds a single perceptron to the network. \n",
    "# This is a dense layer because every input is\n",
    "# connected to every output. I this case we have only 1 output\n",
    "# which indicates whether the input image is a '5' or not.\n",
    "# Thus, a output value of 0 (zero) means the input image is not a '5',\n",
    "# while a output value of 1 means it is a '5' digit.\n",
    "model.add(Dense(1, activation='sigmoid'))\n",
    "model.compile(loss='mse', optimizer='adam', metrics=['accuracy'])\n"
   ]
  },
  {
   "cell_type": "code",
   "execution_count": 10,
   "metadata": {},
   "outputs": [
    {
     "name": "stdout",
     "output_type": "stream",
     "text": [
      "Train on 60000 samples, validate on 10000 samples\n",
      "Epoch 1/10\n",
      "60000/60000 [==============================] - 3s 56us/step - loss: 0.0858 - acc: 0.9140 - val_loss: 0.0734 - val_acc: 0.9265\n",
      "Epoch 2/10\n",
      "60000/60000 [==============================] - 3s 48us/step - loss: 0.0686 - acc: 0.9313 - val_loss: 0.0525 - val_acc: 0.9473\n",
      "Epoch 3/10\n",
      "60000/60000 [==============================] - 3s 45us/step - loss: 0.0573 - acc: 0.9425 - val_loss: 0.0578 - val_acc: 0.9418\n",
      "Epoch 4/10\n",
      "60000/60000 [==============================] - 3s 48us/step - loss: 0.0507 - acc: 0.9492 - val_loss: 0.0443 - val_acc: 0.9556\n",
      "Epoch 5/10\n",
      "60000/60000 [==============================] - 3s 48us/step - loss: 0.0433 - acc: 0.9566 - val_loss: 0.0363 - val_acc: 0.9636\n",
      "Epoch 6/10\n",
      "60000/60000 [==============================] - 3s 48us/step - loss: 0.0413 - acc: 0.9586 - val_loss: 0.0373 - val_acc: 0.9627\n",
      "Epoch 7/10\n",
      "60000/60000 [==============================] - 3s 49us/step - loss: 0.0410 - acc: 0.9589 - val_loss: 0.0383 - val_acc: 0.9616\n",
      "Epoch 8/10\n",
      "60000/60000 [==============================] - 3s 49us/step - loss: 0.0394 - acc: 0.9605 - val_loss: 0.0354 - val_acc: 0.9645\n",
      "Epoch 9/10\n",
      "60000/60000 [==============================] - 3s 50us/step - loss: 0.0392 - acc: 0.9607 - val_loss: 0.0341 - val_acc: 0.9658\n",
      "Epoch 10/10\n",
      "60000/60000 [==============================] - 3s 48us/step - loss: 0.0377 - acc: 0.9622 - val_loss: 0.0319 - val_acc: 0.9680\n"
     ]
    },
    {
     "data": {
      "text/plain": [
       "<keras.callbacks.History at 0x64d42ec18>"
      ]
     },
     "execution_count": 10,
     "metadata": {},
     "output_type": "execute_result"
    }
   ],
   "source": [
    "# Fit the model\n",
    "model.fit(X_train, is_five_train, epochs=10, validation_data=(X_test, is_five_test))"
   ]
  },
  {
   "cell_type": "code",
   "execution_count": null,
   "metadata": {},
   "outputs": [],
   "source": []
  }
 ],
 "metadata": {
  "kernelspec": {
   "display_name": "Python [conda env:ml-laboratory] *",
   "language": "python",
   "name": "conda-env-ml-laboratory-py"
  },
  "language_info": {
   "codemirror_mode": {
    "name": "ipython",
    "version": 3
   },
   "file_extension": ".py",
   "mimetype": "text/x-python",
   "name": "python",
   "nbconvert_exporter": "python",
   "pygments_lexer": "ipython3",
   "version": "3.7.3"
  }
 },
 "nbformat": 4,
 "nbformat_minor": 2
}
