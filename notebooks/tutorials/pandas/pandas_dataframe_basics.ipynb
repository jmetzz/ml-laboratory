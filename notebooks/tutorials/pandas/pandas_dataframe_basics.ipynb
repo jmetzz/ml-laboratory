{
 "cells": [
  {
   "cell_type": "markdown",
   "metadata": {},
   "source": [
    "# Introduction to Series and Dataframes\n",
    "\n",
    "Series and dataframes form the core data model for Pandas in Python.\n",
    "\n",
    "Series can be understood as a 1 dimensional labelled/indexed array, from which you can access individual elements by using labels.\n",
    "\n",
    "In a datafame on the other hand, a part from row numbers you will also find column names, both useful to access data obviously. The column names and row numbers are known as column and row index.\n",
    "\n",
    "Next let's see some basic cond on how to use these two core elements.\n"
   ]
  },
  {
   "cell_type": "code",
   "execution_count": 1,
   "metadata": {},
   "outputs": [],
   "source": [
    "# start by importing some libraries that we will use\n",
    "import pandas as pd\n",
    "import numpy as np\n",
    "import matplotlib.pyplot as plt\n",
    "import random\n",
    "\n",
    "# to be able to reproduce the same results on every run \n",
    "# let's already generate the random seed\n",
    "np.random.seed(444)"
   ]
  },
  {
   "cell_type": "markdown",
   "metadata": {},
   "source": [
    "## Series\n",
    "TODO"
   ]
  },
  {
   "cell_type": "markdown",
   "metadata": {},
   "source": [
    "## Dataframe\n",
    "\n",
    "\n",
    "Generate a data frame with 100 elements, with 4 columns and random values. "
   ]
  },
  {
   "cell_type": "code",
   "execution_count": 3,
   "metadata": {},
   "outputs": [],
   "source": [
    "df = pd.DataFrame(np.random.randn(100,4), index=range(0,100), columns=list('ABCD'))"
   ]
  },
  {
   "cell_type": "markdown",
   "metadata": {},
   "source": [
    "\n",
    "\n",
    "Check the first elements in the dataframe"
   ]
  },
  {
   "cell_type": "code",
   "execution_count": 4,
   "metadata": {},
   "outputs": [
    {
     "data": {
      "text/html": [
       "<div>\n",
       "<style scoped>\n",
       "    .dataframe tbody tr th:only-of-type {\n",
       "        vertical-align: middle;\n",
       "    }\n",
       "\n",
       "    .dataframe tbody tr th {\n",
       "        vertical-align: top;\n",
       "    }\n",
       "\n",
       "    .dataframe thead th {\n",
       "        text-align: right;\n",
       "    }\n",
       "</style>\n",
       "<table border=\"1\" class=\"dataframe\">\n",
       "  <thead>\n",
       "    <tr style=\"text-align: right;\">\n",
       "      <th></th>\n",
       "      <th>A</th>\n",
       "      <th>B</th>\n",
       "      <th>C</th>\n",
       "      <th>D</th>\n",
       "    </tr>\n",
       "  </thead>\n",
       "  <tbody>\n",
       "    <tr>\n",
       "      <th>0</th>\n",
       "      <td>0.259463</td>\n",
       "      <td>-0.768150</td>\n",
       "      <td>-0.237166</td>\n",
       "      <td>-0.576089</td>\n",
       "    </tr>\n",
       "    <tr>\n",
       "      <th>1</th>\n",
       "      <td>2.232987</td>\n",
       "      <td>0.863337</td>\n",
       "      <td>-1.226688</td>\n",
       "      <td>0.132381</td>\n",
       "    </tr>\n",
       "    <tr>\n",
       "      <th>2</th>\n",
       "      <td>-1.474114</td>\n",
       "      <td>1.044215</td>\n",
       "      <td>0.366803</td>\n",
       "      <td>0.878836</td>\n",
       "    </tr>\n",
       "    <tr>\n",
       "      <th>3</th>\n",
       "      <td>-0.817520</td>\n",
       "      <td>-0.140514</td>\n",
       "      <td>0.877222</td>\n",
       "      <td>-0.363676</td>\n",
       "    </tr>\n",
       "    <tr>\n",
       "      <th>4</th>\n",
       "      <td>-0.392995</td>\n",
       "      <td>-1.769035</td>\n",
       "      <td>0.305524</td>\n",
       "      <td>0.741395</td>\n",
       "    </tr>\n",
       "  </tbody>\n",
       "</table>\n",
       "</div>"
      ],
      "text/plain": [
       "          A         B         C         D\n",
       "0  0.259463 -0.768150 -0.237166 -0.576089\n",
       "1  2.232987  0.863337 -1.226688  0.132381\n",
       "2 -1.474114  1.044215  0.366803  0.878836\n",
       "3 -0.817520 -0.140514  0.877222 -0.363676\n",
       "4 -0.392995 -1.769035  0.305524  0.741395"
      ]
     },
     "execution_count": 4,
     "metadata": {},
     "output_type": "execute_result"
    }
   ],
   "source": [
    "df.head()"
   ]
  },
  {
   "cell_type": "markdown",
   "metadata": {},
   "source": [
    "\n",
    "\n",
    "Get some information about the data frame"
   ]
  },
  {
   "cell_type": "code",
   "execution_count": 7,
   "metadata": {},
   "outputs": [
    {
     "data": {
      "text/html": [
       "<div>\n",
       "<style scoped>\n",
       "    .dataframe tbody tr th:only-of-type {\n",
       "        vertical-align: middle;\n",
       "    }\n",
       "\n",
       "    .dataframe tbody tr th {\n",
       "        vertical-align: top;\n",
       "    }\n",
       "\n",
       "    .dataframe thead th {\n",
       "        text-align: right;\n",
       "    }\n",
       "</style>\n",
       "<table border=\"1\" class=\"dataframe\">\n",
       "  <thead>\n",
       "    <tr style=\"text-align: right;\">\n",
       "      <th></th>\n",
       "      <th>A</th>\n",
       "      <th>B</th>\n",
       "      <th>C</th>\n",
       "      <th>D</th>\n",
       "    </tr>\n",
       "  </thead>\n",
       "  <tbody>\n",
       "    <tr>\n",
       "      <th>count</th>\n",
       "      <td>100.000000</td>\n",
       "      <td>100.000000</td>\n",
       "      <td>100.000000</td>\n",
       "      <td>100.000000</td>\n",
       "    </tr>\n",
       "    <tr>\n",
       "      <th>mean</th>\n",
       "      <td>0.085697</td>\n",
       "      <td>-0.131478</td>\n",
       "      <td>0.002769</td>\n",
       "      <td>0.034910</td>\n",
       "    </tr>\n",
       "    <tr>\n",
       "      <th>std</th>\n",
       "      <td>0.929541</td>\n",
       "      <td>0.967059</td>\n",
       "      <td>0.895199</td>\n",
       "      <td>0.987448</td>\n",
       "    </tr>\n",
       "    <tr>\n",
       "      <th>min</th>\n",
       "      <td>-2.288417</td>\n",
       "      <td>-2.311221</td>\n",
       "      <td>-2.680823</td>\n",
       "      <td>-2.813833</td>\n",
       "    </tr>\n",
       "    <tr>\n",
       "      <th>25%</th>\n",
       "      <td>-0.567069</td>\n",
       "      <td>-0.780907</td>\n",
       "      <td>-0.534954</td>\n",
       "      <td>-0.590682</td>\n",
       "    </tr>\n",
       "    <tr>\n",
       "      <th>50%</th>\n",
       "      <td>0.035131</td>\n",
       "      <td>-0.260671</td>\n",
       "      <td>-0.112074</td>\n",
       "      <td>0.143199</td>\n",
       "    </tr>\n",
       "    <tr>\n",
       "      <th>75%</th>\n",
       "      <td>0.659350</td>\n",
       "      <td>0.632716</td>\n",
       "      <td>0.544566</td>\n",
       "      <td>0.697557</td>\n",
       "    </tr>\n",
       "    <tr>\n",
       "      <th>max</th>\n",
       "      <td>2.232987</td>\n",
       "      <td>2.450628</td>\n",
       "      <td>2.585608</td>\n",
       "      <td>2.231662</td>\n",
       "    </tr>\n",
       "  </tbody>\n",
       "</table>\n",
       "</div>"
      ],
      "text/plain": [
       "                A           B           C           D\n",
       "count  100.000000  100.000000  100.000000  100.000000\n",
       "mean     0.085697   -0.131478    0.002769    0.034910\n",
       "std      0.929541    0.967059    0.895199    0.987448\n",
       "min     -2.288417   -2.311221   -2.680823   -2.813833\n",
       "25%     -0.567069   -0.780907   -0.534954   -0.590682\n",
       "50%      0.035131   -0.260671   -0.112074    0.143199\n",
       "75%      0.659350    0.632716    0.544566    0.697557\n",
       "max      2.232987    2.450628    2.585608    2.231662"
      ]
     },
     "execution_count": 7,
     "metadata": {},
     "output_type": "execute_result"
    }
   ],
   "source": [
    "df.describe()"
   ]
  },
  {
   "cell_type": "markdown",
   "metadata": {},
   "source": [
    "Transpose the data frame: "
   ]
  },
  {
   "cell_type": "code",
   "execution_count": 9,
   "metadata": {},
   "outputs": [
    {
     "data": {
      "text/html": [
       "<div>\n",
       "<style scoped>\n",
       "    .dataframe tbody tr th:only-of-type {\n",
       "        vertical-align: middle;\n",
       "    }\n",
       "\n",
       "    .dataframe tbody tr th {\n",
       "        vertical-align: top;\n",
       "    }\n",
       "\n",
       "    .dataframe thead th {\n",
       "        text-align: right;\n",
       "    }\n",
       "</style>\n",
       "<table border=\"1\" class=\"dataframe\">\n",
       "  <thead>\n",
       "    <tr style=\"text-align: right;\">\n",
       "      <th></th>\n",
       "      <th>0</th>\n",
       "      <th>1</th>\n",
       "      <th>2</th>\n",
       "      <th>3</th>\n",
       "      <th>4</th>\n",
       "      <th>5</th>\n",
       "      <th>6</th>\n",
       "      <th>7</th>\n",
       "      <th>8</th>\n",
       "      <th>9</th>\n",
       "      <th>...</th>\n",
       "      <th>90</th>\n",
       "      <th>91</th>\n",
       "      <th>92</th>\n",
       "      <th>93</th>\n",
       "      <th>94</th>\n",
       "      <th>95</th>\n",
       "      <th>96</th>\n",
       "      <th>97</th>\n",
       "      <th>98</th>\n",
       "      <th>99</th>\n",
       "    </tr>\n",
       "  </thead>\n",
       "  <tbody>\n",
       "    <tr>\n",
       "      <th>A</th>\n",
       "      <td>0.259463</td>\n",
       "      <td>2.232987</td>\n",
       "      <td>-1.474114</td>\n",
       "      <td>-0.817520</td>\n",
       "      <td>-0.392995</td>\n",
       "      <td>-0.519777</td>\n",
       "      <td>-0.412201</td>\n",
       "      <td>-0.756897</td>\n",
       "      <td>-0.282959</td>\n",
       "      <td>1.919759</td>\n",
       "      <td>...</td>\n",
       "      <td>-0.024338</td>\n",
       "      <td>1.637759</td>\n",
       "      <td>0.036565</td>\n",
       "      <td>1.054217</td>\n",
       "      <td>-1.666904</td>\n",
       "      <td>-0.833545</td>\n",
       "      <td>-0.465637</td>\n",
       "      <td>0.380157</td>\n",
       "      <td>-0.614390</td>\n",
       "      <td>-0.113489</td>\n",
       "    </tr>\n",
       "    <tr>\n",
       "      <th>B</th>\n",
       "      <td>-0.768150</td>\n",
       "      <td>0.863337</td>\n",
       "      <td>1.044215</td>\n",
       "      <td>-0.140514</td>\n",
       "      <td>-1.769035</td>\n",
       "      <td>-0.774511</td>\n",
       "      <td>1.119600</td>\n",
       "      <td>-0.775044</td>\n",
       "      <td>0.028724</td>\n",
       "      <td>0.032605</td>\n",
       "      <td>...</td>\n",
       "      <td>-1.191758</td>\n",
       "      <td>-0.328582</td>\n",
       "      <td>-0.798496</td>\n",
       "      <td>-0.094710</td>\n",
       "      <td>-2.311221</td>\n",
       "      <td>-1.259292</td>\n",
       "      <td>0.703162</td>\n",
       "      <td>-0.509920</td>\n",
       "      <td>-1.488922</td>\n",
       "      <td>1.257507</td>\n",
       "    </tr>\n",
       "    <tr>\n",
       "      <th>C</th>\n",
       "      <td>-0.237166</td>\n",
       "      <td>-1.226688</td>\n",
       "      <td>0.366803</td>\n",
       "      <td>0.877222</td>\n",
       "      <td>0.305524</td>\n",
       "      <td>-0.424556</td>\n",
       "      <td>-2.680823</td>\n",
       "      <td>0.458086</td>\n",
       "      <td>-1.023141</td>\n",
       "      <td>-0.324479</td>\n",
       "      <td>...</td>\n",
       "      <td>1.058548</td>\n",
       "      <td>0.062361</td>\n",
       "      <td>-1.806431</td>\n",
       "      <td>-0.521547</td>\n",
       "      <td>0.561339</td>\n",
       "      <td>-1.224751</td>\n",
       "      <td>-0.403140</td>\n",
       "      <td>1.100611</td>\n",
       "      <td>1.296246</td>\n",
       "      <td>-0.552464</td>\n",
       "    </tr>\n",
       "    <tr>\n",
       "      <th>D</th>\n",
       "      <td>-0.576089</td>\n",
       "      <td>0.132381</td>\n",
       "      <td>0.878836</td>\n",
       "      <td>-0.363676</td>\n",
       "      <td>0.741395</td>\n",
       "      <td>1.364777</td>\n",
       "      <td>-1.353985</td>\n",
       "      <td>-1.202699</td>\n",
       "      <td>-0.663168</td>\n",
       "      <td>0.635524</td>\n",
       "      <td>...</td>\n",
       "      <td>0.768202</td>\n",
       "      <td>-0.324511</td>\n",
       "      <td>0.079605</td>\n",
       "      <td>0.673846</td>\n",
       "      <td>0.854200</td>\n",
       "      <td>0.634714</td>\n",
       "      <td>0.089084</td>\n",
       "      <td>-0.028671</td>\n",
       "      <td>-0.577689</td>\n",
       "      <td>0.947056</td>\n",
       "    </tr>\n",
       "  </tbody>\n",
       "</table>\n",
       "<p>4 rows × 100 columns</p>\n",
       "</div>"
      ],
      "text/plain": [
       "         0         1         2         3         4         5         6   \\\n",
       "A  0.259463  2.232987 -1.474114 -0.817520 -0.392995 -0.519777 -0.412201   \n",
       "B -0.768150  0.863337  1.044215 -0.140514 -1.769035 -0.774511  1.119600   \n",
       "C -0.237166 -1.226688  0.366803  0.877222  0.305524 -0.424556 -2.680823   \n",
       "D -0.576089  0.132381  0.878836 -0.363676  0.741395  1.364777 -1.353985   \n",
       "\n",
       "         7         8         9     ...           90        91        92  \\\n",
       "A -0.756897 -0.282959  1.919759    ...    -0.024338  1.637759  0.036565   \n",
       "B -0.775044  0.028724  0.032605    ...    -1.191758 -0.328582 -0.798496   \n",
       "C  0.458086 -1.023141 -0.324479    ...     1.058548  0.062361 -1.806431   \n",
       "D -1.202699 -0.663168  0.635524    ...     0.768202 -0.324511  0.079605   \n",
       "\n",
       "         93        94        95        96        97        98        99  \n",
       "A  1.054217 -1.666904 -0.833545 -0.465637  0.380157 -0.614390 -0.113489  \n",
       "B -0.094710 -2.311221 -1.259292  0.703162 -0.509920 -1.488922  1.257507  \n",
       "C -0.521547  0.561339 -1.224751 -0.403140  1.100611  1.296246 -0.552464  \n",
       "D  0.673846  0.854200  0.634714  0.089084 -0.028671 -0.577689  0.947056  \n",
       "\n",
       "[4 rows x 100 columns]"
      ]
     },
     "execution_count": 9,
     "metadata": {},
     "output_type": "execute_result"
    }
   ],
   "source": [
    "df.T"
   ]
  },
  {
   "cell_type": "markdown",
   "metadata": {},
   "source": [
    "Sort by an specific column. Show only the initial 20 lines."
   ]
  },
  {
   "cell_type": "code",
   "execution_count": 54,
   "metadata": {},
   "outputs": [
    {
     "data": {
      "text/html": [
       "<div>\n",
       "<style scoped>\n",
       "    .dataframe tbody tr th:only-of-type {\n",
       "        vertical-align: middle;\n",
       "    }\n",
       "\n",
       "    .dataframe tbody tr th {\n",
       "        vertical-align: top;\n",
       "    }\n",
       "\n",
       "    .dataframe thead th {\n",
       "        text-align: right;\n",
       "    }\n",
       "</style>\n",
       "<table border=\"1\" class=\"dataframe\">\n",
       "  <thead>\n",
       "    <tr style=\"text-align: right;\">\n",
       "      <th></th>\n",
       "      <th>A</th>\n",
       "      <th>B</th>\n",
       "      <th>C</th>\n",
       "      <th>D</th>\n",
       "    </tr>\n",
       "  </thead>\n",
       "  <tbody>\n",
       "    <tr>\n",
       "      <th>78</th>\n",
       "      <td>0.457271</td>\n",
       "      <td>0.882462</td>\n",
       "      <td>-0.518322</td>\n",
       "      <td>-2.319521</td>\n",
       "    </tr>\n",
       "    <tr>\n",
       "      <th>44</th>\n",
       "      <td>0.881242</td>\n",
       "      <td>-0.929297</td>\n",
       "      <td>0.031123</td>\n",
       "      <td>-2.254013</td>\n",
       "    </tr>\n",
       "    <tr>\n",
       "      <th>50</th>\n",
       "      <td>-0.135072</td>\n",
       "      <td>-0.405044</td>\n",
       "      <td>1.140042</td>\n",
       "      <td>-2.073329</td>\n",
       "    </tr>\n",
       "    <tr>\n",
       "      <th>28</th>\n",
       "      <td>-0.899674</td>\n",
       "      <td>-1.764727</td>\n",
       "      <td>-0.010169</td>\n",
       "      <td>-1.656391</td>\n",
       "    </tr>\n",
       "    <tr>\n",
       "      <th>42</th>\n",
       "      <td>0.618962</td>\n",
       "      <td>0.408864</td>\n",
       "      <td>-0.900704</td>\n",
       "      <td>-1.565245</td>\n",
       "    </tr>\n",
       "    <tr>\n",
       "      <th>53</th>\n",
       "      <td>-0.769606</td>\n",
       "      <td>-0.312766</td>\n",
       "      <td>-0.114025</td>\n",
       "      <td>-1.537032</td>\n",
       "    </tr>\n",
       "    <tr>\n",
       "      <th>55</th>\n",
       "      <td>-0.811385</td>\n",
       "      <td>-0.096116</td>\n",
       "      <td>2.585608</td>\n",
       "      <td>-1.378636</td>\n",
       "    </tr>\n",
       "    <tr>\n",
       "      <th>6</th>\n",
       "      <td>-0.412201</td>\n",
       "      <td>1.119600</td>\n",
       "      <td>-2.680823</td>\n",
       "      <td>-1.353985</td>\n",
       "    </tr>\n",
       "    <tr>\n",
       "      <th>71</th>\n",
       "      <td>-0.328660</td>\n",
       "      <td>1.656522</td>\n",
       "      <td>-1.028770</td>\n",
       "      <td>-1.315729</td>\n",
       "    </tr>\n",
       "    <tr>\n",
       "      <th>19</th>\n",
       "      <td>0.090122</td>\n",
       "      <td>1.003127</td>\n",
       "      <td>-0.706888</td>\n",
       "      <td>-1.207966</td>\n",
       "    </tr>\n",
       "    <tr>\n",
       "      <th>7</th>\n",
       "      <td>-0.756897</td>\n",
       "      <td>-0.775044</td>\n",
       "      <td>0.458086</td>\n",
       "      <td>-1.202699</td>\n",
       "    </tr>\n",
       "    <tr>\n",
       "      <th>87</th>\n",
       "      <td>-1.417817</td>\n",
       "      <td>-0.281272</td>\n",
       "      <td>-0.375369</td>\n",
       "      <td>-1.075449</td>\n",
       "    </tr>\n",
       "    <tr>\n",
       "      <th>56</th>\n",
       "      <td>1.612203</td>\n",
       "      <td>0.853195</td>\n",
       "      <td>-0.481952</td>\n",
       "      <td>-1.072742</td>\n",
       "    </tr>\n",
       "    <tr>\n",
       "      <th>33</th>\n",
       "      <td>0.763876</td>\n",
       "      <td>-0.610344</td>\n",
       "      <td>-0.679262</td>\n",
       "      <td>-0.982993</td>\n",
       "    </tr>\n",
       "    <tr>\n",
       "      <th>37</th>\n",
       "      <td>0.075065</td>\n",
       "      <td>0.343944</td>\n",
       "      <td>0.806401</td>\n",
       "      <td>-0.966846</td>\n",
       "    </tr>\n",
       "    <tr>\n",
       "      <th>69</th>\n",
       "      <td>1.502970</td>\n",
       "      <td>1.362332</td>\n",
       "      <td>0.795554</td>\n",
       "      <td>-0.885066</td>\n",
       "    </tr>\n",
       "    <tr>\n",
       "      <th>72</th>\n",
       "      <td>-0.042452</td>\n",
       "      <td>0.658486</td>\n",
       "      <td>2.024898</td>\n",
       "      <td>-0.869977</td>\n",
       "    </tr>\n",
       "    <tr>\n",
       "      <th>58</th>\n",
       "      <td>1.494543</td>\n",
       "      <td>0.624126</td>\n",
       "      <td>1.722618</td>\n",
       "      <td>-0.681817</td>\n",
       "    </tr>\n",
       "    <tr>\n",
       "      <th>32</th>\n",
       "      <td>-0.372508</td>\n",
       "      <td>0.018144</td>\n",
       "      <td>-0.410490</td>\n",
       "      <td>-0.673535</td>\n",
       "    </tr>\n",
       "  </tbody>\n",
       "</table>\n",
       "</div>"
      ],
      "text/plain": [
       "           A         B         C         D\n",
       "78  0.457271  0.882462 -0.518322 -2.319521\n",
       "44  0.881242 -0.929297  0.031123 -2.254013\n",
       "50 -0.135072 -0.405044  1.140042 -2.073329\n",
       "28 -0.899674 -1.764727 -0.010169 -1.656391\n",
       "42  0.618962  0.408864 -0.900704 -1.565245\n",
       "53 -0.769606 -0.312766 -0.114025 -1.537032\n",
       "55 -0.811385 -0.096116  2.585608 -1.378636\n",
       "6  -0.412201  1.119600 -2.680823 -1.353985\n",
       "71 -0.328660  1.656522 -1.028770 -1.315729\n",
       "19  0.090122  1.003127 -0.706888 -1.207966\n",
       "7  -0.756897 -0.775044  0.458086 -1.202699\n",
       "87 -1.417817 -0.281272 -0.375369 -1.075449\n",
       "56  1.612203  0.853195 -0.481952 -1.072742\n",
       "33  0.763876 -0.610344 -0.679262 -0.982993\n",
       "37  0.075065  0.343944  0.806401 -0.966846\n",
       "69  1.502970  1.362332  0.795554 -0.885066\n",
       "72 -0.042452  0.658486  2.024898 -0.869977\n",
       "58  1.494543  0.624126  1.722618 -0.681817\n",
       "32 -0.372508  0.018144 -0.410490 -0.673535"
      ]
     },
     "execution_count": 54,
     "metadata": {},
     "output_type": "execute_result"
    }
   ],
   "source": [
    "df.sort_values(by='D')[1:20]"
   ]
  },
  {
   "cell_type": "markdown",
   "metadata": {},
   "source": [
    "Sorting by axis; axis=0 means line index, while axis=1 means column index."
   ]
  },
  {
   "cell_type": "code",
   "execution_count": 55,
   "metadata": {},
   "outputs": [
    {
     "data": {
      "text/html": [
       "<div>\n",
       "<style scoped>\n",
       "    .dataframe tbody tr th:only-of-type {\n",
       "        vertical-align: middle;\n",
       "    }\n",
       "\n",
       "    .dataframe tbody tr th {\n",
       "        vertical-align: top;\n",
       "    }\n",
       "\n",
       "    .dataframe thead th {\n",
       "        text-align: right;\n",
       "    }\n",
       "</style>\n",
       "<table border=\"1\" class=\"dataframe\">\n",
       "  <thead>\n",
       "    <tr style=\"text-align: right;\">\n",
       "      <th></th>\n",
       "      <th>D</th>\n",
       "      <th>C</th>\n",
       "      <th>B</th>\n",
       "      <th>A</th>\n",
       "    </tr>\n",
       "  </thead>\n",
       "  <tbody>\n",
       "    <tr>\n",
       "      <th>0</th>\n",
       "      <td>-0.576089</td>\n",
       "      <td>-0.237166</td>\n",
       "      <td>-0.768150</td>\n",
       "      <td>0.259463</td>\n",
       "    </tr>\n",
       "    <tr>\n",
       "      <th>1</th>\n",
       "      <td>0.132381</td>\n",
       "      <td>-1.226688</td>\n",
       "      <td>0.863337</td>\n",
       "      <td>2.232987</td>\n",
       "    </tr>\n",
       "    <tr>\n",
       "      <th>2</th>\n",
       "      <td>0.878836</td>\n",
       "      <td>0.366803</td>\n",
       "      <td>1.044215</td>\n",
       "      <td>-1.474114</td>\n",
       "    </tr>\n",
       "    <tr>\n",
       "      <th>3</th>\n",
       "      <td>-0.363676</td>\n",
       "      <td>0.877222</td>\n",
       "      <td>-0.140514</td>\n",
       "      <td>-0.817520</td>\n",
       "    </tr>\n",
       "    <tr>\n",
       "      <th>4</th>\n",
       "      <td>0.741395</td>\n",
       "      <td>0.305524</td>\n",
       "      <td>-1.769035</td>\n",
       "      <td>-0.392995</td>\n",
       "    </tr>\n",
       "  </tbody>\n",
       "</table>\n",
       "</div>"
      ],
      "text/plain": [
       "          D         C         B         A\n",
       "0 -0.576089 -0.237166 -0.768150  0.259463\n",
       "1  0.132381 -1.226688  0.863337  2.232987\n",
       "2  0.878836  0.366803  1.044215 -1.474114\n",
       "3 -0.363676  0.877222 -0.140514 -0.817520\n",
       "4  0.741395  0.305524 -1.769035 -0.392995"
      ]
     },
     "execution_count": 55,
     "metadata": {},
     "output_type": "execute_result"
    }
   ],
   "source": [
    "df.sort_index(axis=1, ascending=False).head()"
   ]
  },
  {
   "cell_type": "markdown",
   "metadata": {},
   "source": [
    "You can also use `loc` and `iloc` to perform just about any data selection operation. `loc` is label-based, which means that you have to specify rows and columns based on their row and column labels. `iloc` is integer index based, so you have to specify rows and columns by their integer index like you did in the previous exercise.\n",
    "\n",
    "Select only the first lines and columns `A` and `C`:"
   ]
  },
  {
   "cell_type": "code",
   "execution_count": 78,
   "metadata": {},
   "outputs": [
    {
     "data": {
      "text/html": [
       "<div>\n",
       "<style scoped>\n",
       "    .dataframe tbody tr th:only-of-type {\n",
       "        vertical-align: middle;\n",
       "    }\n",
       "\n",
       "    .dataframe tbody tr th {\n",
       "        vertical-align: top;\n",
       "    }\n",
       "\n",
       "    .dataframe thead th {\n",
       "        text-align: right;\n",
       "    }\n",
       "</style>\n",
       "<table border=\"1\" class=\"dataframe\">\n",
       "  <thead>\n",
       "    <tr style=\"text-align: right;\">\n",
       "      <th></th>\n",
       "      <th>A</th>\n",
       "      <th>C</th>\n",
       "    </tr>\n",
       "  </thead>\n",
       "  <tbody>\n",
       "    <tr>\n",
       "      <th>0</th>\n",
       "      <td>0.259463</td>\n",
       "      <td>-0.237166</td>\n",
       "    </tr>\n",
       "    <tr>\n",
       "      <th>1</th>\n",
       "      <td>2.232987</td>\n",
       "      <td>-1.226688</td>\n",
       "    </tr>\n",
       "    <tr>\n",
       "      <th>2</th>\n",
       "      <td>-1.474114</td>\n",
       "      <td>0.366803</td>\n",
       "    </tr>\n",
       "    <tr>\n",
       "      <th>3</th>\n",
       "      <td>-0.817520</td>\n",
       "      <td>0.877222</td>\n",
       "    </tr>\n",
       "    <tr>\n",
       "      <th>4</th>\n",
       "      <td>-0.392995</td>\n",
       "      <td>0.305524</td>\n",
       "    </tr>\n",
       "  </tbody>\n",
       "</table>\n",
       "</div>"
      ],
      "text/plain": [
       "          A         C\n",
       "0  0.259463 -0.237166\n",
       "1  2.232987 -1.226688\n",
       "2 -1.474114  0.366803\n",
       "3 -0.817520  0.877222\n",
       "4 -0.392995  0.305524"
      ]
     },
     "execution_count": 78,
     "metadata": {},
     "output_type": "execute_result"
    }
   ],
   "source": [
    "df.loc[:, ['A', 'C']].head()"
   ]
  },
  {
   "cell_type": "markdown",
   "metadata": {},
   "source": [
    "The same result but now using `iloc`:"
   ]
  },
  {
   "cell_type": "code",
   "execution_count": 79,
   "metadata": {},
   "outputs": [
    {
     "data": {
      "text/html": [
       "<div>\n",
       "<style scoped>\n",
       "    .dataframe tbody tr th:only-of-type {\n",
       "        vertical-align: middle;\n",
       "    }\n",
       "\n",
       "    .dataframe tbody tr th {\n",
       "        vertical-align: top;\n",
       "    }\n",
       "\n",
       "    .dataframe thead th {\n",
       "        text-align: right;\n",
       "    }\n",
       "</style>\n",
       "<table border=\"1\" class=\"dataframe\">\n",
       "  <thead>\n",
       "    <tr style=\"text-align: right;\">\n",
       "      <th></th>\n",
       "      <th>A</th>\n",
       "      <th>C</th>\n",
       "    </tr>\n",
       "  </thead>\n",
       "  <tbody>\n",
       "    <tr>\n",
       "      <th>0</th>\n",
       "      <td>0.259463</td>\n",
       "      <td>-0.237166</td>\n",
       "    </tr>\n",
       "    <tr>\n",
       "      <th>1</th>\n",
       "      <td>2.232987</td>\n",
       "      <td>-1.226688</td>\n",
       "    </tr>\n",
       "    <tr>\n",
       "      <th>2</th>\n",
       "      <td>-1.474114</td>\n",
       "      <td>0.366803</td>\n",
       "    </tr>\n",
       "    <tr>\n",
       "      <th>3</th>\n",
       "      <td>-0.817520</td>\n",
       "      <td>0.877222</td>\n",
       "    </tr>\n",
       "    <tr>\n",
       "      <th>4</th>\n",
       "      <td>-0.392995</td>\n",
       "      <td>0.305524</td>\n",
       "    </tr>\n",
       "  </tbody>\n",
       "</table>\n",
       "</div>"
      ],
      "text/plain": [
       "          A         C\n",
       "0  0.259463 -0.237166\n",
       "1  2.232987 -1.226688\n",
       "2 -1.474114  0.366803\n",
       "3 -0.817520  0.877222\n",
       "4 -0.392995  0.305524"
      ]
     },
     "execution_count": 79,
     "metadata": {},
     "output_type": "execute_result"
    }
   ],
   "source": [
    "df.iloc[:, [0, 2]].head()"
   ]
  },
  {
   "cell_type": "markdown",
   "metadata": {},
   "source": [
    "Adding a new column to the data fame"
   ]
  },
  {
   "cell_type": "code",
   "execution_count": 69,
   "metadata": {},
   "outputs": [],
   "source": [
    "df_label = df.copy()\n",
    "labels = ['C1', 'C2', 'C3']\n",
    "df_label['label'] = [labels[np.random.randint(0,2)] for _ in range(len(df.index))]"
   ]
  },
  {
   "cell_type": "code",
   "execution_count": 63,
   "metadata": {},
   "outputs": [
    {
     "data": {
      "text/html": [
       "<div>\n",
       "<style scoped>\n",
       "    .dataframe tbody tr th:only-of-type {\n",
       "        vertical-align: middle;\n",
       "    }\n",
       "\n",
       "    .dataframe tbody tr th {\n",
       "        vertical-align: top;\n",
       "    }\n",
       "\n",
       "    .dataframe thead th {\n",
       "        text-align: right;\n",
       "    }\n",
       "</style>\n",
       "<table border=\"1\" class=\"dataframe\">\n",
       "  <thead>\n",
       "    <tr style=\"text-align: right;\">\n",
       "      <th></th>\n",
       "      <th>A</th>\n",
       "      <th>B</th>\n",
       "      <th>C</th>\n",
       "      <th>D</th>\n",
       "      <th>label</th>\n",
       "    </tr>\n",
       "  </thead>\n",
       "  <tbody>\n",
       "    <tr>\n",
       "      <th>0</th>\n",
       "      <td>0.259463</td>\n",
       "      <td>-0.768150</td>\n",
       "      <td>-0.237166</td>\n",
       "      <td>-0.576089</td>\n",
       "      <td>C1</td>\n",
       "    </tr>\n",
       "    <tr>\n",
       "      <th>1</th>\n",
       "      <td>2.232987</td>\n",
       "      <td>0.863337</td>\n",
       "      <td>-1.226688</td>\n",
       "      <td>0.132381</td>\n",
       "      <td>C2</td>\n",
       "    </tr>\n",
       "    <tr>\n",
       "      <th>2</th>\n",
       "      <td>-1.474114</td>\n",
       "      <td>1.044215</td>\n",
       "      <td>0.366803</td>\n",
       "      <td>0.878836</td>\n",
       "      <td>C3</td>\n",
       "    </tr>\n",
       "    <tr>\n",
       "      <th>3</th>\n",
       "      <td>-0.817520</td>\n",
       "      <td>-0.140514</td>\n",
       "      <td>0.877222</td>\n",
       "      <td>-0.363676</td>\n",
       "      <td>C1</td>\n",
       "    </tr>\n",
       "    <tr>\n",
       "      <th>4</th>\n",
       "      <td>-0.392995</td>\n",
       "      <td>-1.769035</td>\n",
       "      <td>0.305524</td>\n",
       "      <td>0.741395</td>\n",
       "      <td>C1</td>\n",
       "    </tr>\n",
       "  </tbody>\n",
       "</table>\n",
       "</div>"
      ],
      "text/plain": [
       "          A         B         C         D label\n",
       "0  0.259463 -0.768150 -0.237166 -0.576089    C1\n",
       "1  2.232987  0.863337 -1.226688  0.132381    C2\n",
       "2 -1.474114  1.044215  0.366803  0.878836    C3\n",
       "3 -0.817520 -0.140514  0.877222 -0.363676    C1\n",
       "4 -0.392995 -1.769035  0.305524  0.741395    C1"
      ]
     },
     "execution_count": 63,
     "metadata": {},
     "output_type": "execute_result"
    }
   ],
   "source": [
    "df_label.head()"
   ]
  },
  {
   "cell_type": "markdown",
   "metadata": {},
   "source": [
    "Apart from the simple statistics provided by the describe method, \n",
    "it is also possible to extract individual statistics and for specific collumns.\n",
    "For example:"
   ]
  },
  {
   "cell_type": "code",
   "execution_count": 65,
   "metadata": {},
   "outputs": [
    {
     "data": {
      "text/plain": [
       "A    0.085697\n",
       "B   -0.131478\n",
       "C    0.002769\n",
       "D    0.034910\n",
       "dtype: float64"
      ]
     },
     "execution_count": 65,
     "metadata": {},
     "output_type": "execute_result"
    }
   ],
   "source": [
    "# consider only the index (lines), which is the default option\n",
    "# It would give the same result if df_label.mean(0) would be executed\n",
    "df_label.mean()"
   ]
  },
  {
   "cell_type": "code",
   "execution_count": 56,
   "metadata": {},
   "outputs": [
    {
     "data": {
      "text/plain": [
       "0   -0.330485\n",
       "1    0.500504\n",
       "2    0.203935\n",
       "3   -0.111122\n",
       "4   -0.278778\n",
       "dtype: float64"
      ]
     },
     "execution_count": 56,
     "metadata": {},
     "output_type": "execute_result"
    }
   ],
   "source": [
    "# consider only axis 1 (columns) -- only numerical columns\n",
    "df_label.mean(1).head()"
   ]
  },
  {
   "cell_type": "markdown",
   "metadata": {},
   "source": [
    "One can eve apply functions to the data in the data frame, such as:"
   ]
  },
  {
   "cell_type": "code",
   "execution_count": 59,
   "metadata": {},
   "outputs": [
    {
     "data": {
      "text/plain": [
       "A        2.23299\n",
       "B        2.45063\n",
       "C        2.58561\n",
       "D        2.23166\n",
       "lable         C3\n",
       "dtype: object"
      ]
     },
     "execution_count": 59,
     "metadata": {},
     "output_type": "execute_result"
    }
   ],
   "source": [
    "df_label.apply(lambda x: x.max())"
   ]
  },
  {
   "cell_type": "code",
   "execution_count": 70,
   "metadata": {},
   "outputs": [
    {
     "data": {
      "text/plain": [
       "array(['C1', 'C2'], dtype=object)"
      ]
     },
     "execution_count": 70,
     "metadata": {},
     "output_type": "execute_result"
    }
   ],
   "source": [
    "df_label['label'].unique()"
   ]
  },
  {
   "cell_type": "markdown",
   "metadata": {},
   "source": [
    "We can even generate some simple charts based on the dataframe at hand. Let's see and example:"
   ]
  },
  {
   "cell_type": "code",
   "execution_count": 72,
   "metadata": {},
   "outputs": [
    {
     "data": {
      "text/plain": [
       "<matplotlib.axes._subplots.AxesSubplot at 0x1072f8748>"
      ]
     },
     "execution_count": 72,
     "metadata": {},
     "output_type": "execute_result"
    },
    {
     "data": {
      "image/png": "[encoded data removed]",
      "text/plain": [
       "<Figure size 432x288 with 1 Axes>"
      ]
     },
     "metadata": {},
     "output_type": "display_data"
    }
   ],
   "source": [
    "df_label.plot()"
   ]
  },
  {
   "cell_type": "markdown",
   "metadata": {},
   "source": [
    "Observe the chart does not contain information about the `label` column, since it is not numeric.\n",
    "Another simple example, this time using a different `kind` of chart and based on the mean statistic on each column of the dataframe:"
   ]
  },
  {
   "cell_type": "code",
   "execution_count": 95,
   "metadata": {},
   "outputs": [
    {
     "data": {
      "text/plain": [
       "<matplotlib.axes._subplots.AxesSubplot at 0x112f89fd0>"
      ]
     },
     "execution_count": 95,
     "metadata": {},
     "output_type": "execute_result"
    },
    {
     "data": {
      "image/png": "[encoded data removed]",
      "text/plain": [
       "<Figure size 432x288 with 1 Axes>"
      ]
     },
     "metadata": {},
     "output_type": "display_data"
    }
   ],
   "source": [
    "df.mean(axis=0).plot(kind=\"bar\")"
   ]
  },
  {
   "cell_type": "code",
   "execution_count": null,
   "metadata": {},
   "outputs": [],
   "source": []
  },
  {
   "cell_type": "code",
   "execution_count": null,
   "metadata": {},
   "outputs": [],
   "source": []
  }
 ],
 "metadata": {
  "kernelspec": {
   "display_name": "Python 3",
   "language": "python",
   "name": "python3"
  },
  "language_info": {
   "codemirror_mode": {
    "name": "ipython",
    "version": 3
   },
   "file_extension": ".py",
   "mimetype": "text/x-python",
   "name": "python",
   "nbconvert_exporter": "python",
   "pygments_lexer": "ipython3",
   "version": "3.6.5"
  }
 },
 "nbformat": 4,
 "nbformat_minor": 2
}
